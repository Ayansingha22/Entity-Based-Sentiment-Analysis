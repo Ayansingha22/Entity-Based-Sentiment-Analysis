{
  "nbformat": 4,
  "nbformat_minor": 0,
  "metadata": {
    "colab": {
      "provenance": [],
      "gpuType": "T4",
      "authorship_tag": "ABX9TyPFDj7erPi1ZnXUcMLSk8A0"
    },
    "kernelspec": {
      "name": "python3",
      "display_name": "Python 3"
    },
    "language_info": {
      "name": "python"
    },
    "widgets": {
      "application/vnd.jupyter.widget-state+json": {
        "2d9aeeb1cca74376986c9ffde92ca533": {
          "model_module": "@jupyter-widgets/controls",
          "model_name": "HBoxModel",
          "model_module_version": "1.5.0",
          "state": {
            "_dom_classes": [],
            "_model_module": "@jupyter-widgets/controls",
            "_model_module_version": "1.5.0",
            "_model_name": "HBoxModel",
            "_view_count": null,
            "_view_module": "@jupyter-widgets/controls",
            "_view_module_version": "1.5.0",
            "_view_name": "HBoxView",
            "box_style": "",
            "children": [
              "IPY_MODEL_fe9cc087a58b4d78bc668daf9c1eac48",
              "IPY_MODEL_22bf6557080a4a2c9588dcf2250252a9",
              "IPY_MODEL_0d18d32cad0742e7a096532589da0ac2"
            ],
            "layout": "IPY_MODEL_fa3416d8f82a439fb157a875b5fe7988"
          }
        },
        "fe9cc087a58b4d78bc668daf9c1eac48": {
          "model_module": "@jupyter-widgets/controls",
          "model_name": "HTMLModel",
          "model_module_version": "1.5.0",
          "state": {
            "_dom_classes": [],
            "_model_module": "@jupyter-widgets/controls",
            "_model_module_version": "1.5.0",
            "_model_name": "HTMLModel",
            "_view_count": null,
            "_view_module": "@jupyter-widgets/controls",
            "_view_module_version": "1.5.0",
            "_view_name": "HTMLView",
            "description": "",
            "description_tooltip": null,
            "layout": "IPY_MODEL_a499445d27144af884f7e5af5097430a",
            "placeholder": "​",
            "style": "IPY_MODEL_25011e0ce3e64d578840b36affafa45a",
            "value": "tokenizer_config.json: 100%"
          }
        },
        "22bf6557080a4a2c9588dcf2250252a9": {
          "model_module": "@jupyter-widgets/controls",
          "model_name": "FloatProgressModel",
          "model_module_version": "1.5.0",
          "state": {
            "_dom_classes": [],
            "_model_module": "@jupyter-widgets/controls",
            "_model_module_version": "1.5.0",
            "_model_name": "FloatProgressModel",
            "_view_count": null,
            "_view_module": "@jupyter-widgets/controls",
            "_view_module_version": "1.5.0",
            "_view_name": "ProgressView",
            "bar_style": "success",
            "description": "",
            "description_tooltip": null,
            "layout": "IPY_MODEL_07cfef8e547a4964923e44ce985a865a",
            "max": 48,
            "min": 0,
            "orientation": "horizontal",
            "style": "IPY_MODEL_0edea323e73d4dd5bd5db255a2ebd59c",
            "value": 48
          }
        },
        "0d18d32cad0742e7a096532589da0ac2": {
          "model_module": "@jupyter-widgets/controls",
          "model_name": "HTMLModel",
          "model_module_version": "1.5.0",
          "state": {
            "_dom_classes": [],
            "_model_module": "@jupyter-widgets/controls",
            "_model_module_version": "1.5.0",
            "_model_name": "HTMLModel",
            "_view_count": null,
            "_view_module": "@jupyter-widgets/controls",
            "_view_module_version": "1.5.0",
            "_view_name": "HTMLView",
            "description": "",
            "description_tooltip": null,
            "layout": "IPY_MODEL_f6c4632ae52a4c998ad93d8b1223357f",
            "placeholder": "​",
            "style": "IPY_MODEL_b528ae8ac7b14c74927adf447593439d",
            "value": " 48.0/48.0 [00:00&lt;00:00, 2.82kB/s]"
          }
        },
        "fa3416d8f82a439fb157a875b5fe7988": {
          "model_module": "@jupyter-widgets/base",
          "model_name": "LayoutModel",
          "model_module_version": "1.2.0",
          "state": {
            "_model_module": "@jupyter-widgets/base",
            "_model_module_version": "1.2.0",
            "_model_name": "LayoutModel",
            "_view_count": null,
            "_view_module": "@jupyter-widgets/base",
            "_view_module_version": "1.2.0",
            "_view_name": "LayoutView",
            "align_content": null,
            "align_items": null,
            "align_self": null,
            "border": null,
            "bottom": null,
            "display": null,
            "flex": null,
            "flex_flow": null,
            "grid_area": null,
            "grid_auto_columns": null,
            "grid_auto_flow": null,
            "grid_auto_rows": null,
            "grid_column": null,
            "grid_gap": null,
            "grid_row": null,
            "grid_template_areas": null,
            "grid_template_columns": null,
            "grid_template_rows": null,
            "height": null,
            "justify_content": null,
            "justify_items": null,
            "left": null,
            "margin": null,
            "max_height": null,
            "max_width": null,
            "min_height": null,
            "min_width": null,
            "object_fit": null,
            "object_position": null,
            "order": null,
            "overflow": null,
            "overflow_x": null,
            "overflow_y": null,
            "padding": null,
            "right": null,
            "top": null,
            "visibility": null,
            "width": null
          }
        },
        "a499445d27144af884f7e5af5097430a": {
          "model_module": "@jupyter-widgets/base",
          "model_name": "LayoutModel",
          "model_module_version": "1.2.0",
          "state": {
            "_model_module": "@jupyter-widgets/base",
            "_model_module_version": "1.2.0",
            "_model_name": "LayoutModel",
            "_view_count": null,
            "_view_module": "@jupyter-widgets/base",
            "_view_module_version": "1.2.0",
            "_view_name": "LayoutView",
            "align_content": null,
            "align_items": null,
            "align_self": null,
            "border": null,
            "bottom": null,
            "display": null,
            "flex": null,
            "flex_flow": null,
            "grid_area": null,
            "grid_auto_columns": null,
            "grid_auto_flow": null,
            "grid_auto_rows": null,
            "grid_column": null,
            "grid_gap": null,
            "grid_row": null,
            "grid_template_areas": null,
            "grid_template_columns": null,
            "grid_template_rows": null,
            "height": null,
            "justify_content": null,
            "justify_items": null,
            "left": null,
            "margin": null,
            "max_height": null,
            "max_width": null,
            "min_height": null,
            "min_width": null,
            "object_fit": null,
            "object_position": null,
            "order": null,
            "overflow": null,
            "overflow_x": null,
            "overflow_y": null,
            "padding": null,
            "right": null,
            "top": null,
            "visibility": null,
            "width": null
          }
        },
        "25011e0ce3e64d578840b36affafa45a": {
          "model_module": "@jupyter-widgets/controls",
          "model_name": "DescriptionStyleModel",
          "model_module_version": "1.5.0",
          "state": {
            "_model_module": "@jupyter-widgets/controls",
            "_model_module_version": "1.5.0",
            "_model_name": "DescriptionStyleModel",
            "_view_count": null,
            "_view_module": "@jupyter-widgets/base",
            "_view_module_version": "1.2.0",
            "_view_name": "StyleView",
            "description_width": ""
          }
        },
        "07cfef8e547a4964923e44ce985a865a": {
          "model_module": "@jupyter-widgets/base",
          "model_name": "LayoutModel",
          "model_module_version": "1.2.0",
          "state": {
            "_model_module": "@jupyter-widgets/base",
            "_model_module_version": "1.2.0",
            "_model_name": "LayoutModel",
            "_view_count": null,
            "_view_module": "@jupyter-widgets/base",
            "_view_module_version": "1.2.0",
            "_view_name": "LayoutView",
            "align_content": null,
            "align_items": null,
            "align_self": null,
            "border": null,
            "bottom": null,
            "display": null,
            "flex": null,
            "flex_flow": null,
            "grid_area": null,
            "grid_auto_columns": null,
            "grid_auto_flow": null,
            "grid_auto_rows": null,
            "grid_column": null,
            "grid_gap": null,
            "grid_row": null,
            "grid_template_areas": null,
            "grid_template_columns": null,
            "grid_template_rows": null,
            "height": null,
            "justify_content": null,
            "justify_items": null,
            "left": null,
            "margin": null,
            "max_height": null,
            "max_width": null,
            "min_height": null,
            "min_width": null,
            "object_fit": null,
            "object_position": null,
            "order": null,
            "overflow": null,
            "overflow_x": null,
            "overflow_y": null,
            "padding": null,
            "right": null,
            "top": null,
            "visibility": null,
            "width": null
          }
        },
        "0edea323e73d4dd5bd5db255a2ebd59c": {
          "model_module": "@jupyter-widgets/controls",
          "model_name": "ProgressStyleModel",
          "model_module_version": "1.5.0",
          "state": {
            "_model_module": "@jupyter-widgets/controls",
            "_model_module_version": "1.5.0",
            "_model_name": "ProgressStyleModel",
            "_view_count": null,
            "_view_module": "@jupyter-widgets/base",
            "_view_module_version": "1.2.0",
            "_view_name": "StyleView",
            "bar_color": null,
            "description_width": ""
          }
        },
        "f6c4632ae52a4c998ad93d8b1223357f": {
          "model_module": "@jupyter-widgets/base",
          "model_name": "LayoutModel",
          "model_module_version": "1.2.0",
          "state": {
            "_model_module": "@jupyter-widgets/base",
            "_model_module_version": "1.2.0",
            "_model_name": "LayoutModel",
            "_view_count": null,
            "_view_module": "@jupyter-widgets/base",
            "_view_module_version": "1.2.0",
            "_view_name": "LayoutView",
            "align_content": null,
            "align_items": null,
            "align_self": null,
            "border": null,
            "bottom": null,
            "display": null,
            "flex": null,
            "flex_flow": null,
            "grid_area": null,
            "grid_auto_columns": null,
            "grid_auto_flow": null,
            "grid_auto_rows": null,
            "grid_column": null,
            "grid_gap": null,
            "grid_row": null,
            "grid_template_areas": null,
            "grid_template_columns": null,
            "grid_template_rows": null,
            "height": null,
            "justify_content": null,
            "justify_items": null,
            "left": null,
            "margin": null,
            "max_height": null,
            "max_width": null,
            "min_height": null,
            "min_width": null,
            "object_fit": null,
            "object_position": null,
            "order": null,
            "overflow": null,
            "overflow_x": null,
            "overflow_y": null,
            "padding": null,
            "right": null,
            "top": null,
            "visibility": null,
            "width": null
          }
        },
        "b528ae8ac7b14c74927adf447593439d": {
          "model_module": "@jupyter-widgets/controls",
          "model_name": "DescriptionStyleModel",
          "model_module_version": "1.5.0",
          "state": {
            "_model_module": "@jupyter-widgets/controls",
            "_model_module_version": "1.5.0",
            "_model_name": "DescriptionStyleModel",
            "_view_count": null,
            "_view_module": "@jupyter-widgets/base",
            "_view_module_version": "1.2.0",
            "_view_name": "StyleView",
            "description_width": ""
          }
        },
        "753d79d0617d46b894f5ad03c401075c": {
          "model_module": "@jupyter-widgets/controls",
          "model_name": "HBoxModel",
          "model_module_version": "1.5.0",
          "state": {
            "_dom_classes": [],
            "_model_module": "@jupyter-widgets/controls",
            "_model_module_version": "1.5.0",
            "_model_name": "HBoxModel",
            "_view_count": null,
            "_view_module": "@jupyter-widgets/controls",
            "_view_module_version": "1.5.0",
            "_view_name": "HBoxView",
            "box_style": "",
            "children": [
              "IPY_MODEL_7ef35adcdea44b079fe4858b79227e0d",
              "IPY_MODEL_3940be55dd0d4309a37ea511ea991434",
              "IPY_MODEL_0a995afc58a141d8a39bcd8dce003ae2"
            ],
            "layout": "IPY_MODEL_f625b7318e36479196ee84f7bc1edec7"
          }
        },
        "7ef35adcdea44b079fe4858b79227e0d": {
          "model_module": "@jupyter-widgets/controls",
          "model_name": "HTMLModel",
          "model_module_version": "1.5.0",
          "state": {
            "_dom_classes": [],
            "_model_module": "@jupyter-widgets/controls",
            "_model_module_version": "1.5.0",
            "_model_name": "HTMLModel",
            "_view_count": null,
            "_view_module": "@jupyter-widgets/controls",
            "_view_module_version": "1.5.0",
            "_view_name": "HTMLView",
            "description": "",
            "description_tooltip": null,
            "layout": "IPY_MODEL_80c7ef3996374562900b0b49036cde0f",
            "placeholder": "​",
            "style": "IPY_MODEL_c6cf4aab237846c188af67b80dba2415",
            "value": "vocab.txt: 100%"
          }
        },
        "3940be55dd0d4309a37ea511ea991434": {
          "model_module": "@jupyter-widgets/controls",
          "model_name": "FloatProgressModel",
          "model_module_version": "1.5.0",
          "state": {
            "_dom_classes": [],
            "_model_module": "@jupyter-widgets/controls",
            "_model_module_version": "1.5.0",
            "_model_name": "FloatProgressModel",
            "_view_count": null,
            "_view_module": "@jupyter-widgets/controls",
            "_view_module_version": "1.5.0",
            "_view_name": "ProgressView",
            "bar_style": "success",
            "description": "",
            "description_tooltip": null,
            "layout": "IPY_MODEL_9bcf3a6eaf1d43d0a373512a382fb3d0",
            "max": 231508,
            "min": 0,
            "orientation": "horizontal",
            "style": "IPY_MODEL_6817ac69660945a0861438c89900d5b7",
            "value": 231508
          }
        },
        "0a995afc58a141d8a39bcd8dce003ae2": {
          "model_module": "@jupyter-widgets/controls",
          "model_name": "HTMLModel",
          "model_module_version": "1.5.0",
          "state": {
            "_dom_classes": [],
            "_model_module": "@jupyter-widgets/controls",
            "_model_module_version": "1.5.0",
            "_model_name": "HTMLModel",
            "_view_count": null,
            "_view_module": "@jupyter-widgets/controls",
            "_view_module_version": "1.5.0",
            "_view_name": "HTMLView",
            "description": "",
            "description_tooltip": null,
            "layout": "IPY_MODEL_5957434510c34d49998b34ee385920bf",
            "placeholder": "​",
            "style": "IPY_MODEL_ced00f0fe3d14bb4a9e6e40fd56c4db9",
            "value": " 232k/232k [00:00&lt;00:00, 2.92MB/s]"
          }
        },
        "f625b7318e36479196ee84f7bc1edec7": {
          "model_module": "@jupyter-widgets/base",
          "model_name": "LayoutModel",
          "model_module_version": "1.2.0",
          "state": {
            "_model_module": "@jupyter-widgets/base",
            "_model_module_version": "1.2.0",
            "_model_name": "LayoutModel",
            "_view_count": null,
            "_view_module": "@jupyter-widgets/base",
            "_view_module_version": "1.2.0",
            "_view_name": "LayoutView",
            "align_content": null,
            "align_items": null,
            "align_self": null,
            "border": null,
            "bottom": null,
            "display": null,
            "flex": null,
            "flex_flow": null,
            "grid_area": null,
            "grid_auto_columns": null,
            "grid_auto_flow": null,
            "grid_auto_rows": null,
            "grid_column": null,
            "grid_gap": null,
            "grid_row": null,
            "grid_template_areas": null,
            "grid_template_columns": null,
            "grid_template_rows": null,
            "height": null,
            "justify_content": null,
            "justify_items": null,
            "left": null,
            "margin": null,
            "max_height": null,
            "max_width": null,
            "min_height": null,
            "min_width": null,
            "object_fit": null,
            "object_position": null,
            "order": null,
            "overflow": null,
            "overflow_x": null,
            "overflow_y": null,
            "padding": null,
            "right": null,
            "top": null,
            "visibility": null,
            "width": null
          }
        },
        "80c7ef3996374562900b0b49036cde0f": {
          "model_module": "@jupyter-widgets/base",
          "model_name": "LayoutModel",
          "model_module_version": "1.2.0",
          "state": {
            "_model_module": "@jupyter-widgets/base",
            "_model_module_version": "1.2.0",
            "_model_name": "LayoutModel",
            "_view_count": null,
            "_view_module": "@jupyter-widgets/base",
            "_view_module_version": "1.2.0",
            "_view_name": "LayoutView",
            "align_content": null,
            "align_items": null,
            "align_self": null,
            "border": null,
            "bottom": null,
            "display": null,
            "flex": null,
            "flex_flow": null,
            "grid_area": null,
            "grid_auto_columns": null,
            "grid_auto_flow": null,
            "grid_auto_rows": null,
            "grid_column": null,
            "grid_gap": null,
            "grid_row": null,
            "grid_template_areas": null,
            "grid_template_columns": null,
            "grid_template_rows": null,
            "height": null,
            "justify_content": null,
            "justify_items": null,
            "left": null,
            "margin": null,
            "max_height": null,
            "max_width": null,
            "min_height": null,
            "min_width": null,
            "object_fit": null,
            "object_position": null,
            "order": null,
            "overflow": null,
            "overflow_x": null,
            "overflow_y": null,
            "padding": null,
            "right": null,
            "top": null,
            "visibility": null,
            "width": null
          }
        },
        "c6cf4aab237846c188af67b80dba2415": {
          "model_module": "@jupyter-widgets/controls",
          "model_name": "DescriptionStyleModel",
          "model_module_version": "1.5.0",
          "state": {
            "_model_module": "@jupyter-widgets/controls",
            "_model_module_version": "1.5.0",
            "_model_name": "DescriptionStyleModel",
            "_view_count": null,
            "_view_module": "@jupyter-widgets/base",
            "_view_module_version": "1.2.0",
            "_view_name": "StyleView",
            "description_width": ""
          }
        },
        "9bcf3a6eaf1d43d0a373512a382fb3d0": {
          "model_module": "@jupyter-widgets/base",
          "model_name": "LayoutModel",
          "model_module_version": "1.2.0",
          "state": {
            "_model_module": "@jupyter-widgets/base",
            "_model_module_version": "1.2.0",
            "_model_name": "LayoutModel",
            "_view_count": null,
            "_view_module": "@jupyter-widgets/base",
            "_view_module_version": "1.2.0",
            "_view_name": "LayoutView",
            "align_content": null,
            "align_items": null,
            "align_self": null,
            "border": null,
            "bottom": null,
            "display": null,
            "flex": null,
            "flex_flow": null,
            "grid_area": null,
            "grid_auto_columns": null,
            "grid_auto_flow": null,
            "grid_auto_rows": null,
            "grid_column": null,
            "grid_gap": null,
            "grid_row": null,
            "grid_template_areas": null,
            "grid_template_columns": null,
            "grid_template_rows": null,
            "height": null,
            "justify_content": null,
            "justify_items": null,
            "left": null,
            "margin": null,
            "max_height": null,
            "max_width": null,
            "min_height": null,
            "min_width": null,
            "object_fit": null,
            "object_position": null,
            "order": null,
            "overflow": null,
            "overflow_x": null,
            "overflow_y": null,
            "padding": null,
            "right": null,
            "top": null,
            "visibility": null,
            "width": null
          }
        },
        "6817ac69660945a0861438c89900d5b7": {
          "model_module": "@jupyter-widgets/controls",
          "model_name": "ProgressStyleModel",
          "model_module_version": "1.5.0",
          "state": {
            "_model_module": "@jupyter-widgets/controls",
            "_model_module_version": "1.5.0",
            "_model_name": "ProgressStyleModel",
            "_view_count": null,
            "_view_module": "@jupyter-widgets/base",
            "_view_module_version": "1.2.0",
            "_view_name": "StyleView",
            "bar_color": null,
            "description_width": ""
          }
        },
        "5957434510c34d49998b34ee385920bf": {
          "model_module": "@jupyter-widgets/base",
          "model_name": "LayoutModel",
          "model_module_version": "1.2.0",
          "state": {
            "_model_module": "@jupyter-widgets/base",
            "_model_module_version": "1.2.0",
            "_model_name": "LayoutModel",
            "_view_count": null,
            "_view_module": "@jupyter-widgets/base",
            "_view_module_version": "1.2.0",
            "_view_name": "LayoutView",
            "align_content": null,
            "align_items": null,
            "align_self": null,
            "border": null,
            "bottom": null,
            "display": null,
            "flex": null,
            "flex_flow": null,
            "grid_area": null,
            "grid_auto_columns": null,
            "grid_auto_flow": null,
            "grid_auto_rows": null,
            "grid_column": null,
            "grid_gap": null,
            "grid_row": null,
            "grid_template_areas": null,
            "grid_template_columns": null,
            "grid_template_rows": null,
            "height": null,
            "justify_content": null,
            "justify_items": null,
            "left": null,
            "margin": null,
            "max_height": null,
            "max_width": null,
            "min_height": null,
            "min_width": null,
            "object_fit": null,
            "object_position": null,
            "order": null,
            "overflow": null,
            "overflow_x": null,
            "overflow_y": null,
            "padding": null,
            "right": null,
            "top": null,
            "visibility": null,
            "width": null
          }
        },
        "ced00f0fe3d14bb4a9e6e40fd56c4db9": {
          "model_module": "@jupyter-widgets/controls",
          "model_name": "DescriptionStyleModel",
          "model_module_version": "1.5.0",
          "state": {
            "_model_module": "@jupyter-widgets/controls",
            "_model_module_version": "1.5.0",
            "_model_name": "DescriptionStyleModel",
            "_view_count": null,
            "_view_module": "@jupyter-widgets/base",
            "_view_module_version": "1.2.0",
            "_view_name": "StyleView",
            "description_width": ""
          }
        },
        "1c2ab10857654f6fbcce191584dd2ae9": {
          "model_module": "@jupyter-widgets/controls",
          "model_name": "HBoxModel",
          "model_module_version": "1.5.0",
          "state": {
            "_dom_classes": [],
            "_model_module": "@jupyter-widgets/controls",
            "_model_module_version": "1.5.0",
            "_model_name": "HBoxModel",
            "_view_count": null,
            "_view_module": "@jupyter-widgets/controls",
            "_view_module_version": "1.5.0",
            "_view_name": "HBoxView",
            "box_style": "",
            "children": [
              "IPY_MODEL_846334b7d2294dc0aa9aaae8a2ce4204",
              "IPY_MODEL_0a7e08f5491c4ed48acfce8c9e367f18",
              "IPY_MODEL_d0de856ea5ce4660b7c90ec572beb450"
            ],
            "layout": "IPY_MODEL_f11949616d5a4132994495202d2d004c"
          }
        },
        "846334b7d2294dc0aa9aaae8a2ce4204": {
          "model_module": "@jupyter-widgets/controls",
          "model_name": "HTMLModel",
          "model_module_version": "1.5.0",
          "state": {
            "_dom_classes": [],
            "_model_module": "@jupyter-widgets/controls",
            "_model_module_version": "1.5.0",
            "_model_name": "HTMLModel",
            "_view_count": null,
            "_view_module": "@jupyter-widgets/controls",
            "_view_module_version": "1.5.0",
            "_view_name": "HTMLView",
            "description": "",
            "description_tooltip": null,
            "layout": "IPY_MODEL_c21d284f32f544b684fe3591a6015283",
            "placeholder": "​",
            "style": "IPY_MODEL_eff13e773e5d42c491226721868e6537",
            "value": "tokenizer.json: 100%"
          }
        },
        "0a7e08f5491c4ed48acfce8c9e367f18": {
          "model_module": "@jupyter-widgets/controls",
          "model_name": "FloatProgressModel",
          "model_module_version": "1.5.0",
          "state": {
            "_dom_classes": [],
            "_model_module": "@jupyter-widgets/controls",
            "_model_module_version": "1.5.0",
            "_model_name": "FloatProgressModel",
            "_view_count": null,
            "_view_module": "@jupyter-widgets/controls",
            "_view_module_version": "1.5.0",
            "_view_name": "ProgressView",
            "bar_style": "success",
            "description": "",
            "description_tooltip": null,
            "layout": "IPY_MODEL_b20eb754447647668be4397c0ecbcb96",
            "max": 466062,
            "min": 0,
            "orientation": "horizontal",
            "style": "IPY_MODEL_857c011cc1564575aed1c974bf3b93d7",
            "value": 466062
          }
        },
        "d0de856ea5ce4660b7c90ec572beb450": {
          "model_module": "@jupyter-widgets/controls",
          "model_name": "HTMLModel",
          "model_module_version": "1.5.0",
          "state": {
            "_dom_classes": [],
            "_model_module": "@jupyter-widgets/controls",
            "_model_module_version": "1.5.0",
            "_model_name": "HTMLModel",
            "_view_count": null,
            "_view_module": "@jupyter-widgets/controls",
            "_view_module_version": "1.5.0",
            "_view_name": "HTMLView",
            "description": "",
            "description_tooltip": null,
            "layout": "IPY_MODEL_fa3d4b07241e4823b9bfed62cb833fb3",
            "placeholder": "​",
            "style": "IPY_MODEL_e303af08fdf14ec887448e8afb2edf40",
            "value": " 466k/466k [00:00&lt;00:00, 15.7MB/s]"
          }
        },
        "f11949616d5a4132994495202d2d004c": {
          "model_module": "@jupyter-widgets/base",
          "model_name": "LayoutModel",
          "model_module_version": "1.2.0",
          "state": {
            "_model_module": "@jupyter-widgets/base",
            "_model_module_version": "1.2.0",
            "_model_name": "LayoutModel",
            "_view_count": null,
            "_view_module": "@jupyter-widgets/base",
            "_view_module_version": "1.2.0",
            "_view_name": "LayoutView",
            "align_content": null,
            "align_items": null,
            "align_self": null,
            "border": null,
            "bottom": null,
            "display": null,
            "flex": null,
            "flex_flow": null,
            "grid_area": null,
            "grid_auto_columns": null,
            "grid_auto_flow": null,
            "grid_auto_rows": null,
            "grid_column": null,
            "grid_gap": null,
            "grid_row": null,
            "grid_template_areas": null,
            "grid_template_columns": null,
            "grid_template_rows": null,
            "height": null,
            "justify_content": null,
            "justify_items": null,
            "left": null,
            "margin": null,
            "max_height": null,
            "max_width": null,
            "min_height": null,
            "min_width": null,
            "object_fit": null,
            "object_position": null,
            "order": null,
            "overflow": null,
            "overflow_x": null,
            "overflow_y": null,
            "padding": null,
            "right": null,
            "top": null,
            "visibility": null,
            "width": null
          }
        },
        "c21d284f32f544b684fe3591a6015283": {
          "model_module": "@jupyter-widgets/base",
          "model_name": "LayoutModel",
          "model_module_version": "1.2.0",
          "state": {
            "_model_module": "@jupyter-widgets/base",
            "_model_module_version": "1.2.0",
            "_model_name": "LayoutModel",
            "_view_count": null,
            "_view_module": "@jupyter-widgets/base",
            "_view_module_version": "1.2.0",
            "_view_name": "LayoutView",
            "align_content": null,
            "align_items": null,
            "align_self": null,
            "border": null,
            "bottom": null,
            "display": null,
            "flex": null,
            "flex_flow": null,
            "grid_area": null,
            "grid_auto_columns": null,
            "grid_auto_flow": null,
            "grid_auto_rows": null,
            "grid_column": null,
            "grid_gap": null,
            "grid_row": null,
            "grid_template_areas": null,
            "grid_template_columns": null,
            "grid_template_rows": null,
            "height": null,
            "justify_content": null,
            "justify_items": null,
            "left": null,
            "margin": null,
            "max_height": null,
            "max_width": null,
            "min_height": null,
            "min_width": null,
            "object_fit": null,
            "object_position": null,
            "order": null,
            "overflow": null,
            "overflow_x": null,
            "overflow_y": null,
            "padding": null,
            "right": null,
            "top": null,
            "visibility": null,
            "width": null
          }
        },
        "eff13e773e5d42c491226721868e6537": {
          "model_module": "@jupyter-widgets/controls",
          "model_name": "DescriptionStyleModel",
          "model_module_version": "1.5.0",
          "state": {
            "_model_module": "@jupyter-widgets/controls",
            "_model_module_version": "1.5.0",
            "_model_name": "DescriptionStyleModel",
            "_view_count": null,
            "_view_module": "@jupyter-widgets/base",
            "_view_module_version": "1.2.0",
            "_view_name": "StyleView",
            "description_width": ""
          }
        },
        "b20eb754447647668be4397c0ecbcb96": {
          "model_module": "@jupyter-widgets/base",
          "model_name": "LayoutModel",
          "model_module_version": "1.2.0",
          "state": {
            "_model_module": "@jupyter-widgets/base",
            "_model_module_version": "1.2.0",
            "_model_name": "LayoutModel",
            "_view_count": null,
            "_view_module": "@jupyter-widgets/base",
            "_view_module_version": "1.2.0",
            "_view_name": "LayoutView",
            "align_content": null,
            "align_items": null,
            "align_self": null,
            "border": null,
            "bottom": null,
            "display": null,
            "flex": null,
            "flex_flow": null,
            "grid_area": null,
            "grid_auto_columns": null,
            "grid_auto_flow": null,
            "grid_auto_rows": null,
            "grid_column": null,
            "grid_gap": null,
            "grid_row": null,
            "grid_template_areas": null,
            "grid_template_columns": null,
            "grid_template_rows": null,
            "height": null,
            "justify_content": null,
            "justify_items": null,
            "left": null,
            "margin": null,
            "max_height": null,
            "max_width": null,
            "min_height": null,
            "min_width": null,
            "object_fit": null,
            "object_position": null,
            "order": null,
            "overflow": null,
            "overflow_x": null,
            "overflow_y": null,
            "padding": null,
            "right": null,
            "top": null,
            "visibility": null,
            "width": null
          }
        },
        "857c011cc1564575aed1c974bf3b93d7": {
          "model_module": "@jupyter-widgets/controls",
          "model_name": "ProgressStyleModel",
          "model_module_version": "1.5.0",
          "state": {
            "_model_module": "@jupyter-widgets/controls",
            "_model_module_version": "1.5.0",
            "_model_name": "ProgressStyleModel",
            "_view_count": null,
            "_view_module": "@jupyter-widgets/base",
            "_view_module_version": "1.2.0",
            "_view_name": "StyleView",
            "bar_color": null,
            "description_width": ""
          }
        },
        "fa3d4b07241e4823b9bfed62cb833fb3": {
          "model_module": "@jupyter-widgets/base",
          "model_name": "LayoutModel",
          "model_module_version": "1.2.0",
          "state": {
            "_model_module": "@jupyter-widgets/base",
            "_model_module_version": "1.2.0",
            "_model_name": "LayoutModel",
            "_view_count": null,
            "_view_module": "@jupyter-widgets/base",
            "_view_module_version": "1.2.0",
            "_view_name": "LayoutView",
            "align_content": null,
            "align_items": null,
            "align_self": null,
            "border": null,
            "bottom": null,
            "display": null,
            "flex": null,
            "flex_flow": null,
            "grid_area": null,
            "grid_auto_columns": null,
            "grid_auto_flow": null,
            "grid_auto_rows": null,
            "grid_column": null,
            "grid_gap": null,
            "grid_row": null,
            "grid_template_areas": null,
            "grid_template_columns": null,
            "grid_template_rows": null,
            "height": null,
            "justify_content": null,
            "justify_items": null,
            "left": null,
            "margin": null,
            "max_height": null,
            "max_width": null,
            "min_height": null,
            "min_width": null,
            "object_fit": null,
            "object_position": null,
            "order": null,
            "overflow": null,
            "overflow_x": null,
            "overflow_y": null,
            "padding": null,
            "right": null,
            "top": null,
            "visibility": null,
            "width": null
          }
        },
        "e303af08fdf14ec887448e8afb2edf40": {
          "model_module": "@jupyter-widgets/controls",
          "model_name": "DescriptionStyleModel",
          "model_module_version": "1.5.0",
          "state": {
            "_model_module": "@jupyter-widgets/controls",
            "_model_module_version": "1.5.0",
            "_model_name": "DescriptionStyleModel",
            "_view_count": null,
            "_view_module": "@jupyter-widgets/base",
            "_view_module_version": "1.2.0",
            "_view_name": "StyleView",
            "description_width": ""
          }
        },
        "ca123aa0f94447b391b92af1e301603d": {
          "model_module": "@jupyter-widgets/controls",
          "model_name": "HBoxModel",
          "model_module_version": "1.5.0",
          "state": {
            "_dom_classes": [],
            "_model_module": "@jupyter-widgets/controls",
            "_model_module_version": "1.5.0",
            "_model_name": "HBoxModel",
            "_view_count": null,
            "_view_module": "@jupyter-widgets/controls",
            "_view_module_version": "1.5.0",
            "_view_name": "HBoxView",
            "box_style": "",
            "children": [
              "IPY_MODEL_6683701c0b124423808481fb6be52061",
              "IPY_MODEL_1b1b84ed69b34ee29d3a7909c2aec032",
              "IPY_MODEL_a3b055dcb64a49fd8dd4e6a652a55277"
            ],
            "layout": "IPY_MODEL_af12201a5b654a08924180ef18827f8f"
          }
        },
        "6683701c0b124423808481fb6be52061": {
          "model_module": "@jupyter-widgets/controls",
          "model_name": "HTMLModel",
          "model_module_version": "1.5.0",
          "state": {
            "_dom_classes": [],
            "_model_module": "@jupyter-widgets/controls",
            "_model_module_version": "1.5.0",
            "_model_name": "HTMLModel",
            "_view_count": null,
            "_view_module": "@jupyter-widgets/controls",
            "_view_module_version": "1.5.0",
            "_view_name": "HTMLView",
            "description": "",
            "description_tooltip": null,
            "layout": "IPY_MODEL_4e0b7738eb584079a6b08f858cfc5852",
            "placeholder": "​",
            "style": "IPY_MODEL_141bcca4e07a49c08e079f1fc4305763",
            "value": "model.safetensors: 100%"
          }
        },
        "1b1b84ed69b34ee29d3a7909c2aec032": {
          "model_module": "@jupyter-widgets/controls",
          "model_name": "FloatProgressModel",
          "model_module_version": "1.5.0",
          "state": {
            "_dom_classes": [],
            "_model_module": "@jupyter-widgets/controls",
            "_model_module_version": "1.5.0",
            "_model_name": "FloatProgressModel",
            "_view_count": null,
            "_view_module": "@jupyter-widgets/controls",
            "_view_module_version": "1.5.0",
            "_view_name": "ProgressView",
            "bar_style": "success",
            "description": "",
            "description_tooltip": null,
            "layout": "IPY_MODEL_9026441181dd4404a14f86832023acd7",
            "max": 440449768,
            "min": 0,
            "orientation": "horizontal",
            "style": "IPY_MODEL_fe099e1f09e14f0f92249427c9862c0b",
            "value": 440449768
          }
        },
        "a3b055dcb64a49fd8dd4e6a652a55277": {
          "model_module": "@jupyter-widgets/controls",
          "model_name": "HTMLModel",
          "model_module_version": "1.5.0",
          "state": {
            "_dom_classes": [],
            "_model_module": "@jupyter-widgets/controls",
            "_model_module_version": "1.5.0",
            "_model_name": "HTMLModel",
            "_view_count": null,
            "_view_module": "@jupyter-widgets/controls",
            "_view_module_version": "1.5.0",
            "_view_name": "HTMLView",
            "description": "",
            "description_tooltip": null,
            "layout": "IPY_MODEL_5e9dbf737c2e4bccb268462eecb4a989",
            "placeholder": "​",
            "style": "IPY_MODEL_13efc0761a0c417cab786315200fc009",
            "value": " 440M/440M [00:02&lt;00:00, 227MB/s]"
          }
        },
        "af12201a5b654a08924180ef18827f8f": {
          "model_module": "@jupyter-widgets/base",
          "model_name": "LayoutModel",
          "model_module_version": "1.2.0",
          "state": {
            "_model_module": "@jupyter-widgets/base",
            "_model_module_version": "1.2.0",
            "_model_name": "LayoutModel",
            "_view_count": null,
            "_view_module": "@jupyter-widgets/base",
            "_view_module_version": "1.2.0",
            "_view_name": "LayoutView",
            "align_content": null,
            "align_items": null,
            "align_self": null,
            "border": null,
            "bottom": null,
            "display": null,
            "flex": null,
            "flex_flow": null,
            "grid_area": null,
            "grid_auto_columns": null,
            "grid_auto_flow": null,
            "grid_auto_rows": null,
            "grid_column": null,
            "grid_gap": null,
            "grid_row": null,
            "grid_template_areas": null,
            "grid_template_columns": null,
            "grid_template_rows": null,
            "height": null,
            "justify_content": null,
            "justify_items": null,
            "left": null,
            "margin": null,
            "max_height": null,
            "max_width": null,
            "min_height": null,
            "min_width": null,
            "object_fit": null,
            "object_position": null,
            "order": null,
            "overflow": null,
            "overflow_x": null,
            "overflow_y": null,
            "padding": null,
            "right": null,
            "top": null,
            "visibility": null,
            "width": null
          }
        },
        "4e0b7738eb584079a6b08f858cfc5852": {
          "model_module": "@jupyter-widgets/base",
          "model_name": "LayoutModel",
          "model_module_version": "1.2.0",
          "state": {
            "_model_module": "@jupyter-widgets/base",
            "_model_module_version": "1.2.0",
            "_model_name": "LayoutModel",
            "_view_count": null,
            "_view_module": "@jupyter-widgets/base",
            "_view_module_version": "1.2.0",
            "_view_name": "LayoutView",
            "align_content": null,
            "align_items": null,
            "align_self": null,
            "border": null,
            "bottom": null,
            "display": null,
            "flex": null,
            "flex_flow": null,
            "grid_area": null,
            "grid_auto_columns": null,
            "grid_auto_flow": null,
            "grid_auto_rows": null,
            "grid_column": null,
            "grid_gap": null,
            "grid_row": null,
            "grid_template_areas": null,
            "grid_template_columns": null,
            "grid_template_rows": null,
            "height": null,
            "justify_content": null,
            "justify_items": null,
            "left": null,
            "margin": null,
            "max_height": null,
            "max_width": null,
            "min_height": null,
            "min_width": null,
            "object_fit": null,
            "object_position": null,
            "order": null,
            "overflow": null,
            "overflow_x": null,
            "overflow_y": null,
            "padding": null,
            "right": null,
            "top": null,
            "visibility": null,
            "width": null
          }
        },
        "141bcca4e07a49c08e079f1fc4305763": {
          "model_module": "@jupyter-widgets/controls",
          "model_name": "DescriptionStyleModel",
          "model_module_version": "1.5.0",
          "state": {
            "_model_module": "@jupyter-widgets/controls",
            "_model_module_version": "1.5.0",
            "_model_name": "DescriptionStyleModel",
            "_view_count": null,
            "_view_module": "@jupyter-widgets/base",
            "_view_module_version": "1.2.0",
            "_view_name": "StyleView",
            "description_width": ""
          }
        },
        "9026441181dd4404a14f86832023acd7": {
          "model_module": "@jupyter-widgets/base",
          "model_name": "LayoutModel",
          "model_module_version": "1.2.0",
          "state": {
            "_model_module": "@jupyter-widgets/base",
            "_model_module_version": "1.2.0",
            "_model_name": "LayoutModel",
            "_view_count": null,
            "_view_module": "@jupyter-widgets/base",
            "_view_module_version": "1.2.0",
            "_view_name": "LayoutView",
            "align_content": null,
            "align_items": null,
            "align_self": null,
            "border": null,
            "bottom": null,
            "display": null,
            "flex": null,
            "flex_flow": null,
            "grid_area": null,
            "grid_auto_columns": null,
            "grid_auto_flow": null,
            "grid_auto_rows": null,
            "grid_column": null,
            "grid_gap": null,
            "grid_row": null,
            "grid_template_areas": null,
            "grid_template_columns": null,
            "grid_template_rows": null,
            "height": null,
            "justify_content": null,
            "justify_items": null,
            "left": null,
            "margin": null,
            "max_height": null,
            "max_width": null,
            "min_height": null,
            "min_width": null,
            "object_fit": null,
            "object_position": null,
            "order": null,
            "overflow": null,
            "overflow_x": null,
            "overflow_y": null,
            "padding": null,
            "right": null,
            "top": null,
            "visibility": null,
            "width": null
          }
        },
        "fe099e1f09e14f0f92249427c9862c0b": {
          "model_module": "@jupyter-widgets/controls",
          "model_name": "ProgressStyleModel",
          "model_module_version": "1.5.0",
          "state": {
            "_model_module": "@jupyter-widgets/controls",
            "_model_module_version": "1.5.0",
            "_model_name": "ProgressStyleModel",
            "_view_count": null,
            "_view_module": "@jupyter-widgets/base",
            "_view_module_version": "1.2.0",
            "_view_name": "StyleView",
            "bar_color": null,
            "description_width": ""
          }
        },
        "5e9dbf737c2e4bccb268462eecb4a989": {
          "model_module": "@jupyter-widgets/base",
          "model_name": "LayoutModel",
          "model_module_version": "1.2.0",
          "state": {
            "_model_module": "@jupyter-widgets/base",
            "_model_module_version": "1.2.0",
            "_model_name": "LayoutModel",
            "_view_count": null,
            "_view_module": "@jupyter-widgets/base",
            "_view_module_version": "1.2.0",
            "_view_name": "LayoutView",
            "align_content": null,
            "align_items": null,
            "align_self": null,
            "border": null,
            "bottom": null,
            "display": null,
            "flex": null,
            "flex_flow": null,
            "grid_area": null,
            "grid_auto_columns": null,
            "grid_auto_flow": null,
            "grid_auto_rows": null,
            "grid_column": null,
            "grid_gap": null,
            "grid_row": null,
            "grid_template_areas": null,
            "grid_template_columns": null,
            "grid_template_rows": null,
            "height": null,
            "justify_content": null,
            "justify_items": null,
            "left": null,
            "margin": null,
            "max_height": null,
            "max_width": null,
            "min_height": null,
            "min_width": null,
            "object_fit": null,
            "object_position": null,
            "order": null,
            "overflow": null,
            "overflow_x": null,
            "overflow_y": null,
            "padding": null,
            "right": null,
            "top": null,
            "visibility": null,
            "width": null
          }
        },
        "13efc0761a0c417cab786315200fc009": {
          "model_module": "@jupyter-widgets/controls",
          "model_name": "DescriptionStyleModel",
          "model_module_version": "1.5.0",
          "state": {
            "_model_module": "@jupyter-widgets/controls",
            "_model_module_version": "1.5.0",
            "_model_name": "DescriptionStyleModel",
            "_view_count": null,
            "_view_module": "@jupyter-widgets/base",
            "_view_module_version": "1.2.0",
            "_view_name": "StyleView",
            "description_width": ""
          }
        }
      }
    },
    "accelerator": "GPU"
  },
  "cells": [
    {
      "cell_type": "markdown",
      "source": [
        "**Mount Drive after creating folder Entity_Sentiment_Analysis in drive**"
      ],
      "metadata": {
        "id": "bL3o_Knv8kJm"
      }
    },
    {
      "cell_type": "code",
      "execution_count": 1,
      "metadata": {
        "colab": {
          "base_uri": "https://localhost:8080/"
        },
        "id": "bsRdLNLtONnb",
        "outputId": "c68bf057-ba95-45c4-96c0-f2d79964309f"
      },
      "outputs": [
        {
          "output_type": "stream",
          "name": "stdout",
          "text": [
            "Mounted at /content/drive\n"
          ]
        }
      ],
      "source": [
        "from google.colab import drive\n",
        "\n",
        "drive.mount('/content/drive')"
      ]
    },
    {
      "cell_type": "markdown",
      "source": [
        "**Install all the necessary files and dependencies**"
      ],
      "metadata": {
        "id": "7S1Umeoq8zTV"
      }
    },
    {
      "cell_type": "code",
      "source": [
        "!pip install pyabsa"
      ],
      "metadata": {
        "colab": {
          "base_uri": "https://localhost:8080/"
        },
        "id": "1iVeY1dMOVNt",
        "outputId": "708e10d4-d8ba-4cb7-99f9-b10c830c6c79"
      },
      "execution_count": 2,
      "outputs": [
        {
          "output_type": "stream",
          "name": "stdout",
          "text": [
            "Collecting pyabsa\n",
            "  Downloading pyabsa-2.4.1.post1-py3-none-any.whl.metadata (13 kB)\n",
            "Collecting findfile>=2.0.0 (from pyabsa)\n",
            "  Downloading findfile-2.0.1-py3-none-any.whl.metadata (464 bytes)\n",
            "Collecting autocuda>=0.16 (from pyabsa)\n",
            "  Downloading autocuda-0.16-py3-none-any.whl.metadata (326 bytes)\n",
            "Collecting metric-visualizer>=0.9.6 (from pyabsa)\n",
            "  Downloading metric_visualizer-0.9.13.post1-py3-none-any.whl.metadata (14 kB)\n",
            "Collecting boostaug>=2.3.5 (from pyabsa)\n",
            "  Downloading boostaug-2.3.5-py3-none-any.whl.metadata (377 bytes)\n",
            "Requirement already satisfied: spacy in /usr/local/lib/python3.10/dist-packages (from pyabsa) (3.7.6)\n",
            "Requirement already satisfied: networkx in /usr/local/lib/python3.10/dist-packages (from pyabsa) (3.3)\n",
            "Collecting seqeval (from pyabsa)\n",
            "  Downloading seqeval-1.2.2.tar.gz (43 kB)\n",
            "\u001b[2K     \u001b[90m━━━━━━━━━━━━━━━━━━━━━━━━━━━━━━━━━━━━━━━━\u001b[0m \u001b[32m43.6/43.6 kB\u001b[0m \u001b[31m1.1 MB/s\u001b[0m eta \u001b[36m0:00:00\u001b[0m\n",
            "\u001b[?25h  Preparing metadata (setup.py) ... \u001b[?25l\u001b[?25hdone\n",
            "Collecting update-checker (from pyabsa)\n",
            "  Downloading update_checker-0.18.0-py3-none-any.whl.metadata (2.3 kB)\n",
            "Requirement already satisfied: typing-extensions in /usr/local/lib/python3.10/dist-packages (from pyabsa) (4.12.2)\n",
            "Requirement already satisfied: tqdm in /usr/local/lib/python3.10/dist-packages (from pyabsa) (4.66.5)\n",
            "Collecting pytorch-warmup (from pyabsa)\n",
            "  Downloading pytorch_warmup-0.1.1-py3-none-any.whl.metadata (6.2 kB)\n",
            "Requirement already satisfied: termcolor in /usr/local/lib/python3.10/dist-packages (from pyabsa) (2.4.0)\n",
            "Collecting gitpython (from pyabsa)\n",
            "  Downloading GitPython-3.1.43-py3-none-any.whl.metadata (13 kB)\n",
            "Requirement already satisfied: transformers>=4.18.0 in /usr/local/lib/python3.10/dist-packages (from pyabsa) (4.44.2)\n",
            "Requirement already satisfied: torch>=1.0.0 in /usr/local/lib/python3.10/dist-packages (from pyabsa) (2.4.0+cu121)\n",
            "Requirement already satisfied: sentencepiece in /usr/local/lib/python3.10/dist-packages (from pyabsa) (0.1.99)\n",
            "Requirement already satisfied: protobuf<4.0.0 in /usr/local/lib/python3.10/dist-packages (from pyabsa) (3.20.3)\n",
            "Requirement already satisfied: pandas in /usr/local/lib/python3.10/dist-packages (from pyabsa) (2.1.4)\n",
            "Requirement already satisfied: matplotlib>=3.6.3 in /usr/local/lib/python3.10/dist-packages (from metric-visualizer>=0.9.6->pyabsa) (3.7.1)\n",
            "Collecting tikzplotlib (from metric-visualizer>=0.9.6->pyabsa)\n",
            "  Downloading tikzplotlib-0.10.1-py3-none-any.whl.metadata (8.9 kB)\n",
            "Requirement already satisfied: scipy>=1.10.0 in /usr/local/lib/python3.10/dist-packages (from metric-visualizer>=0.9.6->pyabsa) (1.13.1)\n",
            "Requirement already satisfied: tabulate in /usr/local/lib/python3.10/dist-packages (from metric-visualizer>=0.9.6->pyabsa) (0.9.0)\n",
            "Requirement already satisfied: natsort in /usr/local/lib/python3.10/dist-packages (from metric-visualizer>=0.9.6->pyabsa) (8.4.0)\n",
            "Requirement already satisfied: numpy in /usr/local/lib/python3.10/dist-packages (from metric-visualizer>=0.9.6->pyabsa) (1.26.4)\n",
            "Requirement already satisfied: click in /usr/local/lib/python3.10/dist-packages (from metric-visualizer>=0.9.6->pyabsa) (8.1.7)\n",
            "Requirement already satisfied: openpyxl in /usr/local/lib/python3.10/dist-packages (from metric-visualizer>=0.9.6->pyabsa) (3.1.5)\n",
            "Collecting xlsxwriter (from metric-visualizer>=0.9.6->pyabsa)\n",
            "  Downloading XlsxWriter-3.2.0-py3-none-any.whl.metadata (2.6 kB)\n",
            "Collecting scipy>=1.10.0 (from metric-visualizer>=0.9.6->pyabsa)\n",
            "  Downloading scipy-1.10.1-cp310-cp310-manylinux_2_17_x86_64.manylinux2014_x86_64.whl.metadata (58 kB)\n",
            "\u001b[2K     \u001b[90m━━━━━━━━━━━━━━━━━━━━━━━━━━━━━━━━━━━━━━━━\u001b[0m \u001b[32m58.9/58.9 kB\u001b[0m \u001b[31m5.6 MB/s\u001b[0m eta \u001b[36m0:00:00\u001b[0m\n",
            "\u001b[?25hRequirement already satisfied: scikit-learn in /usr/local/lib/python3.10/dist-packages (from metric-visualizer>=0.9.6->pyabsa) (1.3.2)\n",
            "Requirement already satisfied: filelock in /usr/local/lib/python3.10/dist-packages (from torch>=1.0.0->pyabsa) (3.15.4)\n",
            "Requirement already satisfied: sympy in /usr/local/lib/python3.10/dist-packages (from torch>=1.0.0->pyabsa) (1.13.2)\n",
            "Requirement already satisfied: jinja2 in /usr/local/lib/python3.10/dist-packages (from torch>=1.0.0->pyabsa) (3.1.4)\n",
            "Requirement already satisfied: fsspec in /usr/local/lib/python3.10/dist-packages (from torch>=1.0.0->pyabsa) (2024.6.1)\n",
            "Requirement already satisfied: huggingface-hub<1.0,>=0.23.2 in /usr/local/lib/python3.10/dist-packages (from transformers>=4.18.0->pyabsa) (0.24.6)\n",
            "Requirement already satisfied: packaging>=20.0 in /usr/local/lib/python3.10/dist-packages (from transformers>=4.18.0->pyabsa) (24.1)\n",
            "Requirement already satisfied: pyyaml>=5.1 in /usr/local/lib/python3.10/dist-packages (from transformers>=4.18.0->pyabsa) (6.0.2)\n",
            "Requirement already satisfied: regex!=2019.12.17 in /usr/local/lib/python3.10/dist-packages (from transformers>=4.18.0->pyabsa) (2024.5.15)\n",
            "Requirement already satisfied: requests in /usr/local/lib/python3.10/dist-packages (from transformers>=4.18.0->pyabsa) (2.32.3)\n",
            "Requirement already satisfied: safetensors>=0.4.1 in /usr/local/lib/python3.10/dist-packages (from transformers>=4.18.0->pyabsa) (0.4.4)\n",
            "Requirement already satisfied: tokenizers<0.20,>=0.19 in /usr/local/lib/python3.10/dist-packages (from transformers>=4.18.0->pyabsa) (0.19.1)\n",
            "Collecting gitdb<5,>=4.0.1 (from gitpython->pyabsa)\n",
            "  Downloading gitdb-4.0.11-py3-none-any.whl.metadata (1.2 kB)\n",
            "Requirement already satisfied: python-dateutil>=2.8.2 in /usr/local/lib/python3.10/dist-packages (from pandas->pyabsa) (2.8.2)\n",
            "Requirement already satisfied: pytz>=2020.1 in /usr/local/lib/python3.10/dist-packages (from pandas->pyabsa) (2024.1)\n",
            "Requirement already satisfied: tzdata>=2022.1 in /usr/local/lib/python3.10/dist-packages (from pandas->pyabsa) (2024.1)\n",
            "Requirement already satisfied: spacy-legacy<3.1.0,>=3.0.11 in /usr/local/lib/python3.10/dist-packages (from spacy->pyabsa) (3.0.12)\n",
            "Requirement already satisfied: spacy-loggers<2.0.0,>=1.0.0 in /usr/local/lib/python3.10/dist-packages (from spacy->pyabsa) (1.0.5)\n",
            "Requirement already satisfied: murmurhash<1.1.0,>=0.28.0 in /usr/local/lib/python3.10/dist-packages (from spacy->pyabsa) (1.0.10)\n",
            "Requirement already satisfied: cymem<2.1.0,>=2.0.2 in /usr/local/lib/python3.10/dist-packages (from spacy->pyabsa) (2.0.8)\n",
            "Requirement already satisfied: preshed<3.1.0,>=3.0.2 in /usr/local/lib/python3.10/dist-packages (from spacy->pyabsa) (3.0.9)\n",
            "Requirement already satisfied: thinc<8.3.0,>=8.2.2 in /usr/local/lib/python3.10/dist-packages (from spacy->pyabsa) (8.2.5)\n",
            "Requirement already satisfied: wasabi<1.2.0,>=0.9.1 in /usr/local/lib/python3.10/dist-packages (from spacy->pyabsa) (1.1.3)\n",
            "Requirement already satisfied: srsly<3.0.0,>=2.4.3 in /usr/local/lib/python3.10/dist-packages (from spacy->pyabsa) (2.4.8)\n",
            "Requirement already satisfied: catalogue<2.1.0,>=2.0.6 in /usr/local/lib/python3.10/dist-packages (from spacy->pyabsa) (2.0.10)\n",
            "Requirement already satisfied: weasel<0.5.0,>=0.1.0 in /usr/local/lib/python3.10/dist-packages (from spacy->pyabsa) (0.4.1)\n",
            "Requirement already satisfied: typer<1.0.0,>=0.3.0 in /usr/local/lib/python3.10/dist-packages (from spacy->pyabsa) (0.12.5)\n",
            "Requirement already satisfied: pydantic!=1.8,!=1.8.1,<3.0.0,>=1.7.4 in /usr/local/lib/python3.10/dist-packages (from spacy->pyabsa) (2.8.2)\n",
            "Requirement already satisfied: setuptools in /usr/local/lib/python3.10/dist-packages (from spacy->pyabsa) (71.0.4)\n",
            "Requirement already satisfied: langcodes<4.0.0,>=3.2.0 in /usr/local/lib/python3.10/dist-packages (from spacy->pyabsa) (3.4.0)\n",
            "Collecting smmap<6,>=3.0.1 (from gitdb<5,>=4.0.1->gitpython->pyabsa)\n",
            "  Downloading smmap-5.0.1-py3-none-any.whl.metadata (4.3 kB)\n",
            "Requirement already satisfied: language-data>=1.2 in /usr/local/lib/python3.10/dist-packages (from langcodes<4.0.0,>=3.2.0->spacy->pyabsa) (1.2.0)\n",
            "Requirement already satisfied: contourpy>=1.0.1 in /usr/local/lib/python3.10/dist-packages (from matplotlib>=3.6.3->metric-visualizer>=0.9.6->pyabsa) (1.3.0)\n",
            "Requirement already satisfied: cycler>=0.10 in /usr/local/lib/python3.10/dist-packages (from matplotlib>=3.6.3->metric-visualizer>=0.9.6->pyabsa) (0.12.1)\n",
            "Requirement already satisfied: fonttools>=4.22.0 in /usr/local/lib/python3.10/dist-packages (from matplotlib>=3.6.3->metric-visualizer>=0.9.6->pyabsa) (4.53.1)\n",
            "Requirement already satisfied: kiwisolver>=1.0.1 in /usr/local/lib/python3.10/dist-packages (from matplotlib>=3.6.3->metric-visualizer>=0.9.6->pyabsa) (1.4.5)\n",
            "Requirement already satisfied: pillow>=6.2.0 in /usr/local/lib/python3.10/dist-packages (from matplotlib>=3.6.3->metric-visualizer>=0.9.6->pyabsa) (9.4.0)\n",
            "Requirement already satisfied: pyparsing>=2.3.1 in /usr/local/lib/python3.10/dist-packages (from matplotlib>=3.6.3->metric-visualizer>=0.9.6->pyabsa) (3.1.4)\n",
            "Requirement already satisfied: annotated-types>=0.4.0 in /usr/local/lib/python3.10/dist-packages (from pydantic!=1.8,!=1.8.1,<3.0.0,>=1.7.4->spacy->pyabsa) (0.7.0)\n",
            "Requirement already satisfied: pydantic-core==2.20.1 in /usr/local/lib/python3.10/dist-packages (from pydantic!=1.8,!=1.8.1,<3.0.0,>=1.7.4->spacy->pyabsa) (2.20.1)\n",
            "Requirement already satisfied: six>=1.5 in /usr/local/lib/python3.10/dist-packages (from python-dateutil>=2.8.2->pandas->pyabsa) (1.16.0)\n",
            "Requirement already satisfied: charset-normalizer<4,>=2 in /usr/local/lib/python3.10/dist-packages (from requests->transformers>=4.18.0->pyabsa) (3.3.2)\n",
            "Requirement already satisfied: idna<4,>=2.5 in /usr/local/lib/python3.10/dist-packages (from requests->transformers>=4.18.0->pyabsa) (3.8)\n",
            "Requirement already satisfied: urllib3<3,>=1.21.1 in /usr/local/lib/python3.10/dist-packages (from requests->transformers>=4.18.0->pyabsa) (2.0.7)\n",
            "Requirement already satisfied: certifi>=2017.4.17 in /usr/local/lib/python3.10/dist-packages (from requests->transformers>=4.18.0->pyabsa) (2024.8.30)\n",
            "Requirement already satisfied: joblib>=1.1.1 in /usr/local/lib/python3.10/dist-packages (from scikit-learn->metric-visualizer>=0.9.6->pyabsa) (1.4.2)\n",
            "Requirement already satisfied: threadpoolctl>=2.0.0 in /usr/local/lib/python3.10/dist-packages (from scikit-learn->metric-visualizer>=0.9.6->pyabsa) (3.5.0)\n",
            "Requirement already satisfied: blis<0.8.0,>=0.7.8 in /usr/local/lib/python3.10/dist-packages (from thinc<8.3.0,>=8.2.2->spacy->pyabsa) (0.7.11)\n",
            "Requirement already satisfied: confection<1.0.0,>=0.0.1 in /usr/local/lib/python3.10/dist-packages (from thinc<8.3.0,>=8.2.2->spacy->pyabsa) (0.1.5)\n",
            "Requirement already satisfied: shellingham>=1.3.0 in /usr/local/lib/python3.10/dist-packages (from typer<1.0.0,>=0.3.0->spacy->pyabsa) (1.5.4)\n",
            "Requirement already satisfied: rich>=10.11.0 in /usr/local/lib/python3.10/dist-packages (from typer<1.0.0,>=0.3.0->spacy->pyabsa) (13.8.0)\n",
            "Requirement already satisfied: cloudpathlib<1.0.0,>=0.7.0 in /usr/local/lib/python3.10/dist-packages (from weasel<0.5.0,>=0.1.0->spacy->pyabsa) (0.19.0)\n",
            "Requirement already satisfied: smart-open<8.0.0,>=5.2.1 in /usr/local/lib/python3.10/dist-packages (from weasel<0.5.0,>=0.1.0->spacy->pyabsa) (7.0.4)\n",
            "Requirement already satisfied: MarkupSafe>=2.0 in /usr/local/lib/python3.10/dist-packages (from jinja2->torch>=1.0.0->pyabsa) (2.1.5)\n",
            "Requirement already satisfied: et-xmlfile in /usr/local/lib/python3.10/dist-packages (from openpyxl->metric-visualizer>=0.9.6->pyabsa) (1.1.0)\n",
            "Requirement already satisfied: mpmath<1.4,>=1.1.0 in /usr/local/lib/python3.10/dist-packages (from sympy->torch>=1.0.0->pyabsa) (1.3.0)\n",
            "Requirement already satisfied: webcolors in /usr/local/lib/python3.10/dist-packages (from tikzplotlib->metric-visualizer>=0.9.6->pyabsa) (24.8.0)\n",
            "Requirement already satisfied: marisa-trie>=0.7.7 in /usr/local/lib/python3.10/dist-packages (from language-data>=1.2->langcodes<4.0.0,>=3.2.0->spacy->pyabsa) (1.2.0)\n",
            "Requirement already satisfied: markdown-it-py>=2.2.0 in /usr/local/lib/python3.10/dist-packages (from rich>=10.11.0->typer<1.0.0,>=0.3.0->spacy->pyabsa) (3.0.0)\n",
            "Requirement already satisfied: pygments<3.0.0,>=2.13.0 in /usr/local/lib/python3.10/dist-packages (from rich>=10.11.0->typer<1.0.0,>=0.3.0->spacy->pyabsa) (2.16.1)\n",
            "Requirement already satisfied: wrapt in /usr/local/lib/python3.10/dist-packages (from smart-open<8.0.0,>=5.2.1->weasel<0.5.0,>=0.1.0->spacy->pyabsa) (1.16.0)\n",
            "Requirement already satisfied: mdurl~=0.1 in /usr/local/lib/python3.10/dist-packages (from markdown-it-py>=2.2.0->rich>=10.11.0->typer<1.0.0,>=0.3.0->spacy->pyabsa) (0.1.2)\n",
            "Downloading pyabsa-2.4.1.post1-py3-none-any.whl (575 kB)\n",
            "\u001b[2K   \u001b[90m━━━━━━━━━━━━━━━━━━━━━━━━━━━━━━━━━━━━━━━━\u001b[0m \u001b[32m575.5/575.5 kB\u001b[0m \u001b[31m16.1 MB/s\u001b[0m eta \u001b[36m0:00:00\u001b[0m\n",
            "\u001b[?25hDownloading autocuda-0.16-py3-none-any.whl (5.1 kB)\n",
            "Downloading boostaug-2.3.5-py3-none-any.whl (16 kB)\n",
            "Downloading findfile-2.0.1-py3-none-any.whl (7.0 kB)\n",
            "Downloading metric_visualizer-0.9.13.post1-py3-none-any.whl (24 kB)\n",
            "Downloading GitPython-3.1.43-py3-none-any.whl (207 kB)\n",
            "\u001b[2K   \u001b[90m━━━━━━━━━━━━━━━━━━━━━━━━━━━━━━━━━━━━━━━━\u001b[0m \u001b[32m207.3/207.3 kB\u001b[0m \u001b[31m16.0 MB/s\u001b[0m eta \u001b[36m0:00:00\u001b[0m\n",
            "\u001b[?25hDownloading pytorch_warmup-0.1.1-py3-none-any.whl (6.6 kB)\n",
            "Downloading update_checker-0.18.0-py3-none-any.whl (7.0 kB)\n",
            "Downloading gitdb-4.0.11-py3-none-any.whl (62 kB)\n",
            "\u001b[2K   \u001b[90m━━━━━━━━━━━━━━━━━━━━━━━━━━━━━━━━━━━━━━━━\u001b[0m \u001b[32m62.7/62.7 kB\u001b[0m \u001b[31m6.6 MB/s\u001b[0m eta \u001b[36m0:00:00\u001b[0m\n",
            "\u001b[?25hDownloading scipy-1.10.1-cp310-cp310-manylinux_2_17_x86_64.manylinux2014_x86_64.whl (34.4 MB)\n",
            "\u001b[2K   \u001b[90m━━━━━━━━━━━━━━━━━━━━━━━━━━━━━━━━━━━━━━━━\u001b[0m \u001b[32m34.4/34.4 MB\u001b[0m \u001b[31m40.4 MB/s\u001b[0m eta \u001b[36m0:00:00\u001b[0m\n",
            "\u001b[?25hDownloading tikzplotlib-0.10.1-py3-none-any.whl (54 kB)\n",
            "\u001b[2K   \u001b[90m━━━━━━━━━━━━━━━━━━━━━━━━━━━━━━━━━━━━━━━━\u001b[0m \u001b[32m54.2/54.2 kB\u001b[0m \u001b[31m5.4 MB/s\u001b[0m eta \u001b[36m0:00:00\u001b[0m\n",
            "\u001b[?25hDownloading XlsxWriter-3.2.0-py3-none-any.whl (159 kB)\n",
            "\u001b[2K   \u001b[90m━━━━━━━━━━━━━━━━━━━━━━━━━━━━━━━━━━━━━━━━\u001b[0m \u001b[32m159.9/159.9 kB\u001b[0m \u001b[31m13.1 MB/s\u001b[0m eta \u001b[36m0:00:00\u001b[0m\n",
            "\u001b[?25hDownloading smmap-5.0.1-py3-none-any.whl (24 kB)\n",
            "Building wheels for collected packages: seqeval\n",
            "  Building wheel for seqeval (setup.py) ... \u001b[?25l\u001b[?25hdone\n",
            "  Created wheel for seqeval: filename=seqeval-1.2.2-py3-none-any.whl size=16161 sha256=bfabf975b767f9ab05504d4625a091ea4cffa6f8c79f199a9c79ae16dc7e6d96\n",
            "  Stored in directory: /root/.cache/pip/wheels/1a/67/4a/ad4082dd7dfc30f2abfe4d80a2ed5926a506eb8a972b4767fa\n",
            "Successfully built seqeval\n",
            "Installing collected packages: xlsxwriter, smmap, scipy, findfile, autocuda, update-checker, gitdb, tikzplotlib, seqeval, pytorch-warmup, gitpython, metric-visualizer, boostaug, pyabsa\n",
            "  Attempting uninstall: scipy\n",
            "    Found existing installation: scipy 1.13.1\n",
            "    Uninstalling scipy-1.13.1:\n",
            "      Successfully uninstalled scipy-1.13.1\n",
            "Successfully installed autocuda-0.16 boostaug-2.3.5 findfile-2.0.1 gitdb-4.0.11 gitpython-3.1.43 metric-visualizer-0.9.13.post1 pyabsa-2.4.1.post1 pytorch-warmup-0.1.1 scipy-1.10.1 seqeval-1.2.2 smmap-5.0.1 tikzplotlib-0.10.1 update-checker-0.18.0 xlsxwriter-3.2.0\n"
          ]
        }
      ]
    },
    {
      "cell_type": "code",
      "source": [
        "!pip install gitpython\n",
        "!pip install autocuda\n",
        "!pip install pytorch-warmup"
      ],
      "metadata": {
        "colab": {
          "base_uri": "https://localhost:8080/"
        },
        "id": "QQMvBWDPOnP6",
        "outputId": "9eb59231-a6b2-4125-8bd1-821fe118f1f6"
      },
      "execution_count": 5,
      "outputs": [
        {
          "output_type": "stream",
          "name": "stdout",
          "text": [
            "Requirement already satisfied: gitpython in /usr/local/lib/python3.10/dist-packages (3.1.43)\n",
            "Requirement already satisfied: gitdb<5,>=4.0.1 in /usr/local/lib/python3.10/dist-packages (from gitpython) (4.0.11)\n",
            "Requirement already satisfied: smmap<6,>=3.0.1 in /usr/local/lib/python3.10/dist-packages (from gitdb<5,>=4.0.1->gitpython) (5.0.1)\n",
            "Requirement already satisfied: autocuda in /usr/local/lib/python3.10/dist-packages (0.16)\n",
            "Requirement already satisfied: pytorch-warmup in /usr/local/lib/python3.10/dist-packages (0.1.1)\n",
            "Requirement already satisfied: torch>=1.1 in /usr/local/lib/python3.10/dist-packages (from pytorch-warmup) (2.4.0+cu121)\n",
            "Requirement already satisfied: filelock in /usr/local/lib/python3.10/dist-packages (from torch>=1.1->pytorch-warmup) (3.15.4)\n",
            "Requirement already satisfied: typing-extensions>=4.8.0 in /usr/local/lib/python3.10/dist-packages (from torch>=1.1->pytorch-warmup) (4.12.2)\n",
            "Requirement already satisfied: sympy in /usr/local/lib/python3.10/dist-packages (from torch>=1.1->pytorch-warmup) (1.13.2)\n",
            "Requirement already satisfied: networkx in /usr/local/lib/python3.10/dist-packages (from torch>=1.1->pytorch-warmup) (3.3)\n",
            "Requirement already satisfied: jinja2 in /usr/local/lib/python3.10/dist-packages (from torch>=1.1->pytorch-warmup) (3.1.4)\n",
            "Requirement already satisfied: fsspec in /usr/local/lib/python3.10/dist-packages (from torch>=1.1->pytorch-warmup) (2024.6.1)\n",
            "Requirement already satisfied: MarkupSafe>=2.0 in /usr/local/lib/python3.10/dist-packages (from jinja2->torch>=1.1->pytorch-warmup) (2.1.5)\n",
            "Requirement already satisfied: mpmath<1.4,>=1.1.0 in /usr/local/lib/python3.10/dist-packages (from sympy->torch>=1.1->pytorch-warmup) (1.3.0)\n"
          ]
        }
      ]
    },
    {
      "cell_type": "code",
      "source": [
        "!pip install seqeval\n",
        "!pip install metric-visualizer\n",
        "!pip install spacy"
      ],
      "metadata": {
        "colab": {
          "base_uri": "https://localhost:8080/"
        },
        "id": "XT56BJeKOqvO",
        "outputId": "6670c92a-dd7f-4b7c-ccc6-6f2bb0cdada2"
      },
      "execution_count": 6,
      "outputs": [
        {
          "output_type": "stream",
          "name": "stdout",
          "text": [
            "Requirement already satisfied: seqeval in /usr/local/lib/python3.10/dist-packages (1.2.2)\n",
            "Requirement already satisfied: numpy>=1.14.0 in /usr/local/lib/python3.10/dist-packages (from seqeval) (1.26.4)\n",
            "Requirement already satisfied: scikit-learn>=0.21.3 in /usr/local/lib/python3.10/dist-packages (from seqeval) (1.3.2)\n",
            "Requirement already satisfied: scipy>=1.5.0 in /usr/local/lib/python3.10/dist-packages (from scikit-learn>=0.21.3->seqeval) (1.10.1)\n",
            "Requirement already satisfied: joblib>=1.1.1 in /usr/local/lib/python3.10/dist-packages (from scikit-learn>=0.21.3->seqeval) (1.4.2)\n",
            "Requirement already satisfied: threadpoolctl>=2.0.0 in /usr/local/lib/python3.10/dist-packages (from scikit-learn>=0.21.3->seqeval) (3.5.0)\n",
            "Requirement already satisfied: metric-visualizer in /usr/local/lib/python3.10/dist-packages (0.9.13.post1)\n",
            "Requirement already satisfied: matplotlib>=3.6.3 in /usr/local/lib/python3.10/dist-packages (from metric-visualizer) (3.7.1)\n",
            "Requirement already satisfied: tikzplotlib in /usr/local/lib/python3.10/dist-packages (from metric-visualizer) (0.10.1)\n",
            "Requirement already satisfied: findfile in /usr/local/lib/python3.10/dist-packages (from metric-visualizer) (2.0.1)\n",
            "Requirement already satisfied: scipy>=1.10.0 in /usr/local/lib/python3.10/dist-packages (from metric-visualizer) (1.10.1)\n",
            "Requirement already satisfied: tabulate in /usr/local/lib/python3.10/dist-packages (from metric-visualizer) (0.9.0)\n",
            "Requirement already satisfied: natsort in /usr/local/lib/python3.10/dist-packages (from metric-visualizer) (8.4.0)\n",
            "Requirement already satisfied: numpy in /usr/local/lib/python3.10/dist-packages (from metric-visualizer) (1.26.4)\n",
            "Requirement already satisfied: update-checker in /usr/local/lib/python3.10/dist-packages (from metric-visualizer) (0.18.0)\n",
            "Requirement already satisfied: click in /usr/local/lib/python3.10/dist-packages (from metric-visualizer) (8.1.7)\n",
            "Requirement already satisfied: pandas in /usr/local/lib/python3.10/dist-packages (from metric-visualizer) (2.1.4)\n",
            "Requirement already satisfied: openpyxl in /usr/local/lib/python3.10/dist-packages (from metric-visualizer) (3.1.5)\n",
            "Requirement already satisfied: xlsxwriter in /usr/local/lib/python3.10/dist-packages (from metric-visualizer) (3.2.0)\n",
            "Requirement already satisfied: scikit-learn in /usr/local/lib/python3.10/dist-packages (from metric-visualizer) (1.3.2)\n",
            "Requirement already satisfied: contourpy>=1.0.1 in /usr/local/lib/python3.10/dist-packages (from matplotlib>=3.6.3->metric-visualizer) (1.3.0)\n",
            "Requirement already satisfied: cycler>=0.10 in /usr/local/lib/python3.10/dist-packages (from matplotlib>=3.6.3->metric-visualizer) (0.12.1)\n",
            "Requirement already satisfied: fonttools>=4.22.0 in /usr/local/lib/python3.10/dist-packages (from matplotlib>=3.6.3->metric-visualizer) (4.53.1)\n",
            "Requirement already satisfied: kiwisolver>=1.0.1 in /usr/local/lib/python3.10/dist-packages (from matplotlib>=3.6.3->metric-visualizer) (1.4.5)\n",
            "Requirement already satisfied: packaging>=20.0 in /usr/local/lib/python3.10/dist-packages (from matplotlib>=3.6.3->metric-visualizer) (24.1)\n",
            "Requirement already satisfied: pillow>=6.2.0 in /usr/local/lib/python3.10/dist-packages (from matplotlib>=3.6.3->metric-visualizer) (9.4.0)\n",
            "Requirement already satisfied: pyparsing>=2.3.1 in /usr/local/lib/python3.10/dist-packages (from matplotlib>=3.6.3->metric-visualizer) (3.1.4)\n",
            "Requirement already satisfied: python-dateutil>=2.7 in /usr/local/lib/python3.10/dist-packages (from matplotlib>=3.6.3->metric-visualizer) (2.8.2)\n",
            "Requirement already satisfied: termcolor in /usr/local/lib/python3.10/dist-packages (from findfile->metric-visualizer) (2.4.0)\n",
            "Requirement already satisfied: et-xmlfile in /usr/local/lib/python3.10/dist-packages (from openpyxl->metric-visualizer) (1.1.0)\n",
            "Requirement already satisfied: pytz>=2020.1 in /usr/local/lib/python3.10/dist-packages (from pandas->metric-visualizer) (2024.1)\n",
            "Requirement already satisfied: tzdata>=2022.1 in /usr/local/lib/python3.10/dist-packages (from pandas->metric-visualizer) (2024.1)\n",
            "Requirement already satisfied: joblib>=1.1.1 in /usr/local/lib/python3.10/dist-packages (from scikit-learn->metric-visualizer) (1.4.2)\n",
            "Requirement already satisfied: threadpoolctl>=2.0.0 in /usr/local/lib/python3.10/dist-packages (from scikit-learn->metric-visualizer) (3.5.0)\n",
            "Requirement already satisfied: webcolors in /usr/local/lib/python3.10/dist-packages (from tikzplotlib->metric-visualizer) (24.8.0)\n",
            "Requirement already satisfied: requests>=2.3.0 in /usr/local/lib/python3.10/dist-packages (from update-checker->metric-visualizer) (2.32.3)\n",
            "Requirement already satisfied: six>=1.5 in /usr/local/lib/python3.10/dist-packages (from python-dateutil>=2.7->matplotlib>=3.6.3->metric-visualizer) (1.16.0)\n",
            "Requirement already satisfied: charset-normalizer<4,>=2 in /usr/local/lib/python3.10/dist-packages (from requests>=2.3.0->update-checker->metric-visualizer) (3.3.2)\n",
            "Requirement already satisfied: idna<4,>=2.5 in /usr/local/lib/python3.10/dist-packages (from requests>=2.3.0->update-checker->metric-visualizer) (3.8)\n",
            "Requirement already satisfied: urllib3<3,>=1.21.1 in /usr/local/lib/python3.10/dist-packages (from requests>=2.3.0->update-checker->metric-visualizer) (2.0.7)\n",
            "Requirement already satisfied: certifi>=2017.4.17 in /usr/local/lib/python3.10/dist-packages (from requests>=2.3.0->update-checker->metric-visualizer) (2024.8.30)\n",
            "Requirement already satisfied: spacy in /usr/local/lib/python3.10/dist-packages (3.7.6)\n",
            "Requirement already satisfied: spacy-legacy<3.1.0,>=3.0.11 in /usr/local/lib/python3.10/dist-packages (from spacy) (3.0.12)\n",
            "Requirement already satisfied: spacy-loggers<2.0.0,>=1.0.0 in /usr/local/lib/python3.10/dist-packages (from spacy) (1.0.5)\n",
            "Requirement already satisfied: murmurhash<1.1.0,>=0.28.0 in /usr/local/lib/python3.10/dist-packages (from spacy) (1.0.10)\n",
            "Requirement already satisfied: cymem<2.1.0,>=2.0.2 in /usr/local/lib/python3.10/dist-packages (from spacy) (2.0.8)\n",
            "Requirement already satisfied: preshed<3.1.0,>=3.0.2 in /usr/local/lib/python3.10/dist-packages (from spacy) (3.0.9)\n",
            "Requirement already satisfied: thinc<8.3.0,>=8.2.2 in /usr/local/lib/python3.10/dist-packages (from spacy) (8.2.5)\n",
            "Requirement already satisfied: wasabi<1.2.0,>=0.9.1 in /usr/local/lib/python3.10/dist-packages (from spacy) (1.1.3)\n",
            "Requirement already satisfied: srsly<3.0.0,>=2.4.3 in /usr/local/lib/python3.10/dist-packages (from spacy) (2.4.8)\n",
            "Requirement already satisfied: catalogue<2.1.0,>=2.0.6 in /usr/local/lib/python3.10/dist-packages (from spacy) (2.0.10)\n",
            "Requirement already satisfied: weasel<0.5.0,>=0.1.0 in /usr/local/lib/python3.10/dist-packages (from spacy) (0.4.1)\n",
            "Requirement already satisfied: typer<1.0.0,>=0.3.0 in /usr/local/lib/python3.10/dist-packages (from spacy) (0.12.5)\n",
            "Requirement already satisfied: tqdm<5.0.0,>=4.38.0 in /usr/local/lib/python3.10/dist-packages (from spacy) (4.66.5)\n",
            "Requirement already satisfied: requests<3.0.0,>=2.13.0 in /usr/local/lib/python3.10/dist-packages (from spacy) (2.32.3)\n",
            "Requirement already satisfied: pydantic!=1.8,!=1.8.1,<3.0.0,>=1.7.4 in /usr/local/lib/python3.10/dist-packages (from spacy) (2.8.2)\n",
            "Requirement already satisfied: jinja2 in /usr/local/lib/python3.10/dist-packages (from spacy) (3.1.4)\n",
            "Requirement already satisfied: setuptools in /usr/local/lib/python3.10/dist-packages (from spacy) (71.0.4)\n",
            "Requirement already satisfied: packaging>=20.0 in /usr/local/lib/python3.10/dist-packages (from spacy) (24.1)\n",
            "Requirement already satisfied: langcodes<4.0.0,>=3.2.0 in /usr/local/lib/python3.10/dist-packages (from spacy) (3.4.0)\n",
            "Requirement already satisfied: numpy>=1.19.0 in /usr/local/lib/python3.10/dist-packages (from spacy) (1.26.4)\n",
            "Requirement already satisfied: language-data>=1.2 in /usr/local/lib/python3.10/dist-packages (from langcodes<4.0.0,>=3.2.0->spacy) (1.2.0)\n",
            "Requirement already satisfied: annotated-types>=0.4.0 in /usr/local/lib/python3.10/dist-packages (from pydantic!=1.8,!=1.8.1,<3.0.0,>=1.7.4->spacy) (0.7.0)\n",
            "Requirement already satisfied: pydantic-core==2.20.1 in /usr/local/lib/python3.10/dist-packages (from pydantic!=1.8,!=1.8.1,<3.0.0,>=1.7.4->spacy) (2.20.1)\n",
            "Requirement already satisfied: typing-extensions>=4.6.1 in /usr/local/lib/python3.10/dist-packages (from pydantic!=1.8,!=1.8.1,<3.0.0,>=1.7.4->spacy) (4.12.2)\n",
            "Requirement already satisfied: charset-normalizer<4,>=2 in /usr/local/lib/python3.10/dist-packages (from requests<3.0.0,>=2.13.0->spacy) (3.3.2)\n",
            "Requirement already satisfied: idna<4,>=2.5 in /usr/local/lib/python3.10/dist-packages (from requests<3.0.0,>=2.13.0->spacy) (3.8)\n",
            "Requirement already satisfied: urllib3<3,>=1.21.1 in /usr/local/lib/python3.10/dist-packages (from requests<3.0.0,>=2.13.0->spacy) (2.0.7)\n",
            "Requirement already satisfied: certifi>=2017.4.17 in /usr/local/lib/python3.10/dist-packages (from requests<3.0.0,>=2.13.0->spacy) (2024.8.30)\n",
            "Requirement already satisfied: blis<0.8.0,>=0.7.8 in /usr/local/lib/python3.10/dist-packages (from thinc<8.3.0,>=8.2.2->spacy) (0.7.11)\n",
            "Requirement already satisfied: confection<1.0.0,>=0.0.1 in /usr/local/lib/python3.10/dist-packages (from thinc<8.3.0,>=8.2.2->spacy) (0.1.5)\n",
            "Requirement already satisfied: click>=8.0.0 in /usr/local/lib/python3.10/dist-packages (from typer<1.0.0,>=0.3.0->spacy) (8.1.7)\n",
            "Requirement already satisfied: shellingham>=1.3.0 in /usr/local/lib/python3.10/dist-packages (from typer<1.0.0,>=0.3.0->spacy) (1.5.4)\n",
            "Requirement already satisfied: rich>=10.11.0 in /usr/local/lib/python3.10/dist-packages (from typer<1.0.0,>=0.3.0->spacy) (13.8.0)\n",
            "Requirement already satisfied: cloudpathlib<1.0.0,>=0.7.0 in /usr/local/lib/python3.10/dist-packages (from weasel<0.5.0,>=0.1.0->spacy) (0.19.0)\n",
            "Requirement already satisfied: smart-open<8.0.0,>=5.2.1 in /usr/local/lib/python3.10/dist-packages (from weasel<0.5.0,>=0.1.0->spacy) (7.0.4)\n",
            "Requirement already satisfied: MarkupSafe>=2.0 in /usr/local/lib/python3.10/dist-packages (from jinja2->spacy) (2.1.5)\n",
            "Requirement already satisfied: marisa-trie>=0.7.7 in /usr/local/lib/python3.10/dist-packages (from language-data>=1.2->langcodes<4.0.0,>=3.2.0->spacy) (1.2.0)\n",
            "Requirement already satisfied: markdown-it-py>=2.2.0 in /usr/local/lib/python3.10/dist-packages (from rich>=10.11.0->typer<1.0.0,>=0.3.0->spacy) (3.0.0)\n",
            "Requirement already satisfied: pygments<3.0.0,>=2.13.0 in /usr/local/lib/python3.10/dist-packages (from rich>=10.11.0->typer<1.0.0,>=0.3.0->spacy) (2.16.1)\n",
            "Requirement already satisfied: wrapt in /usr/local/lib/python3.10/dist-packages (from smart-open<8.0.0,>=5.2.1->weasel<0.5.0,>=0.1.0->spacy) (1.16.0)\n",
            "Requirement already satisfied: mdurl~=0.1 in /usr/local/lib/python3.10/dist-packages (from markdown-it-py>=2.2.0->rich>=10.11.0->typer<1.0.0,>=0.3.0->spacy) (0.1.2)\n"
          ]
        }
      ]
    },
    {
      "cell_type": "code",
      "source": [
        "!pip install networkx\n",
        "!pip install typing_extensions\n",
        "!pip install tqdm\n",
        "!pip install termcolor\n",
        "!pip install gdown\n",
        "!pip install torch\n",
        "!pip install sentencepiece"
      ],
      "metadata": {
        "colab": {
          "base_uri": "https://localhost:8080/"
        },
        "id": "qkPlTLHFOxuP",
        "outputId": "b3df825b-988e-4dc5-e39b-3199aa40db06"
      },
      "execution_count": 7,
      "outputs": [
        {
          "output_type": "stream",
          "name": "stdout",
          "text": [
            "Requirement already satisfied: networkx in /usr/local/lib/python3.10/dist-packages (3.3)\n",
            "Requirement already satisfied: typing_extensions in /usr/local/lib/python3.10/dist-packages (4.12.2)\n",
            "Requirement already satisfied: tqdm in /usr/local/lib/python3.10/dist-packages (4.66.5)\n",
            "Requirement already satisfied: termcolor in /usr/local/lib/python3.10/dist-packages (2.4.0)\n",
            "Requirement already satisfied: gdown in /usr/local/lib/python3.10/dist-packages (5.1.0)\n",
            "Requirement already satisfied: beautifulsoup4 in /usr/local/lib/python3.10/dist-packages (from gdown) (4.12.3)\n",
            "Requirement already satisfied: filelock in /usr/local/lib/python3.10/dist-packages (from gdown) (3.15.4)\n",
            "Requirement already satisfied: requests[socks] in /usr/local/lib/python3.10/dist-packages (from gdown) (2.32.3)\n",
            "Requirement already satisfied: tqdm in /usr/local/lib/python3.10/dist-packages (from gdown) (4.66.5)\n",
            "Requirement already satisfied: soupsieve>1.2 in /usr/local/lib/python3.10/dist-packages (from beautifulsoup4->gdown) (2.6)\n",
            "Requirement already satisfied: charset-normalizer<4,>=2 in /usr/local/lib/python3.10/dist-packages (from requests[socks]->gdown) (3.3.2)\n",
            "Requirement already satisfied: idna<4,>=2.5 in /usr/local/lib/python3.10/dist-packages (from requests[socks]->gdown) (3.8)\n",
            "Requirement already satisfied: urllib3<3,>=1.21.1 in /usr/local/lib/python3.10/dist-packages (from requests[socks]->gdown) (2.0.7)\n",
            "Requirement already satisfied: certifi>=2017.4.17 in /usr/local/lib/python3.10/dist-packages (from requests[socks]->gdown) (2024.8.30)\n",
            "Requirement already satisfied: PySocks!=1.5.7,>=1.5.6 in /usr/local/lib/python3.10/dist-packages (from requests[socks]->gdown) (1.7.1)\n",
            "Requirement already satisfied: torch in /usr/local/lib/python3.10/dist-packages (2.4.0+cu121)\n",
            "Requirement already satisfied: filelock in /usr/local/lib/python3.10/dist-packages (from torch) (3.15.4)\n",
            "Requirement already satisfied: typing-extensions>=4.8.0 in /usr/local/lib/python3.10/dist-packages (from torch) (4.12.2)\n",
            "Requirement already satisfied: sympy in /usr/local/lib/python3.10/dist-packages (from torch) (1.13.2)\n",
            "Requirement already satisfied: networkx in /usr/local/lib/python3.10/dist-packages (from torch) (3.3)\n",
            "Requirement already satisfied: jinja2 in /usr/local/lib/python3.10/dist-packages (from torch) (3.1.4)\n",
            "Requirement already satisfied: fsspec in /usr/local/lib/python3.10/dist-packages (from torch) (2024.6.1)\n",
            "Requirement already satisfied: MarkupSafe>=2.0 in /usr/local/lib/python3.10/dist-packages (from jinja2->torch) (2.1.5)\n",
            "Requirement already satisfied: mpmath<1.4,>=1.1.0 in /usr/local/lib/python3.10/dist-packages (from sympy->torch) (1.3.0)\n",
            "Requirement already satisfied: sentencepiece in /usr/local/lib/python3.10/dist-packages (0.1.99)\n"
          ]
        }
      ]
    },
    {
      "cell_type": "markdown",
      "source": [
        "**Generate the correct format of dataset for atepc task**"
      ],
      "metadata": {
        "id": "Z8MIdl1I9BgJ"
      }
    },
    {
      "cell_type": "code",
      "source": [
        "from pyabsa.utils.absa_utils.absa_utils import convert_apc_set_to_atepc_set\n",
        "\n",
        "# for custom datasets, absolute path recommended for this function\n",
        "convert_apc_set_to_atepc_set('/content/drive/MyDrive/Entity_Sentiment_Analysis/Nice_dataset.apc.train.txt')\n",
        "convert_apc_set_to_atepc_set('/content/drive/MyDrive/Entity_Sentiment_Analysis/Nice_dataset.apc.test.txt')"
      ],
      "metadata": {
        "colab": {
          "base_uri": "https://localhost:8080/"
        },
        "id": "-BdHJm7sO5Jp",
        "outputId": "9443d68b-32a1-47fb-ec39-5a4747d5aeed"
      },
      "execution_count": 3,
      "outputs": [
        {
          "output_type": "stream",
          "name": "stderr",
          "text": [
            "<frozen importlib._bootstrap>:914: ImportWarning: _PyDrive2ImportHook.find_spec() not found; falling back to find_module()\n",
            "<frozen importlib._bootstrap>:914: ImportWarning: _PyDriveImportHook.find_spec() not found; falling back to find_module()\n",
            "<frozen importlib._bootstrap>:914: ImportWarning: _GenerativeAIImportHook.find_spec() not found; falling back to find_module()\n",
            "<frozen importlib._bootstrap>:914: ImportWarning: _OpenCVImportHook.find_spec() not found; falling back to find_module()\n",
            "<frozen importlib._bootstrap>:914: ImportWarning: APICoreClientInfoImportHook.find_spec() not found; falling back to find_module()\n",
            "<frozen importlib._bootstrap>:914: ImportWarning: _BokehImportHook.find_spec() not found; falling back to find_module()\n",
            "<frozen importlib._bootstrap>:914: ImportWarning: _AltairImportHook.find_spec() not found; falling back to find_module()\n",
            "<frozen importlib._bootstrap>:914: ImportWarning: _PyDrive2ImportHook.find_spec() not found; falling back to find_module()\n",
            "<frozen importlib._bootstrap>:914: ImportWarning: _PyDriveImportHook.find_spec() not found; falling back to find_module()\n",
            "<frozen importlib._bootstrap>:914: ImportWarning: _GenerativeAIImportHook.find_spec() not found; falling back to find_module()\n",
            "<frozen importlib._bootstrap>:914: ImportWarning: _OpenCVImportHook.find_spec() not found; falling back to find_module()\n",
            "<frozen importlib._bootstrap>:914: ImportWarning: APICoreClientInfoImportHook.find_spec() not found; falling back to find_module()\n",
            "<frozen importlib._bootstrap>:914: ImportWarning: _BokehImportHook.find_spec() not found; falling back to find_module()\n",
            "<frozen importlib._bootstrap>:914: ImportWarning: _AltairImportHook.find_spec() not found; falling back to find_module()\n",
            "<frozen importlib._bootstrap>:914: ImportWarning: _PyDrive2ImportHook.find_spec() not found; falling back to find_module()\n",
            "<frozen importlib._bootstrap>:914: ImportWarning: _PyDriveImportHook.find_spec() not found; falling back to find_module()\n",
            "<frozen importlib._bootstrap>:914: ImportWarning: _GenerativeAIImportHook.find_spec() not found; falling back to find_module()\n",
            "<frozen importlib._bootstrap>:914: ImportWarning: _OpenCVImportHook.find_spec() not found; falling back to find_module()\n",
            "<frozen importlib._bootstrap>:914: ImportWarning: APICoreClientInfoImportHook.find_spec() not found; falling back to find_module()\n",
            "<frozen importlib._bootstrap>:914: ImportWarning: _BokehImportHook.find_spec() not found; falling back to find_module()\n",
            "<frozen importlib._bootstrap>:914: ImportWarning: _AltairImportHook.find_spec() not found; falling back to find_module()\n",
            "<frozen importlib._bootstrap>:914: ImportWarning: _PyDrive2ImportHook.find_spec() not found; falling back to find_module()\n",
            "<frozen importlib._bootstrap>:914: ImportWarning: _PyDriveImportHook.find_spec() not found; falling back to find_module()\n",
            "<frozen importlib._bootstrap>:914: ImportWarning: _GenerativeAIImportHook.find_spec() not found; falling back to find_module()\n",
            "<frozen importlib._bootstrap>:914: ImportWarning: _OpenCVImportHook.find_spec() not found; falling back to find_module()\n",
            "<frozen importlib._bootstrap>:914: ImportWarning: APICoreClientInfoImportHook.find_spec() not found; falling back to find_module()\n",
            "<frozen importlib._bootstrap>:914: ImportWarning: _BokehImportHook.find_spec() not found; falling back to find_module()\n",
            "<frozen importlib._bootstrap>:914: ImportWarning: _AltairImportHook.find_spec() not found; falling back to find_module()\n",
            "<frozen importlib._bootstrap>:914: ImportWarning: _PyDrive2ImportHook.find_spec() not found; falling back to find_module()\n",
            "<frozen importlib._bootstrap>:914: ImportWarning: _PyDriveImportHook.find_spec() not found; falling back to find_module()\n",
            "<frozen importlib._bootstrap>:914: ImportWarning: _GenerativeAIImportHook.find_spec() not found; falling back to find_module()\n",
            "<frozen importlib._bootstrap>:914: ImportWarning: _OpenCVImportHook.find_spec() not found; falling back to find_module()\n",
            "<frozen importlib._bootstrap>:914: ImportWarning: APICoreClientInfoImportHook.find_spec() not found; falling back to find_module()\n",
            "<frozen importlib._bootstrap>:914: ImportWarning: _BokehImportHook.find_spec() not found; falling back to find_module()\n",
            "<frozen importlib._bootstrap>:914: ImportWarning: _AltairImportHook.find_spec() not found; falling back to find_module()\n",
            "<frozen importlib._bootstrap>:914: ImportWarning: _PyDrive2ImportHook.find_spec() not found; falling back to find_module()\n",
            "<frozen importlib._bootstrap>:914: ImportWarning: _PyDriveImportHook.find_spec() not found; falling back to find_module()\n",
            "<frozen importlib._bootstrap>:914: ImportWarning: _GenerativeAIImportHook.find_spec() not found; falling back to find_module()\n",
            "<frozen importlib._bootstrap>:914: ImportWarning: _OpenCVImportHook.find_spec() not found; falling back to find_module()\n",
            "<frozen importlib._bootstrap>:914: ImportWarning: APICoreClientInfoImportHook.find_spec() not found; falling back to find_module()\n",
            "<frozen importlib._bootstrap>:914: ImportWarning: _BokehImportHook.find_spec() not found; falling back to find_module()\n",
            "<frozen importlib._bootstrap>:914: ImportWarning: _AltairImportHook.find_spec() not found; falling back to find_module()\n",
            "<frozen importlib._bootstrap>:914: ImportWarning: _PyDrive2ImportHook.find_spec() not found; falling back to find_module()\n",
            "<frozen importlib._bootstrap>:914: ImportWarning: _PyDriveImportHook.find_spec() not found; falling back to find_module()\n",
            "<frozen importlib._bootstrap>:914: ImportWarning: _GenerativeAIImportHook.find_spec() not found; falling back to find_module()\n",
            "<frozen importlib._bootstrap>:914: ImportWarning: _OpenCVImportHook.find_spec() not found; falling back to find_module()\n",
            "<frozen importlib._bootstrap>:914: ImportWarning: APICoreClientInfoImportHook.find_spec() not found; falling back to find_module()\n",
            "<frozen importlib._bootstrap>:914: ImportWarning: _BokehImportHook.find_spec() not found; falling back to find_module()\n",
            "<frozen importlib._bootstrap>:914: ImportWarning: _AltairImportHook.find_spec() not found; falling back to find_module()\n",
            "<frozen importlib._bootstrap>:914: ImportWarning: _PyDrive2ImportHook.find_spec() not found; falling back to find_module()\n",
            "<frozen importlib._bootstrap>:914: ImportWarning: _PyDriveImportHook.find_spec() not found; falling back to find_module()\n",
            "<frozen importlib._bootstrap>:914: ImportWarning: _GenerativeAIImportHook.find_spec() not found; falling back to find_module()\n",
            "<frozen importlib._bootstrap>:914: ImportWarning: _OpenCVImportHook.find_spec() not found; falling back to find_module()\n",
            "<frozen importlib._bootstrap>:914: ImportWarning: APICoreClientInfoImportHook.find_spec() not found; falling back to find_module()\n",
            "<frozen importlib._bootstrap>:914: ImportWarning: _BokehImportHook.find_spec() not found; falling back to find_module()\n",
            "<frozen importlib._bootstrap>:914: ImportWarning: _AltairImportHook.find_spec() not found; falling back to find_module()\n",
            "<frozen importlib._bootstrap>:914: ImportWarning: _PyDrive2ImportHook.find_spec() not found; falling back to find_module()\n",
            "<frozen importlib._bootstrap>:914: ImportWarning: _PyDriveImportHook.find_spec() not found; falling back to find_module()\n",
            "<frozen importlib._bootstrap>:914: ImportWarning: _GenerativeAIImportHook.find_spec() not found; falling back to find_module()\n",
            "<frozen importlib._bootstrap>:914: ImportWarning: _OpenCVImportHook.find_spec() not found; falling back to find_module()\n",
            "<frozen importlib._bootstrap>:914: ImportWarning: APICoreClientInfoImportHook.find_spec() not found; falling back to find_module()\n",
            "<frozen importlib._bootstrap>:914: ImportWarning: _BokehImportHook.find_spec() not found; falling back to find_module()\n",
            "<frozen importlib._bootstrap>:914: ImportWarning: _AltairImportHook.find_spec() not found; falling back to find_module()\n",
            "<frozen importlib._bootstrap>:914: ImportWarning: _PyDrive2ImportHook.find_spec() not found; falling back to find_module()\n",
            "<frozen importlib._bootstrap>:914: ImportWarning: _PyDriveImportHook.find_spec() not found; falling back to find_module()\n",
            "<frozen importlib._bootstrap>:914: ImportWarning: _GenerativeAIImportHook.find_spec() not found; falling back to find_module()\n",
            "<frozen importlib._bootstrap>:914: ImportWarning: _OpenCVImportHook.find_spec() not found; falling back to find_module()\n",
            "<frozen importlib._bootstrap>:914: ImportWarning: APICoreClientInfoImportHook.find_spec() not found; falling back to find_module()\n",
            "<frozen importlib._bootstrap>:914: ImportWarning: _BokehImportHook.find_spec() not found; falling back to find_module()\n",
            "<frozen importlib._bootstrap>:914: ImportWarning: _AltairImportHook.find_spec() not found; falling back to find_module()\n",
            "<frozen importlib._bootstrap>:914: ImportWarning: _PyDrive2ImportHook.find_spec() not found; falling back to find_module()\n",
            "<frozen importlib._bootstrap>:914: ImportWarning: _PyDriveImportHook.find_spec() not found; falling back to find_module()\n",
            "<frozen importlib._bootstrap>:914: ImportWarning: _GenerativeAIImportHook.find_spec() not found; falling back to find_module()\n",
            "<frozen importlib._bootstrap>:914: ImportWarning: _OpenCVImportHook.find_spec() not found; falling back to find_module()\n",
            "<frozen importlib._bootstrap>:914: ImportWarning: APICoreClientInfoImportHook.find_spec() not found; falling back to find_module()\n",
            "<frozen importlib._bootstrap>:914: ImportWarning: _BokehImportHook.find_spec() not found; falling back to find_module()\n",
            "<frozen importlib._bootstrap>:914: ImportWarning: _AltairImportHook.find_spec() not found; falling back to find_module()\n",
            "<frozen importlib._bootstrap>:914: ImportWarning: _PyDrive2ImportHook.find_spec() not found; falling back to find_module()\n",
            "<frozen importlib._bootstrap>:914: ImportWarning: _PyDriveImportHook.find_spec() not found; falling back to find_module()\n",
            "<frozen importlib._bootstrap>:914: ImportWarning: _GenerativeAIImportHook.find_spec() not found; falling back to find_module()\n",
            "<frozen importlib._bootstrap>:914: ImportWarning: _OpenCVImportHook.find_spec() not found; falling back to find_module()\n",
            "<frozen importlib._bootstrap>:914: ImportWarning: APICoreClientInfoImportHook.find_spec() not found; falling back to find_module()\n",
            "<frozen importlib._bootstrap>:914: ImportWarning: _BokehImportHook.find_spec() not found; falling back to find_module()\n",
            "<frozen importlib._bootstrap>:914: ImportWarning: _AltairImportHook.find_spec() not found; falling back to find_module()\n",
            "<frozen importlib._bootstrap>:914: ImportWarning: _PyDrive2ImportHook.find_spec() not found; falling back to find_module()\n",
            "<frozen importlib._bootstrap>:914: ImportWarning: _PyDriveImportHook.find_spec() not found; falling back to find_module()\n",
            "<frozen importlib._bootstrap>:914: ImportWarning: _GenerativeAIImportHook.find_spec() not found; falling back to find_module()\n",
            "<frozen importlib._bootstrap>:914: ImportWarning: _OpenCVImportHook.find_spec() not found; falling back to find_module()\n",
            "<frozen importlib._bootstrap>:914: ImportWarning: APICoreClientInfoImportHook.find_spec() not found; falling back to find_module()\n",
            "<frozen importlib._bootstrap>:914: ImportWarning: _BokehImportHook.find_spec() not found; falling back to find_module()\n",
            "<frozen importlib._bootstrap>:914: ImportWarning: _AltairImportHook.find_spec() not found; falling back to find_module()\n",
            "<frozen importlib._bootstrap>:914: ImportWarning: _PyDrive2ImportHook.find_spec() not found; falling back to find_module()\n",
            "<frozen importlib._bootstrap>:914: ImportWarning: _PyDriveImportHook.find_spec() not found; falling back to find_module()\n",
            "<frozen importlib._bootstrap>:914: ImportWarning: _GenerativeAIImportHook.find_spec() not found; falling back to find_module()\n",
            "<frozen importlib._bootstrap>:914: ImportWarning: _OpenCVImportHook.find_spec() not found; falling back to find_module()\n",
            "<frozen importlib._bootstrap>:914: ImportWarning: APICoreClientInfoImportHook.find_spec() not found; falling back to find_module()\n",
            "<frozen importlib._bootstrap>:914: ImportWarning: _BokehImportHook.find_spec() not found; falling back to find_module()\n",
            "<frozen importlib._bootstrap>:914: ImportWarning: _AltairImportHook.find_spec() not found; falling back to find_module()\n",
            "<frozen importlib._bootstrap>:914: ImportWarning: _PyDrive2ImportHook.find_spec() not found; falling back to find_module()\n",
            "<frozen importlib._bootstrap>:914: ImportWarning: _PyDriveImportHook.find_spec() not found; falling back to find_module()\n",
            "<frozen importlib._bootstrap>:914: ImportWarning: _GenerativeAIImportHook.find_spec() not found; falling back to find_module()\n",
            "<frozen importlib._bootstrap>:914: ImportWarning: _OpenCVImportHook.find_spec() not found; falling back to find_module()\n",
            "<frozen importlib._bootstrap>:914: ImportWarning: APICoreClientInfoImportHook.find_spec() not found; falling back to find_module()\n",
            "<frozen importlib._bootstrap>:914: ImportWarning: _BokehImportHook.find_spec() not found; falling back to find_module()\n",
            "<frozen importlib._bootstrap>:914: ImportWarning: _AltairImportHook.find_spec() not found; falling back to find_module()\n",
            "<frozen importlib._bootstrap>:914: ImportWarning: _PyDrive2ImportHook.find_spec() not found; falling back to find_module()\n",
            "<frozen importlib._bootstrap>:914: ImportWarning: _PyDriveImportHook.find_spec() not found; falling back to find_module()\n",
            "<frozen importlib._bootstrap>:914: ImportWarning: _GenerativeAIImportHook.find_spec() not found; falling back to find_module()\n",
            "<frozen importlib._bootstrap>:914: ImportWarning: _OpenCVImportHook.find_spec() not found; falling back to find_module()\n",
            "<frozen importlib._bootstrap>:914: ImportWarning: APICoreClientInfoImportHook.find_spec() not found; falling back to find_module()\n",
            "<frozen importlib._bootstrap>:914: ImportWarning: _BokehImportHook.find_spec() not found; falling back to find_module()\n",
            "<frozen importlib._bootstrap>:914: ImportWarning: _AltairImportHook.find_spec() not found; falling back to find_module()\n",
            "<frozen importlib._bootstrap>:914: ImportWarning: _PyDrive2ImportHook.find_spec() not found; falling back to find_module()\n",
            "<frozen importlib._bootstrap>:914: ImportWarning: _PyDriveImportHook.find_spec() not found; falling back to find_module()\n",
            "<frozen importlib._bootstrap>:914: ImportWarning: _GenerativeAIImportHook.find_spec() not found; falling back to find_module()\n",
            "<frozen importlib._bootstrap>:914: ImportWarning: _OpenCVImportHook.find_spec() not found; falling back to find_module()\n",
            "<frozen importlib._bootstrap>:914: ImportWarning: APICoreClientInfoImportHook.find_spec() not found; falling back to find_module()\n",
            "<frozen importlib._bootstrap>:914: ImportWarning: _BokehImportHook.find_spec() not found; falling back to find_module()\n",
            "<frozen importlib._bootstrap>:914: ImportWarning: _AltairImportHook.find_spec() not found; falling back to find_module()\n",
            "<frozen importlib._bootstrap>:914: ImportWarning: _PyDrive2ImportHook.find_spec() not found; falling back to find_module()\n",
            "<frozen importlib._bootstrap>:914: ImportWarning: _PyDriveImportHook.find_spec() not found; falling back to find_module()\n",
            "<frozen importlib._bootstrap>:914: ImportWarning: _GenerativeAIImportHook.find_spec() not found; falling back to find_module()\n",
            "<frozen importlib._bootstrap>:914: ImportWarning: _OpenCVImportHook.find_spec() not found; falling back to find_module()\n",
            "<frozen importlib._bootstrap>:914: ImportWarning: APICoreClientInfoImportHook.find_spec() not found; falling back to find_module()\n",
            "<frozen importlib._bootstrap>:914: ImportWarning: _BokehImportHook.find_spec() not found; falling back to find_module()\n",
            "<frozen importlib._bootstrap>:914: ImportWarning: _AltairImportHook.find_spec() not found; falling back to find_module()\n",
            "<frozen importlib._bootstrap>:914: ImportWarning: _PyDrive2ImportHook.find_spec() not found; falling back to find_module()\n",
            "<frozen importlib._bootstrap>:914: ImportWarning: _PyDriveImportHook.find_spec() not found; falling back to find_module()\n",
            "<frozen importlib._bootstrap>:914: ImportWarning: _GenerativeAIImportHook.find_spec() not found; falling back to find_module()\n",
            "<frozen importlib._bootstrap>:914: ImportWarning: _OpenCVImportHook.find_spec() not found; falling back to find_module()\n",
            "<frozen importlib._bootstrap>:914: ImportWarning: APICoreClientInfoImportHook.find_spec() not found; falling back to find_module()\n",
            "<frozen importlib._bootstrap>:914: ImportWarning: _BokehImportHook.find_spec() not found; falling back to find_module()\n",
            "<frozen importlib._bootstrap>:914: ImportWarning: _AltairImportHook.find_spec() not found; falling back to find_module()\n",
            "<frozen importlib._bootstrap>:914: ImportWarning: _PyDrive2ImportHook.find_spec() not found; falling back to find_module()\n",
            "<frozen importlib._bootstrap>:914: ImportWarning: _PyDriveImportHook.find_spec() not found; falling back to find_module()\n",
            "<frozen importlib._bootstrap>:914: ImportWarning: _GenerativeAIImportHook.find_spec() not found; falling back to find_module()\n",
            "<frozen importlib._bootstrap>:914: ImportWarning: _OpenCVImportHook.find_spec() not found; falling back to find_module()\n",
            "<frozen importlib._bootstrap>:914: ImportWarning: APICoreClientInfoImportHook.find_spec() not found; falling back to find_module()\n",
            "<frozen importlib._bootstrap>:914: ImportWarning: _BokehImportHook.find_spec() not found; falling back to find_module()\n",
            "<frozen importlib._bootstrap>:914: ImportWarning: _AltairImportHook.find_spec() not found; falling back to find_module()\n"
          ]
        },
        {
          "output_type": "stream",
          "name": "stdout",
          "text": [
            "[2024-09-08 04:03:44] (2.4.1.post1) PyABSA(2.4.1.post1): If your code crashes on Colab, please use the GPU runtime. Then run \"pip install pyabsa[dev] -U\" and restart the kernel.\n",
            "Or if it does not work, you can use v1.x versions, e.g., pip install pyabsa<2.0 -U\n",
            "\n",
            "\n",
            "\n",
            "\n",
            "WARNING: When you fails to load a checkpoint, e.g., Unexpected key(s),\n",
            "Try to downgrade transformers<=4.29.0.\n",
            "\n",
            "\n",
            "\n",
            "\n"
          ]
        },
        {
          "output_type": "stream",
          "name": "stderr",
          "text": [
            "/usr/lib/python3.10/multiprocessing/popen_fork.py:66: RuntimeWarning: os.fork() was called. os.fork() is incompatible with multithreaded code, and JAX is multithreaded, so this will likely lead to a deadlock.\n",
            "  self.pid = os.fork()\n"
          ]
        },
        {
          "output_type": "stream",
          "name": "stdout",
          "text": [
            "[2024-09-08 04:03:57] (2.4.1.post1) To ensure your conversion is successful, make sure the dataset name contain \"apc\" and \"dataset\" string \n",
            "[2024-09-08 04:03:57] (2.4.1.post1) Find datasets files at /content/drive/MyDrive/Entity_Sentiment_Analysis/Nice_dataset.apc.train.txt:\n",
            "[2024-09-08 04:03:57] (2.4.1.post1) coverting /content/drive/MyDrive/Entity_Sentiment_Analysis/Nice_dataset.apc.train.txt to /content/drive/MyDrive/Entity_Sentiment_Analysis/Nice_dataset.apc.train.txt.atepc\n"
          ]
        },
        {
          "output_type": "stream",
          "name": "stderr",
          "text": [
            "/usr/lib/python3.10/multiprocessing/pool.py:268: ResourceWarning: unclosed running multiprocessing pool <multiprocessing.pool.Pool state=RUN pool_size=1>\n",
            "  _warn(f\"unclosed running multiprocessing pool {self!r}\",\n",
            "ResourceWarning: Enable tracemalloc to get the object allocation traceback\n"
          ]
        },
        {
          "output_type": "stream",
          "name": "stdout",
          "text": [
            "[2024-09-08 04:03:58] (2.4.1.post1) finished\n",
            "[2024-09-08 04:03:58] (2.4.1.post1) To ensure your conversion is successful, make sure the dataset name contain \"apc\" and \"dataset\" string \n",
            "[2024-09-08 04:03:58] (2.4.1.post1) Find datasets files at /content/drive/MyDrive/Entity_Sentiment_Analysis/Nice_dataset.apc.test.txt:\n",
            "[2024-09-08 04:03:58] (2.4.1.post1) coverting /content/drive/MyDrive/Entity_Sentiment_Analysis/Nice_dataset.apc.test.txt to /content/drive/MyDrive/Entity_Sentiment_Analysis/Nice_dataset.apc.test.txt.atepc\n",
            "[2024-09-08 04:03:59] (2.4.1.post1) finished\n"
          ]
        }
      ]
    },
    {
      "cell_type": "markdown",
      "source": [
        "**Train the model**"
      ],
      "metadata": {
        "id": "NiKM08OZ9NvC"
      }
    },
    {
      "cell_type": "code",
      "source": [
        "from pyabsa.tasks.AspectTermExtraction.models import ATEPCModelList\n",
        "from pyabsa.tasks.AspectTermExtraction.trainer.atepc_trainer import ATEPCTrainer\n",
        "from pyabsa.tasks.AspectTermExtraction.configuration.atepc_configuration import ATEPCConfigManager\n",
        "\n",
        "atepc_config = ATEPCConfigManager.get_atepc_config_english()\n",
        "\n",
        "atepc_config.pretrained_bert = 'bert-base-uncased'\n",
        "atepc_config.model = ATEPCModelList.FAST_LCF_ATEPC\n",
        "dataset_path = '/content/drive/MyDrive/Entity_Sentiment_Analysis'\n",
        "\n",
        "aspect_extractor = ATEPCTrainer(config=atepc_config,\n",
        "                          dataset=dataset_path,\n",
        "                          from_checkpoint='',  # set checkpoint to train on the checkpoint.\n",
        "                          checkpoint_save_mode=1,\n",
        "                          auto_device=True\n",
        "                          ).load_trained_model()"
      ],
      "metadata": {
        "colab": {
          "base_uri": "https://localhost:8080/",
          "height": 1000,
          "referenced_widgets": [
            "2d9aeeb1cca74376986c9ffde92ca533",
            "fe9cc087a58b4d78bc668daf9c1eac48",
            "22bf6557080a4a2c9588dcf2250252a9",
            "0d18d32cad0742e7a096532589da0ac2",
            "fa3416d8f82a439fb157a875b5fe7988",
            "a499445d27144af884f7e5af5097430a",
            "25011e0ce3e64d578840b36affafa45a",
            "07cfef8e547a4964923e44ce985a865a",
            "0edea323e73d4dd5bd5db255a2ebd59c",
            "f6c4632ae52a4c998ad93d8b1223357f",
            "b528ae8ac7b14c74927adf447593439d",
            "753d79d0617d46b894f5ad03c401075c",
            "7ef35adcdea44b079fe4858b79227e0d",
            "3940be55dd0d4309a37ea511ea991434",
            "0a995afc58a141d8a39bcd8dce003ae2",
            "f625b7318e36479196ee84f7bc1edec7",
            "80c7ef3996374562900b0b49036cde0f",
            "c6cf4aab237846c188af67b80dba2415",
            "9bcf3a6eaf1d43d0a373512a382fb3d0",
            "6817ac69660945a0861438c89900d5b7",
            "5957434510c34d49998b34ee385920bf",
            "ced00f0fe3d14bb4a9e6e40fd56c4db9",
            "1c2ab10857654f6fbcce191584dd2ae9",
            "846334b7d2294dc0aa9aaae8a2ce4204",
            "0a7e08f5491c4ed48acfce8c9e367f18",
            "d0de856ea5ce4660b7c90ec572beb450",
            "f11949616d5a4132994495202d2d004c",
            "c21d284f32f544b684fe3591a6015283",
            "eff13e773e5d42c491226721868e6537",
            "b20eb754447647668be4397c0ecbcb96",
            "857c011cc1564575aed1c974bf3b93d7",
            "fa3d4b07241e4823b9bfed62cb833fb3",
            "e303af08fdf14ec887448e8afb2edf40",
            "ca123aa0f94447b391b92af1e301603d",
            "6683701c0b124423808481fb6be52061",
            "1b1b84ed69b34ee29d3a7909c2aec032",
            "a3b055dcb64a49fd8dd4e6a652a55277",
            "af12201a5b654a08924180ef18827f8f",
            "4e0b7738eb584079a6b08f858cfc5852",
            "141bcca4e07a49c08e079f1fc4305763",
            "9026441181dd4404a14f86832023acd7",
            "fe099e1f09e14f0f92249427c9862c0b",
            "5e9dbf737c2e4bccb268462eecb4a989",
            "13efc0761a0c417cab786315200fc009"
          ]
        },
        "id": "OsT1O99OPk6e",
        "outputId": "caeb401f-916c-4509-d413-65c256ec4b60"
      },
      "execution_count": 1,
      "outputs": [
        {
          "output_type": "stream",
          "name": "stderr",
          "text": [
            "<frozen importlib._bootstrap>:914: ImportWarning: _PyDrive2ImportHook.find_spec() not found; falling back to find_module()\n",
            "<frozen importlib._bootstrap>:914: ImportWarning: _PyDriveImportHook.find_spec() not found; falling back to find_module()\n",
            "<frozen importlib._bootstrap>:914: ImportWarning: _GenerativeAIImportHook.find_spec() not found; falling back to find_module()\n",
            "<frozen importlib._bootstrap>:914: ImportWarning: _OpenCVImportHook.find_spec() not found; falling back to find_module()\n",
            "<frozen importlib._bootstrap>:914: ImportWarning: APICoreClientInfoImportHook.find_spec() not found; falling back to find_module()\n",
            "<frozen importlib._bootstrap>:914: ImportWarning: _BokehImportHook.find_spec() not found; falling back to find_module()\n",
            "<frozen importlib._bootstrap>:914: ImportWarning: _AltairImportHook.find_spec() not found; falling back to find_module()\n",
            "<frozen importlib._bootstrap>:914: ImportWarning: _PyDrive2ImportHook.find_spec() not found; falling back to find_module()\n",
            "<frozen importlib._bootstrap>:914: ImportWarning: _PyDriveImportHook.find_spec() not found; falling back to find_module()\n",
            "<frozen importlib._bootstrap>:914: ImportWarning: _GenerativeAIImportHook.find_spec() not found; falling back to find_module()\n",
            "<frozen importlib._bootstrap>:914: ImportWarning: _OpenCVImportHook.find_spec() not found; falling back to find_module()\n",
            "<frozen importlib._bootstrap>:914: ImportWarning: APICoreClientInfoImportHook.find_spec() not found; falling back to find_module()\n",
            "<frozen importlib._bootstrap>:914: ImportWarning: _BokehImportHook.find_spec() not found; falling back to find_module()\n",
            "<frozen importlib._bootstrap>:914: ImportWarning: _AltairImportHook.find_spec() not found; falling back to find_module()\n",
            "<frozen importlib._bootstrap>:914: ImportWarning: _PyDrive2ImportHook.find_spec() not found; falling back to find_module()\n",
            "<frozen importlib._bootstrap>:914: ImportWarning: _PyDriveImportHook.find_spec() not found; falling back to find_module()\n",
            "<frozen importlib._bootstrap>:914: ImportWarning: _GenerativeAIImportHook.find_spec() not found; falling back to find_module()\n",
            "<frozen importlib._bootstrap>:914: ImportWarning: _OpenCVImportHook.find_spec() not found; falling back to find_module()\n",
            "<frozen importlib._bootstrap>:914: ImportWarning: APICoreClientInfoImportHook.find_spec() not found; falling back to find_module()\n",
            "<frozen importlib._bootstrap>:914: ImportWarning: _BokehImportHook.find_spec() not found; falling back to find_module()\n",
            "<frozen importlib._bootstrap>:914: ImportWarning: _AltairImportHook.find_spec() not found; falling back to find_module()\n",
            "<frozen importlib._bootstrap>:914: ImportWarning: _PyDrive2ImportHook.find_spec() not found; falling back to find_module()\n",
            "<frozen importlib._bootstrap>:914: ImportWarning: _PyDriveImportHook.find_spec() not found; falling back to find_module()\n",
            "<frozen importlib._bootstrap>:914: ImportWarning: _GenerativeAIImportHook.find_spec() not found; falling back to find_module()\n",
            "<frozen importlib._bootstrap>:914: ImportWarning: _OpenCVImportHook.find_spec() not found; falling back to find_module()\n",
            "<frozen importlib._bootstrap>:914: ImportWarning: APICoreClientInfoImportHook.find_spec() not found; falling back to find_module()\n",
            "<frozen importlib._bootstrap>:914: ImportWarning: _BokehImportHook.find_spec() not found; falling back to find_module()\n",
            "<frozen importlib._bootstrap>:914: ImportWarning: _AltairImportHook.find_spec() not found; falling back to find_module()\n",
            "<frozen importlib._bootstrap>:914: ImportWarning: _PyDrive2ImportHook.find_spec() not found; falling back to find_module()\n",
            "<frozen importlib._bootstrap>:914: ImportWarning: _PyDriveImportHook.find_spec() not found; falling back to find_module()\n",
            "<frozen importlib._bootstrap>:914: ImportWarning: _GenerativeAIImportHook.find_spec() not found; falling back to find_module()\n",
            "<frozen importlib._bootstrap>:914: ImportWarning: _OpenCVImportHook.find_spec() not found; falling back to find_module()\n",
            "<frozen importlib._bootstrap>:914: ImportWarning: APICoreClientInfoImportHook.find_spec() not found; falling back to find_module()\n",
            "<frozen importlib._bootstrap>:914: ImportWarning: _BokehImportHook.find_spec() not found; falling back to find_module()\n",
            "<frozen importlib._bootstrap>:914: ImportWarning: _AltairImportHook.find_spec() not found; falling back to find_module()\n",
            "<frozen importlib._bootstrap>:914: ImportWarning: _PyDrive2ImportHook.find_spec() not found; falling back to find_module()\n",
            "<frozen importlib._bootstrap>:914: ImportWarning: _PyDriveImportHook.find_spec() not found; falling back to find_module()\n",
            "<frozen importlib._bootstrap>:914: ImportWarning: _GenerativeAIImportHook.find_spec() not found; falling back to find_module()\n",
            "<frozen importlib._bootstrap>:914: ImportWarning: _OpenCVImportHook.find_spec() not found; falling back to find_module()\n",
            "<frozen importlib._bootstrap>:914: ImportWarning: APICoreClientInfoImportHook.find_spec() not found; falling back to find_module()\n",
            "<frozen importlib._bootstrap>:914: ImportWarning: _BokehImportHook.find_spec() not found; falling back to find_module()\n",
            "<frozen importlib._bootstrap>:914: ImportWarning: _AltairImportHook.find_spec() not found; falling back to find_module()\n",
            "<frozen importlib._bootstrap>:914: ImportWarning: _PyDrive2ImportHook.find_spec() not found; falling back to find_module()\n",
            "<frozen importlib._bootstrap>:914: ImportWarning: _PyDriveImportHook.find_spec() not found; falling back to find_module()\n",
            "<frozen importlib._bootstrap>:914: ImportWarning: _GenerativeAIImportHook.find_spec() not found; falling back to find_module()\n",
            "<frozen importlib._bootstrap>:914: ImportWarning: _OpenCVImportHook.find_spec() not found; falling back to find_module()\n",
            "<frozen importlib._bootstrap>:914: ImportWarning: APICoreClientInfoImportHook.find_spec() not found; falling back to find_module()\n",
            "<frozen importlib._bootstrap>:914: ImportWarning: _BokehImportHook.find_spec() not found; falling back to find_module()\n",
            "<frozen importlib._bootstrap>:914: ImportWarning: _AltairImportHook.find_spec() not found; falling back to find_module()\n",
            "<frozen importlib._bootstrap>:914: ImportWarning: _PyDrive2ImportHook.find_spec() not found; falling back to find_module()\n",
            "<frozen importlib._bootstrap>:914: ImportWarning: _PyDriveImportHook.find_spec() not found; falling back to find_module()\n",
            "<frozen importlib._bootstrap>:914: ImportWarning: _GenerativeAIImportHook.find_spec() not found; falling back to find_module()\n",
            "<frozen importlib._bootstrap>:914: ImportWarning: _OpenCVImportHook.find_spec() not found; falling back to find_module()\n",
            "<frozen importlib._bootstrap>:914: ImportWarning: APICoreClientInfoImportHook.find_spec() not found; falling back to find_module()\n",
            "<frozen importlib._bootstrap>:914: ImportWarning: _BokehImportHook.find_spec() not found; falling back to find_module()\n",
            "<frozen importlib._bootstrap>:914: ImportWarning: _AltairImportHook.find_spec() not found; falling back to find_module()\n",
            "<frozen importlib._bootstrap>:914: ImportWarning: _PyDrive2ImportHook.find_spec() not found; falling back to find_module()\n",
            "<frozen importlib._bootstrap>:914: ImportWarning: _PyDriveImportHook.find_spec() not found; falling back to find_module()\n",
            "<frozen importlib._bootstrap>:914: ImportWarning: _GenerativeAIImportHook.find_spec() not found; falling back to find_module()\n",
            "<frozen importlib._bootstrap>:914: ImportWarning: _OpenCVImportHook.find_spec() not found; falling back to find_module()\n",
            "<frozen importlib._bootstrap>:914: ImportWarning: APICoreClientInfoImportHook.find_spec() not found; falling back to find_module()\n",
            "<frozen importlib._bootstrap>:914: ImportWarning: _BokehImportHook.find_spec() not found; falling back to find_module()\n",
            "<frozen importlib._bootstrap>:914: ImportWarning: _AltairImportHook.find_spec() not found; falling back to find_module()\n",
            "<frozen importlib._bootstrap>:914: ImportWarning: _PyDrive2ImportHook.find_spec() not found; falling back to find_module()\n",
            "<frozen importlib._bootstrap>:914: ImportWarning: _PyDriveImportHook.find_spec() not found; falling back to find_module()\n",
            "<frozen importlib._bootstrap>:914: ImportWarning: _GenerativeAIImportHook.find_spec() not found; falling back to find_module()\n",
            "<frozen importlib._bootstrap>:914: ImportWarning: _OpenCVImportHook.find_spec() not found; falling back to find_module()\n",
            "<frozen importlib._bootstrap>:914: ImportWarning: APICoreClientInfoImportHook.find_spec() not found; falling back to find_module()\n",
            "<frozen importlib._bootstrap>:914: ImportWarning: _BokehImportHook.find_spec() not found; falling back to find_module()\n",
            "<frozen importlib._bootstrap>:914: ImportWarning: _AltairImportHook.find_spec() not found; falling back to find_module()\n",
            "<frozen importlib._bootstrap>:914: ImportWarning: _PyDrive2ImportHook.find_spec() not found; falling back to find_module()\n",
            "<frozen importlib._bootstrap>:914: ImportWarning: _PyDriveImportHook.find_spec() not found; falling back to find_module()\n",
            "<frozen importlib._bootstrap>:914: ImportWarning: _GenerativeAIImportHook.find_spec() not found; falling back to find_module()\n",
            "<frozen importlib._bootstrap>:914: ImportWarning: _OpenCVImportHook.find_spec() not found; falling back to find_module()\n",
            "<frozen importlib._bootstrap>:914: ImportWarning: APICoreClientInfoImportHook.find_spec() not found; falling back to find_module()\n",
            "<frozen importlib._bootstrap>:914: ImportWarning: _BokehImportHook.find_spec() not found; falling back to find_module()\n",
            "<frozen importlib._bootstrap>:914: ImportWarning: _AltairImportHook.find_spec() not found; falling back to find_module()\n",
            "<frozen importlib._bootstrap>:914: ImportWarning: _PyDrive2ImportHook.find_spec() not found; falling back to find_module()\n",
            "<frozen importlib._bootstrap>:914: ImportWarning: _PyDriveImportHook.find_spec() not found; falling back to find_module()\n",
            "<frozen importlib._bootstrap>:914: ImportWarning: _GenerativeAIImportHook.find_spec() not found; falling back to find_module()\n",
            "<frozen importlib._bootstrap>:914: ImportWarning: _OpenCVImportHook.find_spec() not found; falling back to find_module()\n",
            "<frozen importlib._bootstrap>:914: ImportWarning: APICoreClientInfoImportHook.find_spec() not found; falling back to find_module()\n",
            "<frozen importlib._bootstrap>:914: ImportWarning: _BokehImportHook.find_spec() not found; falling back to find_module()\n",
            "<frozen importlib._bootstrap>:914: ImportWarning: _AltairImportHook.find_spec() not found; falling back to find_module()\n",
            "<frozen importlib._bootstrap>:914: ImportWarning: _PyDrive2ImportHook.find_spec() not found; falling back to find_module()\n",
            "<frozen importlib._bootstrap>:914: ImportWarning: _PyDriveImportHook.find_spec() not found; falling back to find_module()\n",
            "<frozen importlib._bootstrap>:914: ImportWarning: _GenerativeAIImportHook.find_spec() not found; falling back to find_module()\n",
            "<frozen importlib._bootstrap>:914: ImportWarning: _OpenCVImportHook.find_spec() not found; falling back to find_module()\n",
            "<frozen importlib._bootstrap>:914: ImportWarning: APICoreClientInfoImportHook.find_spec() not found; falling back to find_module()\n",
            "<frozen importlib._bootstrap>:914: ImportWarning: _BokehImportHook.find_spec() not found; falling back to find_module()\n",
            "<frozen importlib._bootstrap>:914: ImportWarning: _AltairImportHook.find_spec() not found; falling back to find_module()\n",
            "<frozen importlib._bootstrap>:914: ImportWarning: _PyDrive2ImportHook.find_spec() not found; falling back to find_module()\n",
            "<frozen importlib._bootstrap>:914: ImportWarning: _PyDriveImportHook.find_spec() not found; falling back to find_module()\n",
            "<frozen importlib._bootstrap>:914: ImportWarning: _GenerativeAIImportHook.find_spec() not found; falling back to find_module()\n",
            "<frozen importlib._bootstrap>:914: ImportWarning: _OpenCVImportHook.find_spec() not found; falling back to find_module()\n",
            "<frozen importlib._bootstrap>:914: ImportWarning: APICoreClientInfoImportHook.find_spec() not found; falling back to find_module()\n",
            "<frozen importlib._bootstrap>:914: ImportWarning: _BokehImportHook.find_spec() not found; falling back to find_module()\n",
            "<frozen importlib._bootstrap>:914: ImportWarning: _AltairImportHook.find_spec() not found; falling back to find_module()\n",
            "<frozen importlib._bootstrap>:914: ImportWarning: _PyDrive2ImportHook.find_spec() not found; falling back to find_module()\n",
            "<frozen importlib._bootstrap>:914: ImportWarning: _PyDriveImportHook.find_spec() not found; falling back to find_module()\n",
            "<frozen importlib._bootstrap>:914: ImportWarning: _GenerativeAIImportHook.find_spec() not found; falling back to find_module()\n",
            "<frozen importlib._bootstrap>:914: ImportWarning: _OpenCVImportHook.find_spec() not found; falling back to find_module()\n",
            "<frozen importlib._bootstrap>:914: ImportWarning: APICoreClientInfoImportHook.find_spec() not found; falling back to find_module()\n",
            "<frozen importlib._bootstrap>:914: ImportWarning: _BokehImportHook.find_spec() not found; falling back to find_module()\n",
            "<frozen importlib._bootstrap>:914: ImportWarning: _AltairImportHook.find_spec() not found; falling back to find_module()\n",
            "<frozen importlib._bootstrap>:914: ImportWarning: _PyDrive2ImportHook.find_spec() not found; falling back to find_module()\n",
            "<frozen importlib._bootstrap>:914: ImportWarning: _PyDriveImportHook.find_spec() not found; falling back to find_module()\n",
            "<frozen importlib._bootstrap>:914: ImportWarning: _GenerativeAIImportHook.find_spec() not found; falling back to find_module()\n",
            "<frozen importlib._bootstrap>:914: ImportWarning: _OpenCVImportHook.find_spec() not found; falling back to find_module()\n",
            "<frozen importlib._bootstrap>:914: ImportWarning: APICoreClientInfoImportHook.find_spec() not found; falling back to find_module()\n",
            "<frozen importlib._bootstrap>:914: ImportWarning: _BokehImportHook.find_spec() not found; falling back to find_module()\n",
            "<frozen importlib._bootstrap>:914: ImportWarning: _AltairImportHook.find_spec() not found; falling back to find_module()\n",
            "<frozen importlib._bootstrap>:914: ImportWarning: _PyDrive2ImportHook.find_spec() not found; falling back to find_module()\n",
            "<frozen importlib._bootstrap>:914: ImportWarning: _PyDriveImportHook.find_spec() not found; falling back to find_module()\n",
            "<frozen importlib._bootstrap>:914: ImportWarning: _GenerativeAIImportHook.find_spec() not found; falling back to find_module()\n",
            "<frozen importlib._bootstrap>:914: ImportWarning: _OpenCVImportHook.find_spec() not found; falling back to find_module()\n",
            "<frozen importlib._bootstrap>:914: ImportWarning: APICoreClientInfoImportHook.find_spec() not found; falling back to find_module()\n",
            "<frozen importlib._bootstrap>:914: ImportWarning: _BokehImportHook.find_spec() not found; falling back to find_module()\n",
            "<frozen importlib._bootstrap>:914: ImportWarning: _AltairImportHook.find_spec() not found; falling back to find_module()\n",
            "<frozen importlib._bootstrap>:914: ImportWarning: _PyDrive2ImportHook.find_spec() not found; falling back to find_module()\n",
            "<frozen importlib._bootstrap>:914: ImportWarning: _PyDriveImportHook.find_spec() not found; falling back to find_module()\n",
            "<frozen importlib._bootstrap>:914: ImportWarning: _GenerativeAIImportHook.find_spec() not found; falling back to find_module()\n",
            "<frozen importlib._bootstrap>:914: ImportWarning: _OpenCVImportHook.find_spec() not found; falling back to find_module()\n",
            "<frozen importlib._bootstrap>:914: ImportWarning: APICoreClientInfoImportHook.find_spec() not found; falling back to find_module()\n",
            "<frozen importlib._bootstrap>:914: ImportWarning: _BokehImportHook.find_spec() not found; falling back to find_module()\n",
            "<frozen importlib._bootstrap>:914: ImportWarning: _AltairImportHook.find_spec() not found; falling back to find_module()\n",
            "<frozen importlib._bootstrap>:914: ImportWarning: _PyDrive2ImportHook.find_spec() not found; falling back to find_module()\n",
            "<frozen importlib._bootstrap>:914: ImportWarning: _PyDriveImportHook.find_spec() not found; falling back to find_module()\n",
            "<frozen importlib._bootstrap>:914: ImportWarning: _GenerativeAIImportHook.find_spec() not found; falling back to find_module()\n",
            "<frozen importlib._bootstrap>:914: ImportWarning: _OpenCVImportHook.find_spec() not found; falling back to find_module()\n",
            "<frozen importlib._bootstrap>:914: ImportWarning: APICoreClientInfoImportHook.find_spec() not found; falling back to find_module()\n",
            "<frozen importlib._bootstrap>:914: ImportWarning: _BokehImportHook.find_spec() not found; falling back to find_module()\n",
            "<frozen importlib._bootstrap>:914: ImportWarning: _AltairImportHook.find_spec() not found; falling back to find_module()\n",
            "<frozen importlib._bootstrap>:914: ImportWarning: _PyDrive2ImportHook.find_spec() not found; falling back to find_module()\n",
            "<frozen importlib._bootstrap>:914: ImportWarning: _PyDriveImportHook.find_spec() not found; falling back to find_module()\n",
            "<frozen importlib._bootstrap>:914: ImportWarning: _GenerativeAIImportHook.find_spec() not found; falling back to find_module()\n",
            "<frozen importlib._bootstrap>:914: ImportWarning: _OpenCVImportHook.find_spec() not found; falling back to find_module()\n",
            "<frozen importlib._bootstrap>:914: ImportWarning: APICoreClientInfoImportHook.find_spec() not found; falling back to find_module()\n",
            "<frozen importlib._bootstrap>:914: ImportWarning: _BokehImportHook.find_spec() not found; falling back to find_module()\n",
            "<frozen importlib._bootstrap>:914: ImportWarning: _AltairImportHook.find_spec() not found; falling back to find_module()\n"
          ]
        },
        {
          "output_type": "stream",
          "name": "stdout",
          "text": [
            "[2024-09-08 04:04:27] (2.4.1.post1) PyABSA(2.4.1.post1): If your code crashes on Colab, please use the GPU runtime. Then run \"pip install pyabsa[dev] -U\" and restart the kernel.\n",
            "Or if it does not work, you can use v1.x versions, e.g., pip install pyabsa<2.0 -U\n",
            "\n",
            "\n",
            "\n",
            "\n",
            "WARNING: When you fails to load a checkpoint, e.g., Unexpected key(s),\n",
            "Try to downgrade transformers<=4.29.0.\n",
            "\n",
            "\n",
            "\n",
            "\n"
          ]
        },
        {
          "output_type": "stream",
          "name": "stderr",
          "text": [
            "/usr/lib/python3.10/multiprocessing/popen_fork.py:66: RuntimeWarning: os.fork() was called. os.fork() is incompatible with multithreaded code, and JAX is multithreaded, so this will likely lead to a deadlock.\n",
            "  self.pid = os.fork()\n",
            "/usr/lib/python3.10/multiprocessing/pool.py:268: ResourceWarning: unclosed running multiprocessing pool <multiprocessing.pool.Pool state=RUN pool_size=1>\n",
            "  _warn(f\"unclosed running multiprocessing pool {self!r}\",\n",
            "ResourceWarning: Enable tracemalloc to get the object allocation traceback\n"
          ]
        },
        {
          "output_type": "stream",
          "name": "stdout",
          "text": [
            "[2024-09-08 04:04:41] (2.4.1.post1) Set Model Device: cuda:0\n",
            "[2024-09-08 04:04:41] (2.4.1.post1) Device Name: Tesla T4\n"
          ]
        },
        {
          "output_type": "stream",
          "name": "stderr",
          "text": [
            "/usr/local/lib/python3.10/dist-packages/huggingface_hub/utils/_token.py:89: UserWarning: \n",
            "The secret `HF_TOKEN` does not exist in your Colab secrets.\n",
            "To authenticate with the Hugging Face Hub, create a token in your settings tab (https://huggingface.co/settings/tokens), set it as secret in your Google Colab and restart your session.\n",
            "You will be able to reuse this secret in all of your notebooks.\n",
            "Please note that authentication is recommended but still optional to access public models or datasets.\n",
            "  warnings.warn(\n"
          ]
        },
        {
          "output_type": "stream",
          "name": "stdout",
          "text": [
            "2024-09-08 04:04:43,173 INFO: PyABSA version: 2.4.1.post1\n"
          ]
        },
        {
          "output_type": "stream",
          "name": "stderr",
          "text": [
            "INFO:fast_lcf_atepc:PyABSA version: 2.4.1.post1\n"
          ]
        },
        {
          "output_type": "stream",
          "name": "stdout",
          "text": [
            "2024-09-08 04:04:43,177 INFO: Transformers version: 4.44.2\n"
          ]
        },
        {
          "output_type": "stream",
          "name": "stderr",
          "text": [
            "INFO:fast_lcf_atepc:Transformers version: 4.44.2\n"
          ]
        },
        {
          "output_type": "stream",
          "name": "stdout",
          "text": [
            "2024-09-08 04:04:43,182 INFO: Torch version: 2.4.0+cu121+cuda12.1\n"
          ]
        },
        {
          "output_type": "stream",
          "name": "stderr",
          "text": [
            "INFO:fast_lcf_atepc:Torch version: 2.4.0+cu121+cuda12.1\n"
          ]
        },
        {
          "output_type": "stream",
          "name": "stdout",
          "text": [
            "2024-09-08 04:04:43,186 INFO: Device: Tesla T4\n"
          ]
        },
        {
          "output_type": "stream",
          "name": "stderr",
          "text": [
            "INFO:fast_lcf_atepc:Device: Tesla T4\n"
          ]
        },
        {
          "output_type": "stream",
          "name": "stdout",
          "text": [
            "[2024-09-08 04:04:43] (2.4.1.post1) Try to load ['/content/drive/MyDrive/Entity_Sentiment_Analysis'] dataset from local disk\n"
          ]
        },
        {
          "output_type": "display_data",
          "data": {
            "text/plain": [
              "tokenizer_config.json:   0%|          | 0.00/48.0 [00:00<?, ?B/s]"
            ],
            "application/vnd.jupyter.widget-view+json": {
              "version_major": 2,
              "version_minor": 0,
              "model_id": "2d9aeeb1cca74376986c9ffde92ca533"
            }
          },
          "metadata": {}
        },
        {
          "output_type": "display_data",
          "data": {
            "text/plain": [
              "vocab.txt:   0%|          | 0.00/232k [00:00<?, ?B/s]"
            ],
            "application/vnd.jupyter.widget-view+json": {
              "version_major": 2,
              "version_minor": 0,
              "model_id": "753d79d0617d46b894f5ad03c401075c"
            }
          },
          "metadata": {}
        },
        {
          "output_type": "display_data",
          "data": {
            "text/plain": [
              "tokenizer.json:   0%|          | 0.00/466k [00:00<?, ?B/s]"
            ],
            "application/vnd.jupyter.widget-view+json": {
              "version_major": 2,
              "version_minor": 0,
              "model_id": "1c2ab10857654f6fbcce191584dd2ae9"
            }
          },
          "metadata": {}
        },
        {
          "output_type": "stream",
          "name": "stderr",
          "text": [
            "/usr/local/lib/python3.10/dist-packages/transformers/tokenization_utils_base.py:1601: FutureWarning: `clean_up_tokenization_spaces` was not set. It will be set to `True` by default. This behavior will be depracted in transformers v4.45, and will be then set to `False` by default. For more details check this issue: https://github.com/huggingface/transformers/issues/31884\n",
            "  warnings.warn(\n",
            "convert examples to features: 100%|██████████| 716/716 [00:03<00:00, 184.74it/s]"
          ]
        },
        {
          "output_type": "stream",
          "name": "stdout",
          "text": [
            "2024-09-08 04:04:49,424 INFO: Dataset Label Details: {'Neutral': 150, 'Positive': 243, 'Negative': 323, 'Sum': 716}\n"
          ]
        },
        {
          "output_type": "stream",
          "name": "stderr",
          "text": [
            "\n",
            "INFO:fast_lcf_atepc:Dataset Label Details: {'Neutral': 150, 'Positive': 243, 'Negative': 323, 'Sum': 716}\n",
            "/usr/local/lib/python3.10/dist-packages/pyabsa/tasks/AspectTermExtraction/instructor/atepc_instructor.py:85: UserWarning: Creating a tensor from a list of numpy.ndarrays is extremely slow. Please consider converting the list to a single numpy.ndarray with numpy.array() before converting to a tensor. (Triggered internally at ../torch/csrc/utils/tensor_new.cpp:278.)\n",
            "  lcf_cdm_vec = torch.tensor(\n",
            "convert examples to features: 100%|██████████| 244/244 [00:01<00:00, 143.43it/s]"
          ]
        },
        {
          "output_type": "stream",
          "name": "stdout",
          "text": [
            "2024-09-08 04:04:52,656 INFO: Dataset Label Details: {'Neutral': 51, 'Positive': 88, 'Negative': 105, 'Sum': 244}\n"
          ]
        },
        {
          "output_type": "stream",
          "name": "stderr",
          "text": [
            "\n",
            "INFO:fast_lcf_atepc:Dataset Label Details: {'Neutral': 51, 'Positive': 88, 'Negative': 105, 'Sum': 244}\n"
          ]
        },
        {
          "output_type": "display_data",
          "data": {
            "text/plain": [
              "model.safetensors:   0%|          | 0.00/440M [00:00<?, ?B/s]"
            ],
            "application/vnd.jupyter.widget-view+json": {
              "version_major": 2,
              "version_minor": 0,
              "model_id": "ca123aa0f94447b391b92af1e301603d"
            }
          },
          "metadata": {}
        },
        {
          "output_type": "stream",
          "name": "stdout",
          "text": [
            "2024-09-08 04:04:55,763 INFO: Save cache dataset to fast_lcf_atepc.custom_dataset.dataset.72fbbea61542baf2b563251fb6c6734ec1b8436dd8d237b03a376378f11f1f3d.cache\n"
          ]
        },
        {
          "output_type": "stream",
          "name": "stderr",
          "text": [
            "INFO:fast_lcf_atepc:Save cache dataset to fast_lcf_atepc.custom_dataset.dataset.72fbbea61542baf2b563251fb6c6734ec1b8436dd8d237b03a376378f11f1f3d.cache\n"
          ]
        },
        {
          "output_type": "stream",
          "name": "stdout",
          "text": [
            "2024-09-08 04:04:56,762 INFO: cuda memory allocated:467437568\n"
          ]
        },
        {
          "output_type": "stream",
          "name": "stderr",
          "text": [
            "INFO:fast_lcf_atepc:cuda memory allocated:467437568\n"
          ]
        },
        {
          "output_type": "stream",
          "name": "stdout",
          "text": [
            "2024-09-08 04:04:56,766 INFO: ABSADatasetsVersion:None\t-->\tCalling Count:0\n"
          ]
        },
        {
          "output_type": "stream",
          "name": "stderr",
          "text": [
            "INFO:fast_lcf_atepc:ABSADatasetsVersion:None\t-->\tCalling Count:0\n"
          ]
        },
        {
          "output_type": "stream",
          "name": "stdout",
          "text": [
            "2024-09-08 04:04:56,772 INFO: IOB_label_to_index:{'B-ASP': 1, 'I-ASP': 2, 'O': 3, '[CLS]': 4, '[SEP]': 5}\t-->\tCalling Count:1\n"
          ]
        },
        {
          "output_type": "stream",
          "name": "stderr",
          "text": [
            "INFO:fast_lcf_atepc:IOB_label_to_index:{'B-ASP': 1, 'I-ASP': 2, 'O': 3, '[CLS]': 4, '[SEP]': 5}\t-->\tCalling Count:1\n"
          ]
        },
        {
          "output_type": "stream",
          "name": "stdout",
          "text": [
            "2024-09-08 04:04:56,775 INFO: MV:<metric_visualizer.metric_visualizer.MetricVisualizer object at 0x78e7e729ac80>\t-->\tCalling Count:0\n"
          ]
        },
        {
          "output_type": "stream",
          "name": "stderr",
          "text": [
            "INFO:fast_lcf_atepc:MV:<metric_visualizer.metric_visualizer.MetricVisualizer object at 0x78e7e729ac80>\t-->\tCalling Count:0\n"
          ]
        },
        {
          "output_type": "stream",
          "name": "stdout",
          "text": [
            "2024-09-08 04:04:56,778 INFO: PyABSAVersion:2.4.1.post1\t-->\tCalling Count:1\n"
          ]
        },
        {
          "output_type": "stream",
          "name": "stderr",
          "text": [
            "INFO:fast_lcf_atepc:PyABSAVersion:2.4.1.post1\t-->\tCalling Count:1\n"
          ]
        },
        {
          "output_type": "stream",
          "name": "stdout",
          "text": [
            "2024-09-08 04:04:56,782 INFO: SRD:3\t-->\tCalling Count:1920\n"
          ]
        },
        {
          "output_type": "stream",
          "name": "stderr",
          "text": [
            "INFO:fast_lcf_atepc:SRD:3\t-->\tCalling Count:1920\n"
          ]
        },
        {
          "output_type": "stream",
          "name": "stdout",
          "text": [
            "2024-09-08 04:04:56,785 INFO: TorchVersion:2.4.0+cu121+cuda12.1\t-->\tCalling Count:1\n"
          ]
        },
        {
          "output_type": "stream",
          "name": "stderr",
          "text": [
            "INFO:fast_lcf_atepc:TorchVersion:2.4.0+cu121+cuda12.1\t-->\tCalling Count:1\n"
          ]
        },
        {
          "output_type": "stream",
          "name": "stdout",
          "text": [
            "2024-09-08 04:04:56,788 INFO: TransformersVersion:4.44.2\t-->\tCalling Count:1\n"
          ]
        },
        {
          "output_type": "stream",
          "name": "stderr",
          "text": [
            "INFO:fast_lcf_atepc:TransformersVersion:4.44.2\t-->\tCalling Count:1\n"
          ]
        },
        {
          "output_type": "stream",
          "name": "stdout",
          "text": [
            "2024-09-08 04:04:56,792 INFO: auto_device:True\t-->\tCalling Count:3\n"
          ]
        },
        {
          "output_type": "stream",
          "name": "stderr",
          "text": [
            "INFO:fast_lcf_atepc:auto_device:True\t-->\tCalling Count:3\n"
          ]
        },
        {
          "output_type": "stream",
          "name": "stdout",
          "text": [
            "2024-09-08 04:04:56,794 INFO: batch_size:16\t-->\tCalling Count:4\n"
          ]
        },
        {
          "output_type": "stream",
          "name": "stderr",
          "text": [
            "INFO:fast_lcf_atepc:batch_size:16\t-->\tCalling Count:4\n"
          ]
        },
        {
          "output_type": "stream",
          "name": "stdout",
          "text": [
            "2024-09-08 04:04:56,796 INFO: cache_dataset:True\t-->\tCalling Count:1\n"
          ]
        },
        {
          "output_type": "stream",
          "name": "stderr",
          "text": [
            "INFO:fast_lcf_atepc:cache_dataset:True\t-->\tCalling Count:1\n"
          ]
        },
        {
          "output_type": "stream",
          "name": "stdout",
          "text": [
            "2024-09-08 04:04:56,799 INFO: checkpoint_save_mode:1\t-->\tCalling Count:4\n"
          ]
        },
        {
          "output_type": "stream",
          "name": "stderr",
          "text": [
            "INFO:fast_lcf_atepc:checkpoint_save_mode:1\t-->\tCalling Count:4\n"
          ]
        },
        {
          "output_type": "stream",
          "name": "stdout",
          "text": [
            "2024-09-08 04:04:56,801 INFO: cross_validate_fold:-1\t-->\tCalling Count:0\n"
          ]
        },
        {
          "output_type": "stream",
          "name": "stderr",
          "text": [
            "INFO:fast_lcf_atepc:cross_validate_fold:-1\t-->\tCalling Count:0\n"
          ]
        },
        {
          "output_type": "stream",
          "name": "stdout",
          "text": [
            "2024-09-08 04:04:56,803 INFO: dataset_file:{'train': ['drive/MyDrive/Entity_Sentiment_Analysis/Nice_dataset.apc.train.txt.atepc'], 'test': ['drive/MyDrive/Entity_Sentiment_Analysis/Nice_dataset.apc.test.txt.atepc'], 'valid': []}\t-->\tCalling Count:6\n"
          ]
        },
        {
          "output_type": "stream",
          "name": "stderr",
          "text": [
            "INFO:fast_lcf_atepc:dataset_file:{'train': ['drive/MyDrive/Entity_Sentiment_Analysis/Nice_dataset.apc.train.txt.atepc'], 'test': ['drive/MyDrive/Entity_Sentiment_Analysis/Nice_dataset.apc.test.txt.atepc'], 'valid': []}\t-->\tCalling Count:6\n"
          ]
        },
        {
          "output_type": "stream",
          "name": "stdout",
          "text": [
            "2024-09-08 04:04:56,806 INFO: dataset_name:custom_dataset\t-->\tCalling Count:3\n"
          ]
        },
        {
          "output_type": "stream",
          "name": "stderr",
          "text": [
            "INFO:fast_lcf_atepc:dataset_name:custom_dataset\t-->\tCalling Count:3\n"
          ]
        },
        {
          "output_type": "stream",
          "name": "stdout",
          "text": [
            "2024-09-08 04:04:56,808 INFO: device:cuda:0\t-->\tCalling Count:4\n"
          ]
        },
        {
          "output_type": "stream",
          "name": "stderr",
          "text": [
            "INFO:fast_lcf_atepc:device:cuda:0\t-->\tCalling Count:4\n"
          ]
        },
        {
          "output_type": "stream",
          "name": "stdout",
          "text": [
            "2024-09-08 04:04:56,810 INFO: device_name:Tesla T4\t-->\tCalling Count:1\n"
          ]
        },
        {
          "output_type": "stream",
          "name": "stderr",
          "text": [
            "INFO:fast_lcf_atepc:device_name:Tesla T4\t-->\tCalling Count:1\n"
          ]
        },
        {
          "output_type": "stream",
          "name": "stdout",
          "text": [
            "2024-09-08 04:04:56,813 INFO: dropout:0.5\t-->\tCalling Count:1\n"
          ]
        },
        {
          "output_type": "stream",
          "name": "stderr",
          "text": [
            "INFO:fast_lcf_atepc:dropout:0.5\t-->\tCalling Count:1\n"
          ]
        },
        {
          "output_type": "stream",
          "name": "stdout",
          "text": [
            "2024-09-08 04:04:56,815 INFO: dynamic_truncate:True\t-->\tCalling Count:1920\n"
          ]
        },
        {
          "output_type": "stream",
          "name": "stderr",
          "text": [
            "INFO:fast_lcf_atepc:dynamic_truncate:True\t-->\tCalling Count:1920\n"
          ]
        },
        {
          "output_type": "stream",
          "name": "stdout",
          "text": [
            "2024-09-08 04:04:56,818 INFO: embed_dim:768\t-->\tCalling Count:0\n"
          ]
        },
        {
          "output_type": "stream",
          "name": "stderr",
          "text": [
            "INFO:fast_lcf_atepc:embed_dim:768\t-->\tCalling Count:0\n"
          ]
        },
        {
          "output_type": "stream",
          "name": "stdout",
          "text": [
            "2024-09-08 04:04:56,820 INFO: evaluate_begin:0\t-->\tCalling Count:0\n"
          ]
        },
        {
          "output_type": "stream",
          "name": "stderr",
          "text": [
            "INFO:fast_lcf_atepc:evaluate_begin:0\t-->\tCalling Count:0\n"
          ]
        },
        {
          "output_type": "stream",
          "name": "stdout",
          "text": [
            "2024-09-08 04:04:56,822 INFO: from_checkpoint:\t-->\tCalling Count:0\n"
          ]
        },
        {
          "output_type": "stream",
          "name": "stderr",
          "text": [
            "INFO:fast_lcf_atepc:from_checkpoint:\t-->\tCalling Count:0\n"
          ]
        },
        {
          "output_type": "stream",
          "name": "stdout",
          "text": [
            "2024-09-08 04:04:56,825 INFO: gradient_accumulation_steps:1\t-->\tCalling Count:3\n"
          ]
        },
        {
          "output_type": "stream",
          "name": "stderr",
          "text": [
            "INFO:fast_lcf_atepc:gradient_accumulation_steps:1\t-->\tCalling Count:3\n"
          ]
        },
        {
          "output_type": "stream",
          "name": "stdout",
          "text": [
            "2024-09-08 04:04:56,826 INFO: hidden_dim:768\t-->\tCalling Count:6\n"
          ]
        },
        {
          "output_type": "stream",
          "name": "stderr",
          "text": [
            "INFO:fast_lcf_atepc:hidden_dim:768\t-->\tCalling Count:6\n"
          ]
        },
        {
          "output_type": "stream",
          "name": "stdout",
          "text": [
            "2024-09-08 04:04:56,828 INFO: index_to_IOB_label:{1: 'B-ASP', 2: 'I-ASP', 3: 'O', 4: '[CLS]', 5: '[SEP]'}\t-->\tCalling Count:0\n"
          ]
        },
        {
          "output_type": "stream",
          "name": "stderr",
          "text": [
            "INFO:fast_lcf_atepc:index_to_IOB_label:{1: 'B-ASP', 2: 'I-ASP', 3: 'O', 4: '[CLS]', 5: '[SEP]'}\t-->\tCalling Count:0\n"
          ]
        },
        {
          "output_type": "stream",
          "name": "stdout",
          "text": [
            "2024-09-08 04:04:56,830 INFO: index_to_label:{0: 'Negative', 1: 'Neutral', 2: 'Positive'}\t-->\tCalling Count:2\n"
          ]
        },
        {
          "output_type": "stream",
          "name": "stderr",
          "text": [
            "INFO:fast_lcf_atepc:index_to_label:{0: 'Negative', 1: 'Neutral', 2: 'Positive'}\t-->\tCalling Count:2\n"
          ]
        },
        {
          "output_type": "stream",
          "name": "stdout",
          "text": [
            "2024-09-08 04:04:56,832 INFO: inference_model:None\t-->\tCalling Count:0\n"
          ]
        },
        {
          "output_type": "stream",
          "name": "stderr",
          "text": [
            "INFO:fast_lcf_atepc:inference_model:None\t-->\tCalling Count:0\n"
          ]
        },
        {
          "output_type": "stream",
          "name": "stdout",
          "text": [
            "2024-09-08 04:04:56,833 INFO: initializer:xavier_uniform_\t-->\tCalling Count:0\n"
          ]
        },
        {
          "output_type": "stream",
          "name": "stderr",
          "text": [
            "INFO:fast_lcf_atepc:initializer:xavier_uniform_\t-->\tCalling Count:0\n"
          ]
        },
        {
          "output_type": "stream",
          "name": "stdout",
          "text": [
            "2024-09-08 04:04:56,835 INFO: l2reg:1e-05\t-->\tCalling Count:2\n"
          ]
        },
        {
          "output_type": "stream",
          "name": "stderr",
          "text": [
            "INFO:fast_lcf_atepc:l2reg:1e-05\t-->\tCalling Count:2\n"
          ]
        },
        {
          "output_type": "stream",
          "name": "stdout",
          "text": [
            "2024-09-08 04:04:56,837 INFO: label_list:['B-ASP', 'I-ASP', 'O', '[CLS]', '[SEP]']\t-->\tCalling Count:1\n"
          ]
        },
        {
          "output_type": "stream",
          "name": "stderr",
          "text": [
            "INFO:fast_lcf_atepc:label_list:['B-ASP', 'I-ASP', 'O', '[CLS]', '[SEP]']\t-->\tCalling Count:1\n"
          ]
        },
        {
          "output_type": "stream",
          "name": "stdout",
          "text": [
            "2024-09-08 04:04:56,839 INFO: label_to_index:{'Negative': 0, 'Neutral': 1, 'Positive': 2}\t-->\tCalling Count:0\n"
          ]
        },
        {
          "output_type": "stream",
          "name": "stderr",
          "text": [
            "INFO:fast_lcf_atepc:label_to_index:{'Negative': 0, 'Neutral': 1, 'Positive': 2}\t-->\tCalling Count:0\n"
          ]
        },
        {
          "output_type": "stream",
          "name": "stdout",
          "text": [
            "2024-09-08 04:04:56,840 INFO: lcf:cdw\t-->\tCalling Count:0\n"
          ]
        },
        {
          "output_type": "stream",
          "name": "stderr",
          "text": [
            "INFO:fast_lcf_atepc:lcf:cdw\t-->\tCalling Count:0\n"
          ]
        },
        {
          "output_type": "stream",
          "name": "stdout",
          "text": [
            "2024-09-08 04:04:56,842 INFO: learning_rate:2e-05\t-->\tCalling Count:1\n"
          ]
        },
        {
          "output_type": "stream",
          "name": "stderr",
          "text": [
            "INFO:fast_lcf_atepc:learning_rate:2e-05\t-->\tCalling Count:1\n"
          ]
        },
        {
          "output_type": "stream",
          "name": "stdout",
          "text": [
            "2024-09-08 04:04:56,844 INFO: load_aug:False\t-->\tCalling Count:1\n"
          ]
        },
        {
          "output_type": "stream",
          "name": "stderr",
          "text": [
            "INFO:fast_lcf_atepc:load_aug:False\t-->\tCalling Count:1\n"
          ]
        },
        {
          "output_type": "stream",
          "name": "stdout",
          "text": [
            "2024-09-08 04:04:56,845 INFO: log_step:50\t-->\tCalling Count:0\n"
          ]
        },
        {
          "output_type": "stream",
          "name": "stderr",
          "text": [
            "INFO:fast_lcf_atepc:log_step:50\t-->\tCalling Count:0\n"
          ]
        },
        {
          "output_type": "stream",
          "name": "stdout",
          "text": [
            "2024-09-08 04:04:56,849 INFO: logger:<Logger fast_lcf_atepc (INFO)>\t-->\tCalling Count:9\n"
          ]
        },
        {
          "output_type": "stream",
          "name": "stderr",
          "text": [
            "INFO:fast_lcf_atepc:logger:<Logger fast_lcf_atepc (INFO)>\t-->\tCalling Count:9\n"
          ]
        },
        {
          "output_type": "stream",
          "name": "stdout",
          "text": [
            "2024-09-08 04:04:56,851 INFO: max_seq_len:80\t-->\tCalling Count:6722\n"
          ]
        },
        {
          "output_type": "stream",
          "name": "stderr",
          "text": [
            "INFO:fast_lcf_atepc:max_seq_len:80\t-->\tCalling Count:6722\n"
          ]
        },
        {
          "output_type": "stream",
          "name": "stdout",
          "text": [
            "2024-09-08 04:04:56,855 INFO: model:<class 'pyabsa.tasks.AspectTermExtraction.models.__lcf__.fast_lcf_atepc.FAST_LCF_ATEPC'>\t-->\tCalling Count:5\n"
          ]
        },
        {
          "output_type": "stream",
          "name": "stderr",
          "text": [
            "INFO:fast_lcf_atepc:model:<class 'pyabsa.tasks.AspectTermExtraction.models.__lcf__.fast_lcf_atepc.FAST_LCF_ATEPC'>\t-->\tCalling Count:5\n"
          ]
        },
        {
          "output_type": "stream",
          "name": "stdout",
          "text": [
            "2024-09-08 04:04:56,857 INFO: model_name:fast_lcf_atepc\t-->\tCalling Count:962\n"
          ]
        },
        {
          "output_type": "stream",
          "name": "stderr",
          "text": [
            "INFO:fast_lcf_atepc:model_name:fast_lcf_atepc\t-->\tCalling Count:962\n"
          ]
        },
        {
          "output_type": "stream",
          "name": "stdout",
          "text": [
            "2024-09-08 04:04:56,859 INFO: model_path_to_save:checkpoints\t-->\tCalling Count:3\n"
          ]
        },
        {
          "output_type": "stream",
          "name": "stderr",
          "text": [
            "INFO:fast_lcf_atepc:model_path_to_save:checkpoints\t-->\tCalling Count:3\n"
          ]
        },
        {
          "output_type": "stream",
          "name": "stdout",
          "text": [
            "2024-09-08 04:04:56,861 INFO: num_epoch:10\t-->\tCalling Count:1\n"
          ]
        },
        {
          "output_type": "stream",
          "name": "stderr",
          "text": [
            "INFO:fast_lcf_atepc:num_epoch:10\t-->\tCalling Count:1\n"
          ]
        },
        {
          "output_type": "stream",
          "name": "stdout",
          "text": [
            "2024-09-08 04:04:56,862 INFO: num_labels:6\t-->\tCalling Count:2\n"
          ]
        },
        {
          "output_type": "stream",
          "name": "stderr",
          "text": [
            "INFO:fast_lcf_atepc:num_labels:6\t-->\tCalling Count:2\n"
          ]
        },
        {
          "output_type": "stream",
          "name": "stdout",
          "text": [
            "2024-09-08 04:04:56,864 INFO: optimizer:adamw\t-->\tCalling Count:2\n"
          ]
        },
        {
          "output_type": "stream",
          "name": "stderr",
          "text": [
            "INFO:fast_lcf_atepc:optimizer:adamw\t-->\tCalling Count:2\n"
          ]
        },
        {
          "output_type": "stream",
          "name": "stdout",
          "text": [
            "2024-09-08 04:04:56,866 INFO: output_dim:3\t-->\tCalling Count:1\n"
          ]
        },
        {
          "output_type": "stream",
          "name": "stderr",
          "text": [
            "INFO:fast_lcf_atepc:output_dim:3\t-->\tCalling Count:1\n"
          ]
        },
        {
          "output_type": "stream",
          "name": "stdout",
          "text": [
            "2024-09-08 04:04:56,868 INFO: overwrite_cache:False\t-->\tCalling Count:0\n"
          ]
        },
        {
          "output_type": "stream",
          "name": "stderr",
          "text": [
            "INFO:fast_lcf_atepc:overwrite_cache:False\t-->\tCalling Count:0\n"
          ]
        },
        {
          "output_type": "stream",
          "name": "stdout",
          "text": [
            "2024-09-08 04:04:56,869 INFO: path_to_save:None\t-->\tCalling Count:1\n"
          ]
        },
        {
          "output_type": "stream",
          "name": "stderr",
          "text": [
            "INFO:fast_lcf_atepc:path_to_save:None\t-->\tCalling Count:1\n"
          ]
        },
        {
          "output_type": "stream",
          "name": "stdout",
          "text": [
            "2024-09-08 04:04:56,871 INFO: patience:99999\t-->\tCalling Count:0\n"
          ]
        },
        {
          "output_type": "stream",
          "name": "stderr",
          "text": [
            "INFO:fast_lcf_atepc:patience:99999\t-->\tCalling Count:0\n"
          ]
        },
        {
          "output_type": "stream",
          "name": "stdout",
          "text": [
            "2024-09-08 04:04:56,873 INFO: pretrained_bert:bert-base-uncased\t-->\tCalling Count:5\n"
          ]
        },
        {
          "output_type": "stream",
          "name": "stderr",
          "text": [
            "INFO:fast_lcf_atepc:pretrained_bert:bert-base-uncased\t-->\tCalling Count:5\n"
          ]
        },
        {
          "output_type": "stream",
          "name": "stdout",
          "text": [
            "2024-09-08 04:04:56,875 INFO: save_mode:1\t-->\tCalling Count:0\n"
          ]
        },
        {
          "output_type": "stream",
          "name": "stderr",
          "text": [
            "INFO:fast_lcf_atepc:save_mode:1\t-->\tCalling Count:0\n"
          ]
        },
        {
          "output_type": "stream",
          "name": "stdout",
          "text": [
            "2024-09-08 04:04:56,876 INFO: seed:52\t-->\tCalling Count:7\n"
          ]
        },
        {
          "output_type": "stream",
          "name": "stderr",
          "text": [
            "INFO:fast_lcf_atepc:seed:52\t-->\tCalling Count:7\n"
          ]
        },
        {
          "output_type": "stream",
          "name": "stdout",
          "text": [
            "2024-09-08 04:04:56,878 INFO: sep_indices:102\t-->\tCalling Count:0\n"
          ]
        },
        {
          "output_type": "stream",
          "name": "stderr",
          "text": [
            "INFO:fast_lcf_atepc:sep_indices:102\t-->\tCalling Count:0\n"
          ]
        },
        {
          "output_type": "stream",
          "name": "stdout",
          "text": [
            "2024-09-08 04:04:56,880 INFO: show_metric:False\t-->\tCalling Count:0\n"
          ]
        },
        {
          "output_type": "stream",
          "name": "stderr",
          "text": [
            "INFO:fast_lcf_atepc:show_metric:False\t-->\tCalling Count:0\n"
          ]
        },
        {
          "output_type": "stream",
          "name": "stdout",
          "text": [
            "2024-09-08 04:04:56,881 INFO: spacy_model:en_core_web_sm\t-->\tCalling Count:3\n"
          ]
        },
        {
          "output_type": "stream",
          "name": "stderr",
          "text": [
            "INFO:fast_lcf_atepc:spacy_model:en_core_web_sm\t-->\tCalling Count:3\n"
          ]
        },
        {
          "output_type": "stream",
          "name": "stdout",
          "text": [
            "2024-09-08 04:04:56,883 INFO: srd_alignment:True\t-->\tCalling Count:0\n"
          ]
        },
        {
          "output_type": "stream",
          "name": "stderr",
          "text": [
            "INFO:fast_lcf_atepc:srd_alignment:True\t-->\tCalling Count:0\n"
          ]
        },
        {
          "output_type": "stream",
          "name": "stdout",
          "text": [
            "2024-09-08 04:04:56,885 INFO: task_code:ATEPC\t-->\tCalling Count:1\n"
          ]
        },
        {
          "output_type": "stream",
          "name": "stderr",
          "text": [
            "INFO:fast_lcf_atepc:task_code:ATEPC\t-->\tCalling Count:1\n"
          ]
        },
        {
          "output_type": "stream",
          "name": "stdout",
          "text": [
            "2024-09-08 04:04:56,887 INFO: task_name:Aspect Term Extraction and Polarity Classification\t-->\tCalling Count:0\n"
          ]
        },
        {
          "output_type": "stream",
          "name": "stderr",
          "text": [
            "INFO:fast_lcf_atepc:task_name:Aspect Term Extraction and Polarity Classification\t-->\tCalling Count:0\n"
          ]
        },
        {
          "output_type": "stream",
          "name": "stdout",
          "text": [
            "2024-09-08 04:04:56,888 INFO: use_amp:False\t-->\tCalling Count:1\n"
          ]
        },
        {
          "output_type": "stream",
          "name": "stderr",
          "text": [
            "INFO:fast_lcf_atepc:use_amp:False\t-->\tCalling Count:1\n"
          ]
        },
        {
          "output_type": "stream",
          "name": "stdout",
          "text": [
            "2024-09-08 04:04:56,890 INFO: use_bert_spc:True\t-->\tCalling Count:0\n"
          ]
        },
        {
          "output_type": "stream",
          "name": "stderr",
          "text": [
            "INFO:fast_lcf_atepc:use_bert_spc:True\t-->\tCalling Count:0\n"
          ]
        },
        {
          "output_type": "stream",
          "name": "stdout",
          "text": [
            "2024-09-08 04:04:56,892 INFO: use_syntax_based_SRD:False\t-->\tCalling Count:960\n"
          ]
        },
        {
          "output_type": "stream",
          "name": "stderr",
          "text": [
            "INFO:fast_lcf_atepc:use_syntax_based_SRD:False\t-->\tCalling Count:960\n"
          ]
        },
        {
          "output_type": "stream",
          "name": "stdout",
          "text": [
            "2024-09-08 04:04:56,893 INFO: warmup_step:-1\t-->\tCalling Count:0\n"
          ]
        },
        {
          "output_type": "stream",
          "name": "stderr",
          "text": [
            "INFO:fast_lcf_atepc:warmup_step:-1\t-->\tCalling Count:0\n"
          ]
        },
        {
          "output_type": "stream",
          "name": "stdout",
          "text": [
            "2024-09-08 04:04:56,895 INFO: window:lr\t-->\tCalling Count:0\n"
          ]
        },
        {
          "output_type": "stream",
          "name": "stderr",
          "text": [
            "INFO:fast_lcf_atepc:window:lr\t-->\tCalling Count:0\n"
          ]
        },
        {
          "output_type": "stream",
          "name": "stdout",
          "text": [
            "2024-09-08 04:04:56,901 INFO: cuda memory allocated:467437568\n"
          ]
        },
        {
          "output_type": "stream",
          "name": "stderr",
          "text": [
            "INFO:fast_lcf_atepc:cuda memory allocated:467437568\n"
          ]
        },
        {
          "output_type": "stream",
          "name": "stdout",
          "text": [
            "2024-09-08 04:04:56,904 INFO: Model Architecture:\n",
            " FAST_LCF_ATEPC(\n",
            "  (bert4global): BertModel(\n",
            "    (embeddings): BertEmbeddings(\n",
            "      (word_embeddings): Embedding(30522, 768, padding_idx=0)\n",
            "      (position_embeddings): Embedding(512, 768)\n",
            "      (token_type_embeddings): Embedding(2, 768)\n",
            "      (LayerNorm): LayerNorm((768,), eps=1e-12, elementwise_affine=True)\n",
            "      (dropout): Dropout(p=0.1, inplace=False)\n",
            "    )\n",
            "    (encoder): BertEncoder(\n",
            "      (layer): ModuleList(\n",
            "        (0-11): 12 x BertLayer(\n",
            "          (attention): BertAttention(\n",
            "            (self): BertSdpaSelfAttention(\n",
            "              (query): Linear(in_features=768, out_features=768, bias=True)\n",
            "              (key): Linear(in_features=768, out_features=768, bias=True)\n",
            "              (value): Linear(in_features=768, out_features=768, bias=True)\n",
            "              (dropout): Dropout(p=0.1, inplace=False)\n",
            "            )\n",
            "            (output): BertSelfOutput(\n",
            "              (dense): Linear(in_features=768, out_features=768, bias=True)\n",
            "              (LayerNorm): LayerNorm((768,), eps=1e-12, elementwise_affine=True)\n",
            "              (dropout): Dropout(p=0.1, inplace=False)\n",
            "            )\n",
            "          )\n",
            "          (intermediate): BertIntermediate(\n",
            "            (dense): Linear(in_features=768, out_features=3072, bias=True)\n",
            "            (intermediate_act_fn): GELUActivation()\n",
            "          )\n",
            "          (output): BertOutput(\n",
            "            (dense): Linear(in_features=3072, out_features=768, bias=True)\n",
            "            (LayerNorm): LayerNorm((768,), eps=1e-12, elementwise_affine=True)\n",
            "            (dropout): Dropout(p=0.1, inplace=False)\n",
            "          )\n",
            "        )\n",
            "      )\n",
            "    )\n",
            "    (pooler): BertPooler(\n",
            "      (dense): Linear(in_features=768, out_features=768, bias=True)\n",
            "      (activation): Tanh()\n",
            "    )\n",
            "  )\n",
            "  (dropout): Dropout(p=0.5, inplace=False)\n",
            "  (SA1): Encoder(\n",
            "    (encoder): ModuleList(\n",
            "      (0): SelfAttention(\n",
            "        (SA): BertSelfAttention(\n",
            "          (query): Linear(in_features=768, out_features=768, bias=True)\n",
            "          (key): Linear(in_features=768, out_features=768, bias=True)\n",
            "          (value): Linear(in_features=768, out_features=768, bias=True)\n",
            "          (dropout): Dropout(p=0.1, inplace=False)\n",
            "        )\n",
            "      )\n",
            "    )\n",
            "    (tanh): Tanh()\n",
            "  )\n",
            "  (SA2): Encoder(\n",
            "    (encoder): ModuleList(\n",
            "      (0): SelfAttention(\n",
            "        (SA): BertSelfAttention(\n",
            "          (query): Linear(in_features=768, out_features=768, bias=True)\n",
            "          (key): Linear(in_features=768, out_features=768, bias=True)\n",
            "          (value): Linear(in_features=768, out_features=768, bias=True)\n",
            "          (dropout): Dropout(p=0.1, inplace=False)\n",
            "        )\n",
            "      )\n",
            "    )\n",
            "    (tanh): Tanh()\n",
            "  )\n",
            "  (linear_double): Linear(in_features=1536, out_features=768, bias=True)\n",
            "  (linear_triple): Linear(in_features=2304, out_features=768, bias=True)\n",
            "  (pooler): BertPooler(\n",
            "    (dense): Linear(in_features=768, out_features=768, bias=True)\n",
            "    (activation): Tanh()\n",
            "  )\n",
            "  (dense): Linear(in_features=768, out_features=3, bias=True)\n",
            "  (classifier): Linear(in_features=768, out_features=6, bias=True)\n",
            ")\n"
          ]
        },
        {
          "output_type": "stream",
          "name": "stderr",
          "text": [
            "INFO:fast_lcf_atepc:Model Architecture:\n",
            " FAST_LCF_ATEPC(\n",
            "  (bert4global): BertModel(\n",
            "    (embeddings): BertEmbeddings(\n",
            "      (word_embeddings): Embedding(30522, 768, padding_idx=0)\n",
            "      (position_embeddings): Embedding(512, 768)\n",
            "      (token_type_embeddings): Embedding(2, 768)\n",
            "      (LayerNorm): LayerNorm((768,), eps=1e-12, elementwise_affine=True)\n",
            "      (dropout): Dropout(p=0.1, inplace=False)\n",
            "    )\n",
            "    (encoder): BertEncoder(\n",
            "      (layer): ModuleList(\n",
            "        (0-11): 12 x BertLayer(\n",
            "          (attention): BertAttention(\n",
            "            (self): BertSdpaSelfAttention(\n",
            "              (query): Linear(in_features=768, out_features=768, bias=True)\n",
            "              (key): Linear(in_features=768, out_features=768, bias=True)\n",
            "              (value): Linear(in_features=768, out_features=768, bias=True)\n",
            "              (dropout): Dropout(p=0.1, inplace=False)\n",
            "            )\n",
            "            (output): BertSelfOutput(\n",
            "              (dense): Linear(in_features=768, out_features=768, bias=True)\n",
            "              (LayerNorm): LayerNorm((768,), eps=1e-12, elementwise_affine=True)\n",
            "              (dropout): Dropout(p=0.1, inplace=False)\n",
            "            )\n",
            "          )\n",
            "          (intermediate): BertIntermediate(\n",
            "            (dense): Linear(in_features=768, out_features=3072, bias=True)\n",
            "            (intermediate_act_fn): GELUActivation()\n",
            "          )\n",
            "          (output): BertOutput(\n",
            "            (dense): Linear(in_features=3072, out_features=768, bias=True)\n",
            "            (LayerNorm): LayerNorm((768,), eps=1e-12, elementwise_affine=True)\n",
            "            (dropout): Dropout(p=0.1, inplace=False)\n",
            "          )\n",
            "        )\n",
            "      )\n",
            "    )\n",
            "    (pooler): BertPooler(\n",
            "      (dense): Linear(in_features=768, out_features=768, bias=True)\n",
            "      (activation): Tanh()\n",
            "    )\n",
            "  )\n",
            "  (dropout): Dropout(p=0.5, inplace=False)\n",
            "  (SA1): Encoder(\n",
            "    (encoder): ModuleList(\n",
            "      (0): SelfAttention(\n",
            "        (SA): BertSelfAttention(\n",
            "          (query): Linear(in_features=768, out_features=768, bias=True)\n",
            "          (key): Linear(in_features=768, out_features=768, bias=True)\n",
            "          (value): Linear(in_features=768, out_features=768, bias=True)\n",
            "          (dropout): Dropout(p=0.1, inplace=False)\n",
            "        )\n",
            "      )\n",
            "    )\n",
            "    (tanh): Tanh()\n",
            "  )\n",
            "  (SA2): Encoder(\n",
            "    (encoder): ModuleList(\n",
            "      (0): SelfAttention(\n",
            "        (SA): BertSelfAttention(\n",
            "          (query): Linear(in_features=768, out_features=768, bias=True)\n",
            "          (key): Linear(in_features=768, out_features=768, bias=True)\n",
            "          (value): Linear(in_features=768, out_features=768, bias=True)\n",
            "          (dropout): Dropout(p=0.1, inplace=False)\n",
            "        )\n",
            "      )\n",
            "    )\n",
            "    (tanh): Tanh()\n",
            "  )\n",
            "  (linear_double): Linear(in_features=1536, out_features=768, bias=True)\n",
            "  (linear_triple): Linear(in_features=2304, out_features=768, bias=True)\n",
            "  (pooler): BertPooler(\n",
            "    (dense): Linear(in_features=768, out_features=768, bias=True)\n",
            "    (activation): Tanh()\n",
            "  )\n",
            "  (dense): Linear(in_features=768, out_features=3, bias=True)\n",
            "  (classifier): Linear(in_features=768, out_features=6, bias=True)\n",
            ")\n"
          ]
        },
        {
          "output_type": "stream",
          "name": "stdout",
          "text": [
            "2024-09-08 04:04:56,912 INFO: ABSADatasetsVersion:None\t-->\tCalling Count:0\n"
          ]
        },
        {
          "output_type": "stream",
          "name": "stderr",
          "text": [
            "INFO:fast_lcf_atepc:ABSADatasetsVersion:None\t-->\tCalling Count:0\n"
          ]
        },
        {
          "output_type": "stream",
          "name": "stdout",
          "text": [
            "2024-09-08 04:04:56,913 INFO: IOB_label_to_index:{'B-ASP': 1, 'I-ASP': 2, 'O': 3, '[CLS]': 4, '[SEP]': 5}\t-->\tCalling Count:1\n"
          ]
        },
        {
          "output_type": "stream",
          "name": "stderr",
          "text": [
            "INFO:fast_lcf_atepc:IOB_label_to_index:{'B-ASP': 1, 'I-ASP': 2, 'O': 3, '[CLS]': 4, '[SEP]': 5}\t-->\tCalling Count:1\n"
          ]
        },
        {
          "output_type": "stream",
          "name": "stdout",
          "text": [
            "2024-09-08 04:04:56,915 INFO: MV:<metric_visualizer.metric_visualizer.MetricVisualizer object at 0x78e7e729ac80>\t-->\tCalling Count:0\n"
          ]
        },
        {
          "output_type": "stream",
          "name": "stderr",
          "text": [
            "INFO:fast_lcf_atepc:MV:<metric_visualizer.metric_visualizer.MetricVisualizer object at 0x78e7e729ac80>\t-->\tCalling Count:0\n"
          ]
        },
        {
          "output_type": "stream",
          "name": "stdout",
          "text": [
            "2024-09-08 04:04:56,917 INFO: PyABSAVersion:2.4.1.post1\t-->\tCalling Count:1\n"
          ]
        },
        {
          "output_type": "stream",
          "name": "stderr",
          "text": [
            "INFO:fast_lcf_atepc:PyABSAVersion:2.4.1.post1\t-->\tCalling Count:1\n"
          ]
        },
        {
          "output_type": "stream",
          "name": "stdout",
          "text": [
            "2024-09-08 04:04:56,919 INFO: SRD:3\t-->\tCalling Count:1920\n"
          ]
        },
        {
          "output_type": "stream",
          "name": "stderr",
          "text": [
            "INFO:fast_lcf_atepc:SRD:3\t-->\tCalling Count:1920\n"
          ]
        },
        {
          "output_type": "stream",
          "name": "stdout",
          "text": [
            "2024-09-08 04:04:56,920 INFO: TorchVersion:2.4.0+cu121+cuda12.1\t-->\tCalling Count:1\n"
          ]
        },
        {
          "output_type": "stream",
          "name": "stderr",
          "text": [
            "INFO:fast_lcf_atepc:TorchVersion:2.4.0+cu121+cuda12.1\t-->\tCalling Count:1\n"
          ]
        },
        {
          "output_type": "stream",
          "name": "stdout",
          "text": [
            "2024-09-08 04:04:56,922 INFO: TransformersVersion:4.44.2\t-->\tCalling Count:1\n"
          ]
        },
        {
          "output_type": "stream",
          "name": "stderr",
          "text": [
            "INFO:fast_lcf_atepc:TransformersVersion:4.44.2\t-->\tCalling Count:1\n"
          ]
        },
        {
          "output_type": "stream",
          "name": "stdout",
          "text": [
            "2024-09-08 04:04:56,924 INFO: auto_device:True\t-->\tCalling Count:4\n"
          ]
        },
        {
          "output_type": "stream",
          "name": "stderr",
          "text": [
            "INFO:fast_lcf_atepc:auto_device:True\t-->\tCalling Count:4\n"
          ]
        },
        {
          "output_type": "stream",
          "name": "stdout",
          "text": [
            "2024-09-08 04:04:56,925 INFO: batch_size:16\t-->\tCalling Count:4\n"
          ]
        },
        {
          "output_type": "stream",
          "name": "stderr",
          "text": [
            "INFO:fast_lcf_atepc:batch_size:16\t-->\tCalling Count:4\n"
          ]
        },
        {
          "output_type": "stream",
          "name": "stdout",
          "text": [
            "2024-09-08 04:04:56,927 INFO: cache_dataset:True\t-->\tCalling Count:1\n"
          ]
        },
        {
          "output_type": "stream",
          "name": "stderr",
          "text": [
            "INFO:fast_lcf_atepc:cache_dataset:True\t-->\tCalling Count:1\n"
          ]
        },
        {
          "output_type": "stream",
          "name": "stdout",
          "text": [
            "2024-09-08 04:04:56,929 INFO: checkpoint_save_mode:1\t-->\tCalling Count:4\n"
          ]
        },
        {
          "output_type": "stream",
          "name": "stderr",
          "text": [
            "INFO:fast_lcf_atepc:checkpoint_save_mode:1\t-->\tCalling Count:4\n"
          ]
        },
        {
          "output_type": "stream",
          "name": "stdout",
          "text": [
            "2024-09-08 04:04:56,931 INFO: cross_validate_fold:-1\t-->\tCalling Count:1\n"
          ]
        },
        {
          "output_type": "stream",
          "name": "stderr",
          "text": [
            "INFO:fast_lcf_atepc:cross_validate_fold:-1\t-->\tCalling Count:1\n"
          ]
        },
        {
          "output_type": "stream",
          "name": "stdout",
          "text": [
            "2024-09-08 04:04:56,932 INFO: dataset_file:{'train': ['drive/MyDrive/Entity_Sentiment_Analysis/Nice_dataset.apc.train.txt.atepc'], 'test': ['drive/MyDrive/Entity_Sentiment_Analysis/Nice_dataset.apc.test.txt.atepc'], 'valid': []}\t-->\tCalling Count:6\n"
          ]
        },
        {
          "output_type": "stream",
          "name": "stderr",
          "text": [
            "INFO:fast_lcf_atepc:dataset_file:{'train': ['drive/MyDrive/Entity_Sentiment_Analysis/Nice_dataset.apc.train.txt.atepc'], 'test': ['drive/MyDrive/Entity_Sentiment_Analysis/Nice_dataset.apc.test.txt.atepc'], 'valid': []}\t-->\tCalling Count:6\n"
          ]
        },
        {
          "output_type": "stream",
          "name": "stdout",
          "text": [
            "2024-09-08 04:04:56,934 INFO: dataset_name:custom_dataset\t-->\tCalling Count:3\n"
          ]
        },
        {
          "output_type": "stream",
          "name": "stderr",
          "text": [
            "INFO:fast_lcf_atepc:dataset_name:custom_dataset\t-->\tCalling Count:3\n"
          ]
        },
        {
          "output_type": "stream",
          "name": "stdout",
          "text": [
            "2024-09-08 04:04:56,936 INFO: device:cuda:0\t-->\tCalling Count:8\n"
          ]
        },
        {
          "output_type": "stream",
          "name": "stderr",
          "text": [
            "INFO:fast_lcf_atepc:device:cuda:0\t-->\tCalling Count:8\n"
          ]
        },
        {
          "output_type": "stream",
          "name": "stdout",
          "text": [
            "2024-09-08 04:04:56,938 INFO: device_name:Tesla T4\t-->\tCalling Count:1\n"
          ]
        },
        {
          "output_type": "stream",
          "name": "stderr",
          "text": [
            "INFO:fast_lcf_atepc:device_name:Tesla T4\t-->\tCalling Count:1\n"
          ]
        },
        {
          "output_type": "stream",
          "name": "stdout",
          "text": [
            "2024-09-08 04:04:56,939 INFO: dropout:0.5\t-->\tCalling Count:1\n"
          ]
        },
        {
          "output_type": "stream",
          "name": "stderr",
          "text": [
            "INFO:fast_lcf_atepc:dropout:0.5\t-->\tCalling Count:1\n"
          ]
        },
        {
          "output_type": "stream",
          "name": "stdout",
          "text": [
            "2024-09-08 04:04:56,941 INFO: dynamic_truncate:True\t-->\tCalling Count:1920\n"
          ]
        },
        {
          "output_type": "stream",
          "name": "stderr",
          "text": [
            "INFO:fast_lcf_atepc:dynamic_truncate:True\t-->\tCalling Count:1920\n"
          ]
        },
        {
          "output_type": "stream",
          "name": "stdout",
          "text": [
            "2024-09-08 04:04:56,943 INFO: embed_dim:768\t-->\tCalling Count:0\n"
          ]
        },
        {
          "output_type": "stream",
          "name": "stderr",
          "text": [
            "INFO:fast_lcf_atepc:embed_dim:768\t-->\tCalling Count:0\n"
          ]
        },
        {
          "output_type": "stream",
          "name": "stdout",
          "text": [
            "2024-09-08 04:04:56,944 INFO: evaluate_begin:0\t-->\tCalling Count:0\n"
          ]
        },
        {
          "output_type": "stream",
          "name": "stderr",
          "text": [
            "INFO:fast_lcf_atepc:evaluate_begin:0\t-->\tCalling Count:0\n"
          ]
        },
        {
          "output_type": "stream",
          "name": "stdout",
          "text": [
            "2024-09-08 04:04:56,946 INFO: from_checkpoint:\t-->\tCalling Count:0\n"
          ]
        },
        {
          "output_type": "stream",
          "name": "stderr",
          "text": [
            "INFO:fast_lcf_atepc:from_checkpoint:\t-->\tCalling Count:0\n"
          ]
        },
        {
          "output_type": "stream",
          "name": "stdout",
          "text": [
            "2024-09-08 04:04:56,948 INFO: gradient_accumulation_steps:1\t-->\tCalling Count:3\n"
          ]
        },
        {
          "output_type": "stream",
          "name": "stderr",
          "text": [
            "INFO:fast_lcf_atepc:gradient_accumulation_steps:1\t-->\tCalling Count:3\n"
          ]
        },
        {
          "output_type": "stream",
          "name": "stdout",
          "text": [
            "2024-09-08 04:04:56,950 INFO: hidden_dim:768\t-->\tCalling Count:6\n"
          ]
        },
        {
          "output_type": "stream",
          "name": "stderr",
          "text": [
            "INFO:fast_lcf_atepc:hidden_dim:768\t-->\tCalling Count:6\n"
          ]
        },
        {
          "output_type": "stream",
          "name": "stdout",
          "text": [
            "2024-09-08 04:04:56,951 INFO: index_to_IOB_label:{1: 'B-ASP', 2: 'I-ASP', 3: 'O', 4: '[CLS]', 5: '[SEP]'}\t-->\tCalling Count:0\n"
          ]
        },
        {
          "output_type": "stream",
          "name": "stderr",
          "text": [
            "INFO:fast_lcf_atepc:index_to_IOB_label:{1: 'B-ASP', 2: 'I-ASP', 3: 'O', 4: '[CLS]', 5: '[SEP]'}\t-->\tCalling Count:0\n"
          ]
        },
        {
          "output_type": "stream",
          "name": "stdout",
          "text": [
            "2024-09-08 04:04:56,953 INFO: index_to_label:{0: 'Negative', 1: 'Neutral', 2: 'Positive'}\t-->\tCalling Count:2\n"
          ]
        },
        {
          "output_type": "stream",
          "name": "stderr",
          "text": [
            "INFO:fast_lcf_atepc:index_to_label:{0: 'Negative', 1: 'Neutral', 2: 'Positive'}\t-->\tCalling Count:2\n"
          ]
        },
        {
          "output_type": "stream",
          "name": "stdout",
          "text": [
            "2024-09-08 04:04:56,955 INFO: inference_model:None\t-->\tCalling Count:0\n"
          ]
        },
        {
          "output_type": "stream",
          "name": "stderr",
          "text": [
            "INFO:fast_lcf_atepc:inference_model:None\t-->\tCalling Count:0\n"
          ]
        },
        {
          "output_type": "stream",
          "name": "stdout",
          "text": [
            "2024-09-08 04:04:56,956 INFO: initializer:xavier_uniform_\t-->\tCalling Count:0\n"
          ]
        },
        {
          "output_type": "stream",
          "name": "stderr",
          "text": [
            "INFO:fast_lcf_atepc:initializer:xavier_uniform_\t-->\tCalling Count:0\n"
          ]
        },
        {
          "output_type": "stream",
          "name": "stdout",
          "text": [
            "2024-09-08 04:04:56,958 INFO: l2reg:1e-05\t-->\tCalling Count:2\n"
          ]
        },
        {
          "output_type": "stream",
          "name": "stderr",
          "text": [
            "INFO:fast_lcf_atepc:l2reg:1e-05\t-->\tCalling Count:2\n"
          ]
        },
        {
          "output_type": "stream",
          "name": "stdout",
          "text": [
            "2024-09-08 04:04:56,960 INFO: label_list:['B-ASP', 'I-ASP', 'O', '[CLS]', '[SEP]']\t-->\tCalling Count:1\n"
          ]
        },
        {
          "output_type": "stream",
          "name": "stderr",
          "text": [
            "INFO:fast_lcf_atepc:label_list:['B-ASP', 'I-ASP', 'O', '[CLS]', '[SEP]']\t-->\tCalling Count:1\n"
          ]
        },
        {
          "output_type": "stream",
          "name": "stdout",
          "text": [
            "2024-09-08 04:04:56,962 INFO: label_to_index:{'Negative': 0, 'Neutral': 1, 'Positive': 2}\t-->\tCalling Count:0\n"
          ]
        },
        {
          "output_type": "stream",
          "name": "stderr",
          "text": [
            "INFO:fast_lcf_atepc:label_to_index:{'Negative': 0, 'Neutral': 1, 'Positive': 2}\t-->\tCalling Count:0\n"
          ]
        },
        {
          "output_type": "stream",
          "name": "stdout",
          "text": [
            "2024-09-08 04:04:56,963 INFO: lcf:cdw\t-->\tCalling Count:0\n"
          ]
        },
        {
          "output_type": "stream",
          "name": "stderr",
          "text": [
            "INFO:fast_lcf_atepc:lcf:cdw\t-->\tCalling Count:0\n"
          ]
        },
        {
          "output_type": "stream",
          "name": "stdout",
          "text": [
            "2024-09-08 04:04:56,965 INFO: learning_rate:2e-05\t-->\tCalling Count:1\n"
          ]
        },
        {
          "output_type": "stream",
          "name": "stderr",
          "text": [
            "INFO:fast_lcf_atepc:learning_rate:2e-05\t-->\tCalling Count:1\n"
          ]
        },
        {
          "output_type": "stream",
          "name": "stdout",
          "text": [
            "2024-09-08 04:04:56,967 INFO: load_aug:False\t-->\tCalling Count:1\n"
          ]
        },
        {
          "output_type": "stream",
          "name": "stderr",
          "text": [
            "INFO:fast_lcf_atepc:load_aug:False\t-->\tCalling Count:1\n"
          ]
        },
        {
          "output_type": "stream",
          "name": "stdout",
          "text": [
            "2024-09-08 04:04:56,969 INFO: log_step:50\t-->\tCalling Count:0\n"
          ]
        },
        {
          "output_type": "stream",
          "name": "stderr",
          "text": [
            "INFO:fast_lcf_atepc:log_step:50\t-->\tCalling Count:0\n"
          ]
        },
        {
          "output_type": "stream",
          "name": "stdout",
          "text": [
            "2024-09-08 04:04:56,970 INFO: logger:<Logger fast_lcf_atepc (INFO)>\t-->\tCalling Count:10\n"
          ]
        },
        {
          "output_type": "stream",
          "name": "stderr",
          "text": [
            "INFO:fast_lcf_atepc:logger:<Logger fast_lcf_atepc (INFO)>\t-->\tCalling Count:10\n"
          ]
        },
        {
          "output_type": "stream",
          "name": "stdout",
          "text": [
            "2024-09-08 04:04:56,972 INFO: max_seq_len:80\t-->\tCalling Count:6722\n"
          ]
        },
        {
          "output_type": "stream",
          "name": "stderr",
          "text": [
            "INFO:fast_lcf_atepc:max_seq_len:80\t-->\tCalling Count:6722\n"
          ]
        },
        {
          "output_type": "stream",
          "name": "stdout",
          "text": [
            "2024-09-08 04:04:56,974 INFO: model:<class 'pyabsa.tasks.AspectTermExtraction.models.__lcf__.fast_lcf_atepc.FAST_LCF_ATEPC'>\t-->\tCalling Count:5\n"
          ]
        },
        {
          "output_type": "stream",
          "name": "stderr",
          "text": [
            "INFO:fast_lcf_atepc:model:<class 'pyabsa.tasks.AspectTermExtraction.models.__lcf__.fast_lcf_atepc.FAST_LCF_ATEPC'>\t-->\tCalling Count:5\n"
          ]
        },
        {
          "output_type": "stream",
          "name": "stdout",
          "text": [
            "2024-09-08 04:04:56,976 INFO: model_name:fast_lcf_atepc\t-->\tCalling Count:962\n"
          ]
        },
        {
          "output_type": "stream",
          "name": "stderr",
          "text": [
            "INFO:fast_lcf_atepc:model_name:fast_lcf_atepc\t-->\tCalling Count:962\n"
          ]
        },
        {
          "output_type": "stream",
          "name": "stdout",
          "text": [
            "2024-09-08 04:04:56,977 INFO: model_path_to_save:checkpoints\t-->\tCalling Count:3\n"
          ]
        },
        {
          "output_type": "stream",
          "name": "stderr",
          "text": [
            "INFO:fast_lcf_atepc:model_path_to_save:checkpoints\t-->\tCalling Count:3\n"
          ]
        },
        {
          "output_type": "stream",
          "name": "stdout",
          "text": [
            "2024-09-08 04:04:56,979 INFO: num_epoch:10\t-->\tCalling Count:1\n"
          ]
        },
        {
          "output_type": "stream",
          "name": "stderr",
          "text": [
            "INFO:fast_lcf_atepc:num_epoch:10\t-->\tCalling Count:1\n"
          ]
        },
        {
          "output_type": "stream",
          "name": "stdout",
          "text": [
            "2024-09-08 04:04:56,981 INFO: num_labels:6\t-->\tCalling Count:2\n"
          ]
        },
        {
          "output_type": "stream",
          "name": "stderr",
          "text": [
            "INFO:fast_lcf_atepc:num_labels:6\t-->\tCalling Count:2\n"
          ]
        },
        {
          "output_type": "stream",
          "name": "stdout",
          "text": [
            "2024-09-08 04:04:56,983 INFO: optimizer:adamw\t-->\tCalling Count:2\n"
          ]
        },
        {
          "output_type": "stream",
          "name": "stderr",
          "text": [
            "INFO:fast_lcf_atepc:optimizer:adamw\t-->\tCalling Count:2\n"
          ]
        },
        {
          "output_type": "stream",
          "name": "stdout",
          "text": [
            "2024-09-08 04:04:56,984 INFO: output_dim:3\t-->\tCalling Count:1\n"
          ]
        },
        {
          "output_type": "stream",
          "name": "stderr",
          "text": [
            "INFO:fast_lcf_atepc:output_dim:3\t-->\tCalling Count:1\n"
          ]
        },
        {
          "output_type": "stream",
          "name": "stdout",
          "text": [
            "2024-09-08 04:04:56,986 INFO: overwrite_cache:False\t-->\tCalling Count:0\n"
          ]
        },
        {
          "output_type": "stream",
          "name": "stderr",
          "text": [
            "INFO:fast_lcf_atepc:overwrite_cache:False\t-->\tCalling Count:0\n"
          ]
        },
        {
          "output_type": "stream",
          "name": "stdout",
          "text": [
            "2024-09-08 04:04:56,988 INFO: path_to_save:None\t-->\tCalling Count:1\n"
          ]
        },
        {
          "output_type": "stream",
          "name": "stderr",
          "text": [
            "INFO:fast_lcf_atepc:path_to_save:None\t-->\tCalling Count:1\n"
          ]
        },
        {
          "output_type": "stream",
          "name": "stdout",
          "text": [
            "2024-09-08 04:04:56,990 INFO: patience:99999\t-->\tCalling Count:0\n"
          ]
        },
        {
          "output_type": "stream",
          "name": "stderr",
          "text": [
            "INFO:fast_lcf_atepc:patience:99999\t-->\tCalling Count:0\n"
          ]
        },
        {
          "output_type": "stream",
          "name": "stdout",
          "text": [
            "2024-09-08 04:04:56,991 INFO: pretrained_bert:bert-base-uncased\t-->\tCalling Count:5\n"
          ]
        },
        {
          "output_type": "stream",
          "name": "stderr",
          "text": [
            "INFO:fast_lcf_atepc:pretrained_bert:bert-base-uncased\t-->\tCalling Count:5\n"
          ]
        },
        {
          "output_type": "stream",
          "name": "stdout",
          "text": [
            "2024-09-08 04:04:56,993 INFO: save_mode:1\t-->\tCalling Count:0\n"
          ]
        },
        {
          "output_type": "stream",
          "name": "stderr",
          "text": [
            "INFO:fast_lcf_atepc:save_mode:1\t-->\tCalling Count:0\n"
          ]
        },
        {
          "output_type": "stream",
          "name": "stdout",
          "text": [
            "2024-09-08 04:04:56,995 INFO: seed:52\t-->\tCalling Count:7\n"
          ]
        },
        {
          "output_type": "stream",
          "name": "stderr",
          "text": [
            "INFO:fast_lcf_atepc:seed:52\t-->\tCalling Count:7\n"
          ]
        },
        {
          "output_type": "stream",
          "name": "stdout",
          "text": [
            "2024-09-08 04:04:56,997 INFO: sep_indices:102\t-->\tCalling Count:0\n"
          ]
        },
        {
          "output_type": "stream",
          "name": "stderr",
          "text": [
            "INFO:fast_lcf_atepc:sep_indices:102\t-->\tCalling Count:0\n"
          ]
        },
        {
          "output_type": "stream",
          "name": "stdout",
          "text": [
            "2024-09-08 04:04:56,999 INFO: show_metric:False\t-->\tCalling Count:0\n"
          ]
        },
        {
          "output_type": "stream",
          "name": "stderr",
          "text": [
            "INFO:fast_lcf_atepc:show_metric:False\t-->\tCalling Count:0\n"
          ]
        },
        {
          "output_type": "stream",
          "name": "stdout",
          "text": [
            "2024-09-08 04:04:57,000 INFO: spacy_model:en_core_web_sm\t-->\tCalling Count:3\n"
          ]
        },
        {
          "output_type": "stream",
          "name": "stderr",
          "text": [
            "INFO:fast_lcf_atepc:spacy_model:en_core_web_sm\t-->\tCalling Count:3\n"
          ]
        },
        {
          "output_type": "stream",
          "name": "stdout",
          "text": [
            "2024-09-08 04:04:57,002 INFO: srd_alignment:True\t-->\tCalling Count:0\n"
          ]
        },
        {
          "output_type": "stream",
          "name": "stderr",
          "text": [
            "INFO:fast_lcf_atepc:srd_alignment:True\t-->\tCalling Count:0\n"
          ]
        },
        {
          "output_type": "stream",
          "name": "stdout",
          "text": [
            "2024-09-08 04:04:57,004 INFO: task_code:ATEPC\t-->\tCalling Count:1\n"
          ]
        },
        {
          "output_type": "stream",
          "name": "stderr",
          "text": [
            "INFO:fast_lcf_atepc:task_code:ATEPC\t-->\tCalling Count:1\n"
          ]
        },
        {
          "output_type": "stream",
          "name": "stdout",
          "text": [
            "2024-09-08 04:04:57,006 INFO: task_name:Aspect Term Extraction and Polarity Classification\t-->\tCalling Count:0\n"
          ]
        },
        {
          "output_type": "stream",
          "name": "stderr",
          "text": [
            "INFO:fast_lcf_atepc:task_name:Aspect Term Extraction and Polarity Classification\t-->\tCalling Count:0\n"
          ]
        },
        {
          "output_type": "stream",
          "name": "stdout",
          "text": [
            "2024-09-08 04:04:57,008 INFO: tokenizer:BertTokenizerFast(name_or_path='bert-base-uncased', vocab_size=30522, model_max_length=512, is_fast=True, padding_side='right', truncation_side='right', special_tokens={'bos_token': '[CLS]', 'eos_token': '[SEP]', 'unk_token': '[UNK]', 'sep_token': '[SEP]', 'pad_token': '[PAD]', 'cls_token': '[CLS]', 'mask_token': '[MASK]'}, clean_up_tokenization_spaces=True),  added_tokens_decoder={\n",
            "\t0: AddedToken(\"[PAD]\", rstrip=False, lstrip=False, single_word=False, normalized=False, special=True),\n",
            "\t100: AddedToken(\"[UNK]\", rstrip=False, lstrip=False, single_word=False, normalized=False, special=True),\n",
            "\t101: AddedToken(\"[CLS]\", rstrip=False, lstrip=False, single_word=False, normalized=False, special=True),\n",
            "\t102: AddedToken(\"[SEP]\", rstrip=False, lstrip=False, single_word=False, normalized=False, special=True),\n",
            "\t103: AddedToken(\"[MASK]\", rstrip=False, lstrip=False, single_word=False, normalized=False, special=True),\n",
            "}\t-->\tCalling Count:0\n"
          ]
        },
        {
          "output_type": "stream",
          "name": "stderr",
          "text": [
            "INFO:fast_lcf_atepc:tokenizer:BertTokenizerFast(name_or_path='bert-base-uncased', vocab_size=30522, model_max_length=512, is_fast=True, padding_side='right', truncation_side='right', special_tokens={'bos_token': '[CLS]', 'eos_token': '[SEP]', 'unk_token': '[UNK]', 'sep_token': '[SEP]', 'pad_token': '[PAD]', 'cls_token': '[CLS]', 'mask_token': '[MASK]'}, clean_up_tokenization_spaces=True),  added_tokens_decoder={\n",
            "\t0: AddedToken(\"[PAD]\", rstrip=False, lstrip=False, single_word=False, normalized=False, special=True),\n",
            "\t100: AddedToken(\"[UNK]\", rstrip=False, lstrip=False, single_word=False, normalized=False, special=True),\n",
            "\t101: AddedToken(\"[CLS]\", rstrip=False, lstrip=False, single_word=False, normalized=False, special=True),\n",
            "\t102: AddedToken(\"[SEP]\", rstrip=False, lstrip=False, single_word=False, normalized=False, special=True),\n",
            "\t103: AddedToken(\"[MASK]\", rstrip=False, lstrip=False, single_word=False, normalized=False, special=True),\n",
            "}\t-->\tCalling Count:0\n"
          ]
        },
        {
          "output_type": "stream",
          "name": "stdout",
          "text": [
            "2024-09-08 04:04:57,009 INFO: use_amp:False\t-->\tCalling Count:1\n"
          ]
        },
        {
          "output_type": "stream",
          "name": "stderr",
          "text": [
            "INFO:fast_lcf_atepc:use_amp:False\t-->\tCalling Count:1\n"
          ]
        },
        {
          "output_type": "stream",
          "name": "stdout",
          "text": [
            "2024-09-08 04:04:57,011 INFO: use_bert_spc:True\t-->\tCalling Count:0\n"
          ]
        },
        {
          "output_type": "stream",
          "name": "stderr",
          "text": [
            "INFO:fast_lcf_atepc:use_bert_spc:True\t-->\tCalling Count:0\n"
          ]
        },
        {
          "output_type": "stream",
          "name": "stdout",
          "text": [
            "2024-09-08 04:04:57,013 INFO: use_syntax_based_SRD:False\t-->\tCalling Count:960\n"
          ]
        },
        {
          "output_type": "stream",
          "name": "stderr",
          "text": [
            "INFO:fast_lcf_atepc:use_syntax_based_SRD:False\t-->\tCalling Count:960\n"
          ]
        },
        {
          "output_type": "stream",
          "name": "stdout",
          "text": [
            "2024-09-08 04:04:57,015 INFO: warmup_step:-1\t-->\tCalling Count:0\n"
          ]
        },
        {
          "output_type": "stream",
          "name": "stderr",
          "text": [
            "INFO:fast_lcf_atepc:warmup_step:-1\t-->\tCalling Count:0\n"
          ]
        },
        {
          "output_type": "stream",
          "name": "stdout",
          "text": [
            "2024-09-08 04:04:57,016 INFO: window:lr\t-->\tCalling Count:0\n"
          ]
        },
        {
          "output_type": "stream",
          "name": "stderr",
          "text": [
            "INFO:fast_lcf_atepc:window:lr\t-->\tCalling Count:0\n"
          ]
        },
        {
          "output_type": "stream",
          "name": "stdout",
          "text": [
            "2024-09-08 04:04:57,018 INFO: ***** Running training for Aspect Term Extraction and Polarity Classification *****\n"
          ]
        },
        {
          "output_type": "stream",
          "name": "stderr",
          "text": [
            "INFO:fast_lcf_atepc:***** Running training for Aspect Term Extraction and Polarity Classification *****\n"
          ]
        },
        {
          "output_type": "stream",
          "name": "stdout",
          "text": [
            "2024-09-08 04:04:57,020 INFO:   Num examples = 716\n"
          ]
        },
        {
          "output_type": "stream",
          "name": "stderr",
          "text": [
            "INFO:fast_lcf_atepc:  Num examples = 716\n"
          ]
        },
        {
          "output_type": "stream",
          "name": "stdout",
          "text": [
            "2024-09-08 04:04:57,022 INFO:   Batch size = 16\n"
          ]
        },
        {
          "output_type": "stream",
          "name": "stderr",
          "text": [
            "INFO:fast_lcf_atepc:  Batch size = 16\n"
          ]
        },
        {
          "output_type": "stream",
          "name": "stdout",
          "text": [
            "2024-09-08 04:04:57,026 INFO:   Num steps = 440\n"
          ]
        },
        {
          "output_type": "stream",
          "name": "stderr",
          "text": [
            "INFO:fast_lcf_atepc:  Num steps = 440\n",
            "Epoch:  0 | Smooth Loss: 1.9584:  53%|█████▎    | 24/45 [00:13<00:10,  1.93it/s]/usr/local/lib/python3.10/dist-packages/seqeval/metrics/sequence_labeling.py:171: UserWarning: [SEP] seems not to be NE tag.\n",
            "  warnings.warn('{} seems not to be NE tag.'.format(chunk))\n",
            "/usr/local/lib/python3.10/dist-packages/seqeval/metrics/v1.py:57: UndefinedMetricWarning: Precision and F-score are ill-defined and being set to 0.0 in labels with no predicted samples. Use `zero_division` parameter to control this behavior.\n",
            "  _warn_prf(average, modifier, msg_start, len(result))\n",
            "Epoch:  0 | Smooth Loss: 1.7653: 100%|██████████| 45/45 [00:27<00:00,  1.67it/s,  APC_ACC: 43.03(max:43.03) | APC_F1: 20.06(max:20.06) | ATE_F1: 0.00(max:0.00)]\n",
            "Epoch:  1 | Smooth Loss: 1.7517:   9%|▉         | 4/45 [00:01<00:15,  2.60it/s]/usr/local/lib/python3.10/dist-packages/seqeval/metrics/sequence_labeling.py:171: UserWarning: [SEP] seems not to be NE tag.\n",
            "  warnings.warn('{} seems not to be NE tag.'.format(chunk))\n",
            "Epoch:  1 | Smooth Loss: 1.6530:  64%|██████▍   | 29/45 [00:17<00:06,  2.43it/s,  APC_ACC: 43.03(max:43.03) | APC_F1: 20.06(max:20.06) | ATE_F1: 1.16(max:1.16)]/usr/local/lib/python3.10/dist-packages/seqeval/metrics/sequence_labeling.py:171: UserWarning: [SEP] seems not to be NE tag.\n",
            "  warnings.warn('{} seems not to be NE tag.'.format(chunk))\n",
            "Epoch:  1 | Smooth Loss: 1.6051: 100%|██████████| 45/45 [00:27<00:00,  1.66it/s,  APC_ACC: 41.39(max:43.03) | APC_F1: 30.91(max:30.91) | ATE_F1: 14.92(max:14.92)]\n",
            "Epoch:  2 | Smooth Loss: 1.5828:  20%|██        | 9/45 [00:03<00:15,  2.39it/s]/usr/local/lib/python3.10/dist-packages/seqeval/metrics/sequence_labeling.py:171: UserWarning: [SEP] seems not to be NE tag.\n",
            "  warnings.warn('{} seems not to be NE tag.'.format(chunk))\n",
            "Epoch:  2 | Smooth Loss: 1.5244:  76%|███████▌  | 34/45 [00:17<00:04,  2.31it/s,  APC_ACC: 46.72(max:46.72) | APC_F1: 27.24(max:30.91) | ATE_F1: 36.97(max:36.97)]/usr/local/lib/python3.10/dist-packages/seqeval/metrics/sequence_labeling.py:171: UserWarning: [SEP] seems not to be NE tag.\n",
            "  warnings.warn('{} seems not to be NE tag.'.format(chunk))\n",
            "Epoch:  2 | Smooth Loss: 1.4917: 100%|██████████| 45/45 [00:25<00:00,  1.78it/s,  APC_ACC: 50.00(max:50.00) | APC_F1: 36.44(max:36.44) | ATE_F1: 45.59(max:45.59)]\n",
            "Epoch:  3 | Smooth Loss: 1.4644:  31%|███       | 14/45 [00:06<00:14,  2.07it/s]/usr/local/lib/python3.10/dist-packages/seqeval/metrics/sequence_labeling.py:171: UserWarning: [SEP] seems not to be NE tag.\n",
            "  warnings.warn('{} seems not to be NE tag.'.format(chunk))\n",
            "Epoch:  3 | Smooth Loss: 1.4156:  87%|████████▋ | 39/45 [00:22<00:02,  2.29it/s,  APC_ACC: 50.82(max:50.82) | APC_F1: 37.16(max:37.16) | ATE_F1: 52.43(max:52.43)]/usr/local/lib/python3.10/dist-packages/seqeval/metrics/sequence_labeling.py:171: UserWarning: [SEP] seems not to be NE tag.\n",
            "  warnings.warn('{} seems not to be NE tag.'.format(chunk))\n",
            "Epoch:  3 | Smooth Loss: 1.4062: 100%|██████████| 45/45 [00:27<00:00,  1.62it/s,  APC_ACC: 52.05(max:52.05) | APC_F1: 35.93(max:37.16) | ATE_F1: 61.31(max:61.31)]\n",
            "Epoch:  4 | Smooth Loss: 1.3695:  42%|████▏     | 19/45 [00:08<00:11,  2.25it/s]/usr/local/lib/python3.10/dist-packages/seqeval/metrics/sequence_labeling.py:171: UserWarning: [SEP] seems not to be NE tag.\n",
            "  warnings.warn('{} seems not to be NE tag.'.format(chunk))\n",
            "Epoch:  4 | Smooth Loss: 1.3383:  98%|█████████▊| 44/45 [00:22<00:00,  2.17it/s,  APC_ACC: 52.46(max:52.46) | APC_F1: 36.86(max:37.16) | ATE_F1: 58.01(max:61.31)]/usr/local/lib/python3.10/dist-packages/seqeval/metrics/sequence_labeling.py:171: UserWarning: [SEP] seems not to be NE tag.\n",
            "  warnings.warn('{} seems not to be NE tag.'.format(chunk))\n",
            "Epoch:  4| loss_apc:0.6846 | loss_ate:0.2792 |: 100%|██████████| 45/45 [00:26<00:00,  1.69it/s,  APC_ACC: 49.59(max:52.46) | APC_F1: 38.95(max:38.95) | ATE_F1: 57.54(max:61.31)]\n",
            "Epoch:  5 | Smooth Loss: 1.3047:  53%|█████▎    | 24/45 [00:10<00:10,  2.02it/s]/usr/local/lib/python3.10/dist-packages/seqeval/metrics/sequence_labeling.py:171: UserWarning: [SEP] seems not to be NE tag.\n",
            "  warnings.warn('{} seems not to be NE tag.'.format(chunk))\n",
            "Epoch:  5 | Smooth Loss: 1.2804: 100%|██████████| 45/45 [00:20<00:00,  2.15it/s,  APC_ACC: 49.59(max:52.46) | APC_F1: 37.26(max:38.95) | ATE_F1: 57.22(max:61.31)]\n",
            "Epoch:  6 | Smooth Loss: 1.2784:   9%|▉         | 4/45 [00:01<00:18,  2.20it/s]/usr/local/lib/python3.10/dist-packages/seqeval/metrics/sequence_labeling.py:171: UserWarning: [SEP] seems not to be NE tag.\n",
            "  warnings.warn('{} seems not to be NE tag.'.format(chunk))\n",
            "Epoch:  6 | Smooth Loss: 1.2510:  64%|██████▍   | 29/45 [00:18<00:07,  2.03it/s,  APC_ACC: 49.59(max:52.46) | APC_F1: 39.45(max:39.45) | ATE_F1: 60.72(max:61.31)]/usr/local/lib/python3.10/dist-packages/seqeval/metrics/sequence_labeling.py:171: UserWarning: [SEP] seems not to be NE tag.\n",
            "  warnings.warn('{} seems not to be NE tag.'.format(chunk))\n",
            "Epoch:  6 | Smooth Loss: 1.2313: 100%|██████████| 45/45 [00:27<00:00,  1.66it/s,  APC_ACC: 50.41(max:52.46) | APC_F1: 39.36(max:39.45) | ATE_F1: 61.18(max:61.31)]\n",
            "Epoch:  7 | Smooth Loss: 1.2201:  20%|██        | 9/45 [00:03<00:16,  2.21it/s]/usr/local/lib/python3.10/dist-packages/seqeval/metrics/sequence_labeling.py:171: UserWarning: [SEP] seems not to be NE tag.\n",
            "  warnings.warn('{} seems not to be NE tag.'.format(chunk))\n",
            "Epoch:  7 | Smooth Loss: 1.1970:  76%|███████▌  | 34/45 [00:18<00:04,  2.20it/s,  APC_ACC: 49.59(max:52.46) | APC_F1: 40.47(max:40.47) | ATE_F1: 60.77(max:61.31)]/usr/local/lib/python3.10/dist-packages/seqeval/metrics/sequence_labeling.py:171: UserWarning: [SEP] seems not to be NE tag.\n",
            "  warnings.warn('{} seems not to be NE tag.'.format(chunk))\n",
            "Epoch:  7 | Smooth Loss: 1.1921: 100%|██████████| 45/45 [00:28<00:00,  1.59it/s,  APC_ACC: 50.00(max:52.46) | APC_F1: 37.20(max:40.47) | ATE_F1: 61.70(max:61.70)]\n",
            "Epoch:  8 | Smooth Loss: 1.1839:  31%|███       | 14/45 [00:06<00:14,  2.10it/s]/usr/local/lib/python3.10/dist-packages/seqeval/metrics/sequence_labeling.py:171: UserWarning: [SEP] seems not to be NE tag.\n",
            "  warnings.warn('{} seems not to be NE tag.'.format(chunk))\n",
            "Epoch:  8 | Smooth Loss: 1.1643:  87%|████████▋ | 39/45 [00:18<00:02,  2.17it/s,  APC_ACC: 51.64(max:52.46) | APC_F1: 35.81(max:40.47) | ATE_F1: 59.54(max:61.70)]/usr/local/lib/python3.10/dist-packages/seqeval/metrics/sequence_labeling.py:171: UserWarning: [SEP] seems not to be NE tag.\n",
            "  warnings.warn('{} seems not to be NE tag.'.format(chunk))\n",
            "Epoch:  8 | Smooth Loss: 1.1599: 100%|██████████| 45/45 [00:24<00:00,  1.81it/s,  APC_ACC: 47.95(max:52.46) | APC_F1: 39.48(max:40.47) | ATE_F1: 59.94(max:61.70)]\n",
            "Epoch:  9 | Smooth Loss: 1.1452:  42%|████▏     | 19/45 [00:08<00:10,  2.41it/s]/usr/local/lib/python3.10/dist-packages/seqeval/metrics/sequence_labeling.py:171: UserWarning: [SEP] seems not to be NE tag.\n",
            "  warnings.warn('{} seems not to be NE tag.'.format(chunk))\n",
            "Epoch:  9 | Smooth Loss: 1.1324:  98%|█████████▊| 44/45 [00:22<00:00,  2.40it/s,  APC_ACC: 50.00(max:52.46) | APC_F1: 37.80(max:40.47) | ATE_F1: 62.68(max:62.68)]/usr/local/lib/python3.10/dist-packages/seqeval/metrics/sequence_labeling.py:171: UserWarning: [SEP] seems not to be NE tag.\n",
            "  warnings.warn('{} seems not to be NE tag.'.format(chunk))\n",
            "Epoch:  9| loss_apc:0.7124 | loss_ate:0.3741 |: 100%|██████████| 45/45 [00:25<00:00,  1.79it/s,  APC_ACC: 49.59(max:52.46) | APC_F1: 37.34(max:40.47) | ATE_F1: 61.84(max:62.68)]\n"
          ]
        },
        {
          "output_type": "stream",
          "name": "stdout",
          "text": [
            "2024-09-08 04:09:19,502 INFO: \n",
            "----------------------------------------------------------------- Raw Metric Records -----------------------------------------------------------------\n",
            "╒════════════════════════════════╤═════════════════════════════════════════════════╤══════════╤═══════════╤══════════╤═══════╤═══════╤═══════╤═══════╕\n",
            "│ Metric                         │ Trial                                           │ Values   │  Average  │  Median  │  Std  │  IQR  │  Min  │  Max  │\n",
            "╞════════════════════════════════╪═════════════════════════════════════════════════╪══════════╪═══════════╪══════════╪═══════╪═══════╪═══════╪═══════╡\n",
            "│ Max-APC-Test-Acc w/o Valid Set │ fast_lcf_atepc-custom_dataset-bert-base-uncased │ [52.46]  │   52.46   │  52.46   │   0   │   0   │ 52.46 │ 52.46 │\n",
            "├────────────────────────────────┼─────────────────────────────────────────────────┼──────────┼───────────┼──────────┼───────┼───────┼───────┼───────┤\n",
            "│ Max-APC-Test-F1 w/o Valid Set  │ fast_lcf_atepc-custom_dataset-bert-base-uncased │ [40.47]  │   40.47   │  40.47   │   0   │   0   │ 40.47 │ 40.47 │\n",
            "├────────────────────────────────┼─────────────────────────────────────────────────┼──────────┼───────────┼──────────┼───────┼───────┼───────┼───────┤\n",
            "│ Max-ATE-Test-F1 w/o Valid Set  │ fast_lcf_atepc-custom_dataset-bert-base-uncased │ [62.68]  │   62.68   │  62.68   │   0   │   0   │ 62.68 │ 62.68 │\n",
            "╘════════════════════════════════╧═════════════════════════════════════════════════╧══════════╧═══════════╧══════════╧═══════╧═══════╧═══════╧═══════╛\n",
            "-------------------------------------------------- https://github.com/yangheng95/metric_visualizer --------------------------------------------------\n",
            "\n"
          ]
        },
        {
          "output_type": "stream",
          "name": "stderr",
          "text": [
            "/usr/local/lib/python3.10/dist-packages/seqeval/metrics/sequence_labeling.py:171: UserWarning: [SEP] seems not to be NE tag.\n",
            "  warnings.warn('{} seems not to be NE tag.'.format(chunk))\n",
            "/usr/local/lib/python3.10/dist-packages/metric_visualizer/utils.py:31: RuntimeWarning: Precision loss occurred in moment calculation due to catastrophic cancellation. This occurs when the data are nearly identical. Results may be unreliable.\n",
            "  self.skewness = stats.skew(self.data, keepdims=True)\n",
            "INFO:fast_lcf_atepc:\n",
            "----------------------------------------------------------------- Raw Metric Records -----------------------------------------------------------------\n",
            "╒════════════════════════════════╤═════════════════════════════════════════════════╤══════════╤═══════════╤══════════╤═══════╤═══════╤═══════╤═══════╕\n",
            "│ Metric                         │ Trial                                           │ Values   │  Average  │  Median  │  Std  │  IQR  │  Min  │  Max  │\n",
            "╞════════════════════════════════╪═════════════════════════════════════════════════╪══════════╪═══════════╪══════════╪═══════╪═══════╪═══════╪═══════╡\n",
            "│ Max-APC-Test-Acc w/o Valid Set │ fast_lcf_atepc-custom_dataset-bert-base-uncased │ [52.46]  │   52.46   │  52.46   │   0   │   0   │ 52.46 │ 52.46 │\n",
            "├────────────────────────────────┼─────────────────────────────────────────────────┼──────────┼───────────┼──────────┼───────┼───────┼───────┼───────┤\n",
            "│ Max-APC-Test-F1 w/o Valid Set  │ fast_lcf_atepc-custom_dataset-bert-base-uncased │ [40.47]  │   40.47   │  40.47   │   0   │   0   │ 40.47 │ 40.47 │\n",
            "├────────────────────────────────┼─────────────────────────────────────────────────┼──────────┼───────────┼──────────┼───────┼───────┼───────┼───────┤\n",
            "│ Max-ATE-Test-F1 w/o Valid Set  │ fast_lcf_atepc-custom_dataset-bert-base-uncased │ [62.68]  │   62.68   │  62.68   │   0   │   0   │ 62.68 │ 62.68 │\n",
            "╘════════════════════════════════╧═════════════════════════════════════════════════╧══════════╧═══════════╧══════════╧═══════╧═══════╧═══════╧═══════╛\n",
            "-------------------------------------------------- https://github.com/yangheng95/metric_visualizer --------------------------------------------------\n",
            "\n"
          ]
        },
        {
          "output_type": "stream",
          "name": "stdout",
          "text": [
            "2024-09-08 04:09:19,517 INFO: ABSADatasetsVersion:None\t-->\tCalling Count:0\n"
          ]
        },
        {
          "output_type": "stream",
          "name": "stderr",
          "text": [
            "INFO:fast_lcf_atepc:ABSADatasetsVersion:None\t-->\tCalling Count:0\n"
          ]
        },
        {
          "output_type": "stream",
          "name": "stdout",
          "text": [
            "2024-09-08 04:09:19,520 INFO: IOB_label_to_index:{'B-ASP': 1, 'I-ASP': 2, 'O': 3, '[CLS]': 4, '[SEP]': 5}\t-->\tCalling Count:1\n"
          ]
        },
        {
          "output_type": "stream",
          "name": "stderr",
          "text": [
            "INFO:fast_lcf_atepc:IOB_label_to_index:{'B-ASP': 1, 'I-ASP': 2, 'O': 3, '[CLS]': 4, '[SEP]': 5}\t-->\tCalling Count:1\n"
          ]
        },
        {
          "output_type": "stream",
          "name": "stdout",
          "text": [
            "2024-09-08 04:09:19,523 INFO: MV:<metric_visualizer.metric_visualizer.MetricVisualizer object at 0x78e7e729ac80>\t-->\tCalling Count:4\n"
          ]
        },
        {
          "output_type": "stream",
          "name": "stderr",
          "text": [
            "INFO:fast_lcf_atepc:MV:<metric_visualizer.metric_visualizer.MetricVisualizer object at 0x78e7e729ac80>\t-->\tCalling Count:4\n"
          ]
        },
        {
          "output_type": "stream",
          "name": "stdout",
          "text": [
            "2024-09-08 04:09:19,528 INFO: PyABSAVersion:2.4.1.post1\t-->\tCalling Count:1\n"
          ]
        },
        {
          "output_type": "stream",
          "name": "stderr",
          "text": [
            "INFO:fast_lcf_atepc:PyABSAVersion:2.4.1.post1\t-->\tCalling Count:1\n"
          ]
        },
        {
          "output_type": "stream",
          "name": "stdout",
          "text": [
            "2024-09-08 04:09:19,530 INFO: SRD:3\t-->\tCalling Count:1920\n"
          ]
        },
        {
          "output_type": "stream",
          "name": "stderr",
          "text": [
            "INFO:fast_lcf_atepc:SRD:3\t-->\tCalling Count:1920\n"
          ]
        },
        {
          "output_type": "stream",
          "name": "stdout",
          "text": [
            "2024-09-08 04:09:19,531 INFO: TorchVersion:2.4.0+cu121+cuda12.1\t-->\tCalling Count:1\n"
          ]
        },
        {
          "output_type": "stream",
          "name": "stderr",
          "text": [
            "INFO:fast_lcf_atepc:TorchVersion:2.4.0+cu121+cuda12.1\t-->\tCalling Count:1\n"
          ]
        },
        {
          "output_type": "stream",
          "name": "stdout",
          "text": [
            "2024-09-08 04:09:19,536 INFO: TransformersVersion:4.44.2\t-->\tCalling Count:1\n"
          ]
        },
        {
          "output_type": "stream",
          "name": "stderr",
          "text": [
            "INFO:fast_lcf_atepc:TransformersVersion:4.44.2\t-->\tCalling Count:1\n"
          ]
        },
        {
          "output_type": "stream",
          "name": "stdout",
          "text": [
            "2024-09-08 04:09:19,538 INFO: auto_device:True\t-->\tCalling Count:454\n"
          ]
        },
        {
          "output_type": "stream",
          "name": "stderr",
          "text": [
            "INFO:fast_lcf_atepc:auto_device:True\t-->\tCalling Count:454\n"
          ]
        },
        {
          "output_type": "stream",
          "name": "stdout",
          "text": [
            "2024-09-08 04:09:19,542 INFO: batch_size:16\t-->\tCalling Count:6\n"
          ]
        },
        {
          "output_type": "stream",
          "name": "stderr",
          "text": [
            "INFO:fast_lcf_atepc:batch_size:16\t-->\tCalling Count:6\n"
          ]
        },
        {
          "output_type": "stream",
          "name": "stdout",
          "text": [
            "2024-09-08 04:09:19,544 INFO: cache_dataset:True\t-->\tCalling Count:1\n"
          ]
        },
        {
          "output_type": "stream",
          "name": "stderr",
          "text": [
            "INFO:fast_lcf_atepc:cache_dataset:True\t-->\tCalling Count:1\n"
          ]
        },
        {
          "output_type": "stream",
          "name": "stdout",
          "text": [
            "2024-09-08 04:09:19,545 INFO: checkpoint_save_mode:1\t-->\tCalling Count:4\n"
          ]
        },
        {
          "output_type": "stream",
          "name": "stderr",
          "text": [
            "INFO:fast_lcf_atepc:checkpoint_save_mode:1\t-->\tCalling Count:4\n"
          ]
        },
        {
          "output_type": "stream",
          "name": "stdout",
          "text": [
            "2024-09-08 04:09:19,547 INFO: cross_validate_fold:-1\t-->\tCalling Count:2\n"
          ]
        },
        {
          "output_type": "stream",
          "name": "stderr",
          "text": [
            "INFO:fast_lcf_atepc:cross_validate_fold:-1\t-->\tCalling Count:2\n"
          ]
        },
        {
          "output_type": "stream",
          "name": "stdout",
          "text": [
            "2024-09-08 04:09:19,550 INFO: dataset_file:{'train': ['drive/MyDrive/Entity_Sentiment_Analysis/Nice_dataset.apc.train.txt.atepc'], 'test': ['drive/MyDrive/Entity_Sentiment_Analysis/Nice_dataset.apc.test.txt.atepc'], 'valid': []}\t-->\tCalling Count:6\n"
          ]
        },
        {
          "output_type": "stream",
          "name": "stderr",
          "text": [
            "INFO:fast_lcf_atepc:dataset_file:{'train': ['drive/MyDrive/Entity_Sentiment_Analysis/Nice_dataset.apc.train.txt.atepc'], 'test': ['drive/MyDrive/Entity_Sentiment_Analysis/Nice_dataset.apc.test.txt.atepc'], 'valid': []}\t-->\tCalling Count:6\n"
          ]
        },
        {
          "output_type": "stream",
          "name": "stdout",
          "text": [
            "2024-09-08 04:09:19,552 INFO: dataset_name:custom_dataset\t-->\tCalling Count:20\n"
          ]
        },
        {
          "output_type": "stream",
          "name": "stderr",
          "text": [
            "INFO:fast_lcf_atepc:dataset_name:custom_dataset\t-->\tCalling Count:20\n"
          ]
        },
        {
          "output_type": "stream",
          "name": "stdout",
          "text": [
            "2024-09-08 04:09:19,554 INFO: device:cuda:0\t-->\tCalling Count:6807\n"
          ]
        },
        {
          "output_type": "stream",
          "name": "stderr",
          "text": [
            "INFO:fast_lcf_atepc:device:cuda:0\t-->\tCalling Count:6807\n"
          ]
        },
        {
          "output_type": "stream",
          "name": "stdout",
          "text": [
            "2024-09-08 04:09:19,555 INFO: device_name:Tesla T4\t-->\tCalling Count:1\n"
          ]
        },
        {
          "output_type": "stream",
          "name": "stderr",
          "text": [
            "INFO:fast_lcf_atepc:device_name:Tesla T4\t-->\tCalling Count:1\n"
          ]
        },
        {
          "output_type": "stream",
          "name": "stdout",
          "text": [
            "2024-09-08 04:09:19,558 INFO: dropout:0.5\t-->\tCalling Count:1\n"
          ]
        },
        {
          "output_type": "stream",
          "name": "stderr",
          "text": [
            "INFO:fast_lcf_atepc:dropout:0.5\t-->\tCalling Count:1\n"
          ]
        },
        {
          "output_type": "stream",
          "name": "stdout",
          "text": [
            "2024-09-08 04:09:19,559 INFO: dynamic_truncate:True\t-->\tCalling Count:1920\n"
          ]
        },
        {
          "output_type": "stream",
          "name": "stderr",
          "text": [
            "INFO:fast_lcf_atepc:dynamic_truncate:True\t-->\tCalling Count:1920\n"
          ]
        },
        {
          "output_type": "stream",
          "name": "stdout",
          "text": [
            "2024-09-08 04:09:19,561 INFO: embed_dim:768\t-->\tCalling Count:0\n"
          ]
        },
        {
          "output_type": "stream",
          "name": "stderr",
          "text": [
            "INFO:fast_lcf_atepc:embed_dim:768\t-->\tCalling Count:0\n"
          ]
        },
        {
          "output_type": "stream",
          "name": "stdout",
          "text": [
            "2024-09-08 04:09:19,563 INFO: evaluate_begin:0\t-->\tCalling Count:19\n"
          ]
        },
        {
          "output_type": "stream",
          "name": "stderr",
          "text": [
            "INFO:fast_lcf_atepc:evaluate_begin:0\t-->\tCalling Count:19\n"
          ]
        },
        {
          "output_type": "stream",
          "name": "stdout",
          "text": [
            "2024-09-08 04:09:19,564 INFO: from_checkpoint:\t-->\tCalling Count:2\n"
          ]
        },
        {
          "output_type": "stream",
          "name": "stderr",
          "text": [
            "INFO:fast_lcf_atepc:from_checkpoint:\t-->\tCalling Count:2\n"
          ]
        },
        {
          "output_type": "stream",
          "name": "stdout",
          "text": [
            "2024-09-08 04:09:19,566 INFO: gradient_accumulation_steps:1\t-->\tCalling Count:3\n"
          ]
        },
        {
          "output_type": "stream",
          "name": "stderr",
          "text": [
            "INFO:fast_lcf_atepc:gradient_accumulation_steps:1\t-->\tCalling Count:3\n"
          ]
        },
        {
          "output_type": "stream",
          "name": "stdout",
          "text": [
            "2024-09-08 04:09:19,568 INFO: hidden_dim:768\t-->\tCalling Count:6\n"
          ]
        },
        {
          "output_type": "stream",
          "name": "stderr",
          "text": [
            "INFO:fast_lcf_atepc:hidden_dim:768\t-->\tCalling Count:6\n"
          ]
        },
        {
          "output_type": "stream",
          "name": "stdout",
          "text": [
            "2024-09-08 04:09:19,569 INFO: index_to_IOB_label:{1: 'B-ASP', 2: 'I-ASP', 3: 'O', 4: '[CLS]', 5: '[SEP]'}\t-->\tCalling Count:0\n"
          ]
        },
        {
          "output_type": "stream",
          "name": "stderr",
          "text": [
            "INFO:fast_lcf_atepc:index_to_IOB_label:{1: 'B-ASP', 2: 'I-ASP', 3: 'O', 4: '[CLS]', 5: '[SEP]'}\t-->\tCalling Count:0\n"
          ]
        },
        {
          "output_type": "stream",
          "name": "stdout",
          "text": [
            "2024-09-08 04:09:19,571 INFO: index_to_label:{0: 'Negative', 1: 'Neutral', 2: 'Positive'}\t-->\tCalling Count:2\n"
          ]
        },
        {
          "output_type": "stream",
          "name": "stderr",
          "text": [
            "INFO:fast_lcf_atepc:index_to_label:{0: 'Negative', 1: 'Neutral', 2: 'Positive'}\t-->\tCalling Count:2\n"
          ]
        },
        {
          "output_type": "stream",
          "name": "stdout",
          "text": [
            "2024-09-08 04:09:19,572 INFO: inference_model:None\t-->\tCalling Count:0\n"
          ]
        },
        {
          "output_type": "stream",
          "name": "stderr",
          "text": [
            "INFO:fast_lcf_atepc:inference_model:None\t-->\tCalling Count:0\n"
          ]
        },
        {
          "output_type": "stream",
          "name": "stdout",
          "text": [
            "2024-09-08 04:09:19,574 INFO: initializer:xavier_uniform_\t-->\tCalling Count:0\n"
          ]
        },
        {
          "output_type": "stream",
          "name": "stderr",
          "text": [
            "INFO:fast_lcf_atepc:initializer:xavier_uniform_\t-->\tCalling Count:0\n"
          ]
        },
        {
          "output_type": "stream",
          "name": "stdout",
          "text": [
            "2024-09-08 04:09:19,576 INFO: l2reg:1e-05\t-->\tCalling Count:2\n"
          ]
        },
        {
          "output_type": "stream",
          "name": "stderr",
          "text": [
            "INFO:fast_lcf_atepc:l2reg:1e-05\t-->\tCalling Count:2\n"
          ]
        },
        {
          "output_type": "stream",
          "name": "stdout",
          "text": [
            "2024-09-08 04:09:19,577 INFO: label_list:['B-ASP', 'I-ASP', 'O', '[CLS]', '[SEP]']\t-->\tCalling Count:20\n"
          ]
        },
        {
          "output_type": "stream",
          "name": "stderr",
          "text": [
            "INFO:fast_lcf_atepc:label_list:['B-ASP', 'I-ASP', 'O', '[CLS]', '[SEP]']\t-->\tCalling Count:20\n"
          ]
        },
        {
          "output_type": "stream",
          "name": "stdout",
          "text": [
            "2024-09-08 04:09:19,579 INFO: label_to_index:{'Negative': 0, 'Neutral': 1, 'Positive': 2}\t-->\tCalling Count:0\n"
          ]
        },
        {
          "output_type": "stream",
          "name": "stderr",
          "text": [
            "INFO:fast_lcf_atepc:label_to_index:{'Negative': 0, 'Neutral': 1, 'Positive': 2}\t-->\tCalling Count:0\n"
          ]
        },
        {
          "output_type": "stream",
          "name": "stdout",
          "text": [
            "2024-09-08 04:09:19,581 INFO: lcf:cdw\t-->\tCalling Count:1521\n"
          ]
        },
        {
          "output_type": "stream",
          "name": "stderr",
          "text": [
            "INFO:fast_lcf_atepc:lcf:cdw\t-->\tCalling Count:1521\n"
          ]
        },
        {
          "output_type": "stream",
          "name": "stdout",
          "text": [
            "2024-09-08 04:09:19,582 INFO: learning_rate:2e-05\t-->\tCalling Count:1\n"
          ]
        },
        {
          "output_type": "stream",
          "name": "stderr",
          "text": [
            "INFO:fast_lcf_atepc:learning_rate:2e-05\t-->\tCalling Count:1\n"
          ]
        },
        {
          "output_type": "stream",
          "name": "stdout",
          "text": [
            "2024-09-08 04:09:19,586 INFO: load_aug:False\t-->\tCalling Count:1\n"
          ]
        },
        {
          "output_type": "stream",
          "name": "stderr",
          "text": [
            "INFO:fast_lcf_atepc:load_aug:False\t-->\tCalling Count:1\n"
          ]
        },
        {
          "output_type": "stream",
          "name": "stdout",
          "text": [
            "2024-09-08 04:09:19,588 INFO: log_step:50\t-->\tCalling Count:451\n"
          ]
        },
        {
          "output_type": "stream",
          "name": "stderr",
          "text": [
            "INFO:fast_lcf_atepc:log_step:50\t-->\tCalling Count:451\n"
          ]
        },
        {
          "output_type": "stream",
          "name": "stdout",
          "text": [
            "2024-09-08 04:09:19,589 INFO: logger:<Logger fast_lcf_atepc (INFO)>\t-->\tCalling Count:11\n"
          ]
        },
        {
          "output_type": "stream",
          "name": "stderr",
          "text": [
            "INFO:fast_lcf_atepc:logger:<Logger fast_lcf_atepc (INFO)>\t-->\tCalling Count:11\n"
          ]
        },
        {
          "output_type": "stream",
          "name": "stdout",
          "text": [
            "2024-09-08 04:09:19,591 INFO: loss:0.8216519236564637\t-->\tCalling Count:0\n"
          ]
        },
        {
          "output_type": "stream",
          "name": "stderr",
          "text": [
            "INFO:fast_lcf_atepc:loss:0.8216519236564637\t-->\tCalling Count:0\n"
          ]
        },
        {
          "output_type": "stream",
          "name": "stdout",
          "text": [
            "2024-09-08 04:09:19,595 INFO: max_seq_len:80\t-->\tCalling Count:8230\n"
          ]
        },
        {
          "output_type": "stream",
          "name": "stderr",
          "text": [
            "INFO:fast_lcf_atepc:max_seq_len:80\t-->\tCalling Count:8230\n"
          ]
        },
        {
          "output_type": "stream",
          "name": "stdout",
          "text": [
            "2024-09-08 04:09:19,596 INFO: max_test_metrics:{'max_apc_test_acc': 52.46, 'max_apc_test_f1': 40.47, 'max_ate_test_f1': 62.68}\t-->\tCalling Count:155\n"
          ]
        },
        {
          "output_type": "stream",
          "name": "stderr",
          "text": [
            "INFO:fast_lcf_atepc:max_test_metrics:{'max_apc_test_acc': 52.46, 'max_apc_test_f1': 40.47, 'max_ate_test_f1': 62.68}\t-->\tCalling Count:155\n"
          ]
        },
        {
          "output_type": "stream",
          "name": "stdout",
          "text": [
            "2024-09-08 04:09:19,598 INFO: metrics_of_this_checkpoint:{'apc_acc': 49.59, 'apc_f1': 37.34, 'ate_f1': 61.84}\t-->\tCalling Count:54\n"
          ]
        },
        {
          "output_type": "stream",
          "name": "stderr",
          "text": [
            "INFO:fast_lcf_atepc:metrics_of_this_checkpoint:{'apc_acc': 49.59, 'apc_f1': 37.34, 'ate_f1': 61.84}\t-->\tCalling Count:54\n"
          ]
        },
        {
          "output_type": "stream",
          "name": "stdout",
          "text": [
            "2024-09-08 04:09:19,600 INFO: model:<class 'pyabsa.tasks.AspectTermExtraction.models.__lcf__.fast_lcf_atepc.FAST_LCF_ATEPC'>\t-->\tCalling Count:5\n"
          ]
        },
        {
          "output_type": "stream",
          "name": "stderr",
          "text": [
            "INFO:fast_lcf_atepc:model:<class 'pyabsa.tasks.AspectTermExtraction.models.__lcf__.fast_lcf_atepc.FAST_LCF_ATEPC'>\t-->\tCalling Count:5\n"
          ]
        },
        {
          "output_type": "stream",
          "name": "stdout",
          "text": [
            "2024-09-08 04:09:19,601 INFO: model_name:fast_lcf_atepc\t-->\tCalling Count:1031\n"
          ]
        },
        {
          "output_type": "stream",
          "name": "stderr",
          "text": [
            "INFO:fast_lcf_atepc:model_name:fast_lcf_atepc\t-->\tCalling Count:1031\n"
          ]
        },
        {
          "output_type": "stream",
          "name": "stdout",
          "text": [
            "2024-09-08 04:09:19,606 INFO: model_path_to_save:checkpoints\t-->\tCalling Count:30\n"
          ]
        },
        {
          "output_type": "stream",
          "name": "stderr",
          "text": [
            "INFO:fast_lcf_atepc:model_path_to_save:checkpoints\t-->\tCalling Count:30\n"
          ]
        },
        {
          "output_type": "stream",
          "name": "stdout",
          "text": [
            "2024-09-08 04:09:19,608 INFO: num_epoch:10\t-->\tCalling Count:2\n"
          ]
        },
        {
          "output_type": "stream",
          "name": "stderr",
          "text": [
            "INFO:fast_lcf_atepc:num_epoch:10\t-->\tCalling Count:2\n"
          ]
        },
        {
          "output_type": "stream",
          "name": "stdout",
          "text": [
            "2024-09-08 04:09:19,609 INFO: num_labels:6\t-->\tCalling Count:2\n"
          ]
        },
        {
          "output_type": "stream",
          "name": "stderr",
          "text": [
            "INFO:fast_lcf_atepc:num_labels:6\t-->\tCalling Count:2\n"
          ]
        },
        {
          "output_type": "stream",
          "name": "stdout",
          "text": [
            "2024-09-08 04:09:19,611 INFO: optimizer:adamw\t-->\tCalling Count:2\n"
          ]
        },
        {
          "output_type": "stream",
          "name": "stderr",
          "text": [
            "INFO:fast_lcf_atepc:optimizer:adamw\t-->\tCalling Count:2\n"
          ]
        },
        {
          "output_type": "stream",
          "name": "stdout",
          "text": [
            "2024-09-08 04:09:19,616 INFO: output_dim:3\t-->\tCalling Count:20\n"
          ]
        },
        {
          "output_type": "stream",
          "name": "stderr",
          "text": [
            "INFO:fast_lcf_atepc:output_dim:3\t-->\tCalling Count:20\n"
          ]
        },
        {
          "output_type": "stream",
          "name": "stdout",
          "text": [
            "2024-09-08 04:09:19,618 INFO: overwrite_cache:False\t-->\tCalling Count:0\n"
          ]
        },
        {
          "output_type": "stream",
          "name": "stderr",
          "text": [
            "INFO:fast_lcf_atepc:overwrite_cache:False\t-->\tCalling Count:0\n"
          ]
        },
        {
          "output_type": "stream",
          "name": "stdout",
          "text": [
            "2024-09-08 04:09:19,619 INFO: path_to_save:None\t-->\tCalling Count:1\n"
          ]
        },
        {
          "output_type": "stream",
          "name": "stderr",
          "text": [
            "INFO:fast_lcf_atepc:path_to_save:None\t-->\tCalling Count:1\n"
          ]
        },
        {
          "output_type": "stream",
          "name": "stdout",
          "text": [
            "2024-09-08 04:09:19,621 INFO: patience:99999\t-->\tCalling Count:14\n"
          ]
        },
        {
          "output_type": "stream",
          "name": "stderr",
          "text": [
            "INFO:fast_lcf_atepc:patience:99999\t-->\tCalling Count:14\n"
          ]
        },
        {
          "output_type": "stream",
          "name": "stdout",
          "text": [
            "2024-09-08 04:09:19,623 INFO: pretrained_bert:bert-base-uncased\t-->\tCalling Count:8\n"
          ]
        },
        {
          "output_type": "stream",
          "name": "stderr",
          "text": [
            "INFO:fast_lcf_atepc:pretrained_bert:bert-base-uncased\t-->\tCalling Count:8\n"
          ]
        },
        {
          "output_type": "stream",
          "name": "stdout",
          "text": [
            "2024-09-08 04:09:19,627 INFO: save_mode:1\t-->\tCalling Count:26\n"
          ]
        },
        {
          "output_type": "stream",
          "name": "stderr",
          "text": [
            "INFO:fast_lcf_atepc:save_mode:1\t-->\tCalling Count:26\n"
          ]
        },
        {
          "output_type": "stream",
          "name": "stdout",
          "text": [
            "2024-09-08 04:09:19,629 INFO: seed:52\t-->\tCalling Count:7\n"
          ]
        },
        {
          "output_type": "stream",
          "name": "stderr",
          "text": [
            "INFO:fast_lcf_atepc:seed:52\t-->\tCalling Count:7\n"
          ]
        },
        {
          "output_type": "stream",
          "name": "stdout",
          "text": [
            "2024-09-08 04:09:19,630 INFO: sep_indices:102\t-->\tCalling Count:16432\n"
          ]
        },
        {
          "output_type": "stream",
          "name": "stderr",
          "text": [
            "INFO:fast_lcf_atepc:sep_indices:102\t-->\tCalling Count:16432\n"
          ]
        },
        {
          "output_type": "stream",
          "name": "stdout",
          "text": [
            "2024-09-08 04:09:19,632 INFO: show_metric:False\t-->\tCalling Count:0\n"
          ]
        },
        {
          "output_type": "stream",
          "name": "stderr",
          "text": [
            "INFO:fast_lcf_atepc:show_metric:False\t-->\tCalling Count:0\n"
          ]
        },
        {
          "output_type": "stream",
          "name": "stdout",
          "text": [
            "2024-09-08 04:09:19,634 INFO: spacy_model:en_core_web_sm\t-->\tCalling Count:3\n"
          ]
        },
        {
          "output_type": "stream",
          "name": "stderr",
          "text": [
            "INFO:fast_lcf_atepc:spacy_model:en_core_web_sm\t-->\tCalling Count:3\n"
          ]
        },
        {
          "output_type": "stream",
          "name": "stdout",
          "text": [
            "2024-09-08 04:09:19,636 INFO: srd_alignment:True\t-->\tCalling Count:0\n"
          ]
        },
        {
          "output_type": "stream",
          "name": "stderr",
          "text": [
            "INFO:fast_lcf_atepc:srd_alignment:True\t-->\tCalling Count:0\n"
          ]
        },
        {
          "output_type": "stream",
          "name": "stdout",
          "text": [
            "2024-09-08 04:09:19,638 INFO: task_code:ATEPC\t-->\tCalling Count:1\n"
          ]
        },
        {
          "output_type": "stream",
          "name": "stderr",
          "text": [
            "INFO:fast_lcf_atepc:task_code:ATEPC\t-->\tCalling Count:1\n"
          ]
        },
        {
          "output_type": "stream",
          "name": "stdout",
          "text": [
            "2024-09-08 04:09:19,639 INFO: task_name:Aspect Term Extraction and Polarity Classification\t-->\tCalling Count:1\n"
          ]
        },
        {
          "output_type": "stream",
          "name": "stderr",
          "text": [
            "INFO:fast_lcf_atepc:task_name:Aspect Term Extraction and Polarity Classification\t-->\tCalling Count:1\n"
          ]
        },
        {
          "output_type": "stream",
          "name": "stdout",
          "text": [
            "2024-09-08 04:09:19,642 INFO: tokenizer:BertTokenizerFast(name_or_path='bert-base-uncased', vocab_size=30522, model_max_length=512, is_fast=True, padding_side='right', truncation_side='right', special_tokens={'bos_token': '[CLS]', 'eos_token': '[SEP]', 'unk_token': '[UNK]', 'sep_token': '[SEP]', 'pad_token': '[PAD]', 'cls_token': '[CLS]', 'mask_token': '[MASK]'}, clean_up_tokenization_spaces=True),  added_tokens_decoder={\n",
            "\t0: AddedToken(\"[PAD]\", rstrip=False, lstrip=False, single_word=False, normalized=False, special=True),\n",
            "\t100: AddedToken(\"[UNK]\", rstrip=False, lstrip=False, single_word=False, normalized=False, special=True),\n",
            "\t101: AddedToken(\"[CLS]\", rstrip=False, lstrip=False, single_word=False, normalized=False, special=True),\n",
            "\t102: AddedToken(\"[SEP]\", rstrip=False, lstrip=False, single_word=False, normalized=False, special=True),\n",
            "\t103: AddedToken(\"[MASK]\", rstrip=False, lstrip=False, single_word=False, normalized=False, special=True),\n",
            "}\t-->\tCalling Count:0\n"
          ]
        },
        {
          "output_type": "stream",
          "name": "stderr",
          "text": [
            "INFO:fast_lcf_atepc:tokenizer:BertTokenizerFast(name_or_path='bert-base-uncased', vocab_size=30522, model_max_length=512, is_fast=True, padding_side='right', truncation_side='right', special_tokens={'bos_token': '[CLS]', 'eos_token': '[SEP]', 'unk_token': '[UNK]', 'sep_token': '[SEP]', 'pad_token': '[PAD]', 'cls_token': '[CLS]', 'mask_token': '[MASK]'}, clean_up_tokenization_spaces=True),  added_tokens_decoder={\n",
            "\t0: AddedToken(\"[PAD]\", rstrip=False, lstrip=False, single_word=False, normalized=False, special=True),\n",
            "\t100: AddedToken(\"[UNK]\", rstrip=False, lstrip=False, single_word=False, normalized=False, special=True),\n",
            "\t101: AddedToken(\"[CLS]\", rstrip=False, lstrip=False, single_word=False, normalized=False, special=True),\n",
            "\t102: AddedToken(\"[SEP]\", rstrip=False, lstrip=False, single_word=False, normalized=False, special=True),\n",
            "\t103: AddedToken(\"[MASK]\", rstrip=False, lstrip=False, single_word=False, normalized=False, special=True),\n",
            "}\t-->\tCalling Count:0\n"
          ]
        },
        {
          "output_type": "stream",
          "name": "stdout",
          "text": [
            "2024-09-08 04:09:19,644 INFO: use_amp:False\t-->\tCalling Count:901\n"
          ]
        },
        {
          "output_type": "stream",
          "name": "stderr",
          "text": [
            "INFO:fast_lcf_atepc:use_amp:False\t-->\tCalling Count:901\n"
          ]
        },
        {
          "output_type": "stream",
          "name": "stdout",
          "text": [
            "2024-09-08 04:09:19,647 INFO: use_bert_spc:True\t-->\tCalling Count:1058\n"
          ]
        },
        {
          "output_type": "stream",
          "name": "stderr",
          "text": [
            "INFO:fast_lcf_atepc:use_bert_spc:True\t-->\tCalling Count:1058\n"
          ]
        },
        {
          "output_type": "stream",
          "name": "stdout",
          "text": [
            "2024-09-08 04:09:19,649 INFO: use_syntax_based_SRD:False\t-->\tCalling Count:960\n"
          ]
        },
        {
          "output_type": "stream",
          "name": "stderr",
          "text": [
            "INFO:fast_lcf_atepc:use_syntax_based_SRD:False\t-->\tCalling Count:960\n"
          ]
        },
        {
          "output_type": "stream",
          "name": "stdout",
          "text": [
            "2024-09-08 04:09:19,651 INFO: warmup_step:-1\t-->\tCalling Count:452\n"
          ]
        },
        {
          "output_type": "stream",
          "name": "stderr",
          "text": [
            "INFO:fast_lcf_atepc:warmup_step:-1\t-->\tCalling Count:452\n"
          ]
        },
        {
          "output_type": "stream",
          "name": "stdout",
          "text": [
            "2024-09-08 04:09:19,653 INFO: window:lr\t-->\tCalling Count:0\n"
          ]
        },
        {
          "output_type": "stream",
          "name": "stderr",
          "text": [
            "INFO:fast_lcf_atepc:window:lr\t-->\tCalling Count:0\n",
            "/usr/local/lib/python3.10/dist-packages/pyabsa/framework/trainer_class/trainer_template.py:250: ResourceWarning: unclosed file <_io.TextIOWrapper name='/content/logs/fast_lcf_atepc_20240908 040423/trainer.log' mode='a' encoding='utf8'>\n",
            "  self.config.logger.removeHandler(self.config.logger.handlers[0])\n",
            "ResourceWarning: Enable tracemalloc to get the object allocation traceback\n"
          ]
        },
        {
          "output_type": "stream",
          "name": "stdout",
          "text": [
            "[2024-09-08 04:09:22] (2.4.1.post1) Load aspect extractor from checkpoints/fast_lcf_atepc_custom_dataset_cdw_apcacc_50.0_apcf1_37.8_atef1_62.68/\n",
            "[2024-09-08 04:09:22] (2.4.1.post1) config: checkpoints/fast_lcf_atepc_custom_dataset_cdw_apcacc_50.0_apcf1_37.8_atef1_62.68/fast_lcf_atepc.config\n",
            "[2024-09-08 04:09:22] (2.4.1.post1) state_dict: checkpoints/fast_lcf_atepc_custom_dataset_cdw_apcacc_50.0_apcf1_37.8_atef1_62.68/fast_lcf_atepc.state_dict\n",
            "[2024-09-08 04:09:22] (2.4.1.post1) model: None\n",
            "[2024-09-08 04:09:22] (2.4.1.post1) tokenizer: checkpoints/fast_lcf_atepc_custom_dataset_cdw_apcacc_50.0_apcf1_37.8_atef1_62.68/fast_lcf_atepc.tokenizer\n",
            "[2024-09-08 04:09:22] (2.4.1.post1) Set Model Device: cuda:0\n",
            "[2024-09-08 04:09:22] (2.4.1.post1) Device Name: Tesla T4\n"
          ]
        },
        {
          "output_type": "stream",
          "name": "stderr",
          "text": [
            "/usr/local/lib/python3.10/dist-packages/pyabsa/tasks/AspectTermExtraction/prediction/aspect_extractor.py:102: FutureWarning: You are using `torch.load` with `weights_only=False` (the current default value), which uses the default pickle module implicitly. It is possible to construct malicious pickle data which will execute arbitrary code during unpickling (See https://github.com/pytorch/pytorch/blob/main/SECURITY.md#untrusted-models for more details). In a future release, the default value for `weights_only` will be flipped to `True`. This limits the functions that could be executed during unpickling. Arbitrary objects will no longer be allowed to be loaded via this mode unless they are explicitly allowlisted by the user via `torch.serialization.add_safe_globals`. We recommend you start setting `weights_only=True` for any use case where you don't have full control of the loaded file. Please open an issue on GitHub for any issues related to this experimental feature.\n",
            "  torch.load(\n",
            "/usr/local/lib/python3.10/dist-packages/transformers/tokenization_utils_base.py:1601: FutureWarning: `clean_up_tokenization_spaces` was not set. It will be set to `True` by default. This behavior will be depracted in transformers v4.45, and will be then set to `False` by default. For more details check this issue: https://github.com/huggingface/transformers/issues/31884\n",
            "  warnings.warn(\n"
          ]
        }
      ]
    },
    {
      "cell_type": "markdown",
      "source": [
        "**Dump after new aspect_extracter is trained**"
      ],
      "metadata": {
        "id": "NMncbXHj9VyU"
      }
    },
    {
      "cell_type": "code",
      "source": [
        "from joblib import dump\n",
        "dump(aspect_extractor, '/content/drive/MyDrive/Entity_Sentiment_Analysis/aspect_extractor.joblib')"
      ],
      "metadata": {
        "colab": {
          "base_uri": "https://localhost:8080/"
        },
        "id": "O6Im-m2P83lU",
        "outputId": "c5638050-5bb5-4ac9-a559-e57ddabbaf01"
      },
      "execution_count": 2,
      "outputs": [
        {
          "output_type": "execute_result",
          "data": {
            "text/plain": [
              "['/content/drive/MyDrive/Entity_Sentiment_Analysis/aspect_extractor.joblib']"
            ]
          },
          "metadata": {},
          "execution_count": 2
        }
      ]
    },
    {
      "cell_type": "code",
      "source": [
        "!pip install streamlit"
      ],
      "metadata": {
        "colab": {
          "base_uri": "https://localhost:8080/"
        },
        "id": "c-nYGVpa2h6M",
        "outputId": "a081d630-d4bb-4a94-cb77-d269fd3cf659"
      },
      "execution_count": 3,
      "outputs": [
        {
          "output_type": "stream",
          "name": "stdout",
          "text": [
            "Collecting streamlit\n",
            "  Downloading streamlit-1.38.0-py2.py3-none-any.whl.metadata (8.5 kB)\n",
            "Requirement already satisfied: altair<6,>=4.0 in /usr/local/lib/python3.10/dist-packages (from streamlit) (4.2.2)\n",
            "Requirement already satisfied: blinker<2,>=1.0.0 in /usr/lib/python3/dist-packages (from streamlit) (1.4)\n",
            "Requirement already satisfied: cachetools<6,>=4.0 in /usr/local/lib/python3.10/dist-packages (from streamlit) (5.5.0)\n",
            "Requirement already satisfied: click<9,>=7.0 in /usr/local/lib/python3.10/dist-packages (from streamlit) (8.1.7)\n",
            "Requirement already satisfied: numpy<3,>=1.20 in /usr/local/lib/python3.10/dist-packages (from streamlit) (1.26.4)\n",
            "Requirement already satisfied: packaging<25,>=20 in /usr/local/lib/python3.10/dist-packages (from streamlit) (24.1)\n",
            "Requirement already satisfied: pandas<3,>=1.3.0 in /usr/local/lib/python3.10/dist-packages (from streamlit) (2.1.4)\n",
            "Requirement already satisfied: pillow<11,>=7.1.0 in /usr/local/lib/python3.10/dist-packages (from streamlit) (9.4.0)\n",
            "Requirement already satisfied: protobuf<6,>=3.20 in /usr/local/lib/python3.10/dist-packages (from streamlit) (3.20.3)\n",
            "Requirement already satisfied: pyarrow>=7.0 in /usr/local/lib/python3.10/dist-packages (from streamlit) (14.0.2)\n",
            "Requirement already satisfied: requests<3,>=2.27 in /usr/local/lib/python3.10/dist-packages (from streamlit) (2.32.3)\n",
            "Requirement already satisfied: rich<14,>=10.14.0 in /usr/local/lib/python3.10/dist-packages (from streamlit) (13.8.0)\n",
            "Collecting tenacity<9,>=8.1.0 (from streamlit)\n",
            "  Downloading tenacity-8.5.0-py3-none-any.whl.metadata (1.2 kB)\n",
            "Requirement already satisfied: toml<2,>=0.10.1 in /usr/local/lib/python3.10/dist-packages (from streamlit) (0.10.2)\n",
            "Requirement already satisfied: typing-extensions<5,>=4.3.0 in /usr/local/lib/python3.10/dist-packages (from streamlit) (4.12.2)\n",
            "Requirement already satisfied: gitpython!=3.1.19,<4,>=3.0.7 in /usr/local/lib/python3.10/dist-packages (from streamlit) (3.1.43)\n",
            "Collecting pydeck<1,>=0.8.0b4 (from streamlit)\n",
            "  Downloading pydeck-0.9.1-py2.py3-none-any.whl.metadata (4.1 kB)\n",
            "Requirement already satisfied: tornado<7,>=6.0.3 in /usr/local/lib/python3.10/dist-packages (from streamlit) (6.3.3)\n",
            "Collecting watchdog<5,>=2.1.5 (from streamlit)\n",
            "  Downloading watchdog-4.0.2-py3-none-manylinux2014_x86_64.whl.metadata (38 kB)\n",
            "Requirement already satisfied: entrypoints in /usr/local/lib/python3.10/dist-packages (from altair<6,>=4.0->streamlit) (0.4)\n",
            "Requirement already satisfied: jinja2 in /usr/local/lib/python3.10/dist-packages (from altair<6,>=4.0->streamlit) (3.1.4)\n",
            "Requirement already satisfied: jsonschema>=3.0 in /usr/local/lib/python3.10/dist-packages (from altair<6,>=4.0->streamlit) (4.23.0)\n",
            "Requirement already satisfied: toolz in /usr/local/lib/python3.10/dist-packages (from altair<6,>=4.0->streamlit) (0.12.1)\n",
            "Requirement already satisfied: gitdb<5,>=4.0.1 in /usr/local/lib/python3.10/dist-packages (from gitpython!=3.1.19,<4,>=3.0.7->streamlit) (4.0.11)\n",
            "Requirement already satisfied: python-dateutil>=2.8.2 in /usr/local/lib/python3.10/dist-packages (from pandas<3,>=1.3.0->streamlit) (2.8.2)\n",
            "Requirement already satisfied: pytz>=2020.1 in /usr/local/lib/python3.10/dist-packages (from pandas<3,>=1.3.0->streamlit) (2024.1)\n",
            "Requirement already satisfied: tzdata>=2022.1 in /usr/local/lib/python3.10/dist-packages (from pandas<3,>=1.3.0->streamlit) (2024.1)\n",
            "Requirement already satisfied: charset-normalizer<4,>=2 in /usr/local/lib/python3.10/dist-packages (from requests<3,>=2.27->streamlit) (3.3.2)\n",
            "Requirement already satisfied: idna<4,>=2.5 in /usr/local/lib/python3.10/dist-packages (from requests<3,>=2.27->streamlit) (3.8)\n",
            "Requirement already satisfied: urllib3<3,>=1.21.1 in /usr/local/lib/python3.10/dist-packages (from requests<3,>=2.27->streamlit) (2.0.7)\n",
            "Requirement already satisfied: certifi>=2017.4.17 in /usr/local/lib/python3.10/dist-packages (from requests<3,>=2.27->streamlit) (2024.8.30)\n",
            "Requirement already satisfied: markdown-it-py>=2.2.0 in /usr/local/lib/python3.10/dist-packages (from rich<14,>=10.14.0->streamlit) (3.0.0)\n",
            "Requirement already satisfied: pygments<3.0.0,>=2.13.0 in /usr/local/lib/python3.10/dist-packages (from rich<14,>=10.14.0->streamlit) (2.16.1)\n",
            "Requirement already satisfied: smmap<6,>=3.0.1 in /usr/local/lib/python3.10/dist-packages (from gitdb<5,>=4.0.1->gitpython!=3.1.19,<4,>=3.0.7->streamlit) (5.0.1)\n",
            "Requirement already satisfied: MarkupSafe>=2.0 in /usr/local/lib/python3.10/dist-packages (from jinja2->altair<6,>=4.0->streamlit) (2.1.5)\n",
            "Requirement already satisfied: attrs>=22.2.0 in /usr/local/lib/python3.10/dist-packages (from jsonschema>=3.0->altair<6,>=4.0->streamlit) (24.2.0)\n",
            "Requirement already satisfied: jsonschema-specifications>=2023.03.6 in /usr/local/lib/python3.10/dist-packages (from jsonschema>=3.0->altair<6,>=4.0->streamlit) (2023.12.1)\n",
            "Requirement already satisfied: referencing>=0.28.4 in /usr/local/lib/python3.10/dist-packages (from jsonschema>=3.0->altair<6,>=4.0->streamlit) (0.35.1)\n",
            "Requirement already satisfied: rpds-py>=0.7.1 in /usr/local/lib/python3.10/dist-packages (from jsonschema>=3.0->altair<6,>=4.0->streamlit) (0.20.0)\n",
            "Requirement already satisfied: mdurl~=0.1 in /usr/local/lib/python3.10/dist-packages (from markdown-it-py>=2.2.0->rich<14,>=10.14.0->streamlit) (0.1.2)\n",
            "Requirement already satisfied: six>=1.5 in /usr/local/lib/python3.10/dist-packages (from python-dateutil>=2.8.2->pandas<3,>=1.3.0->streamlit) (1.16.0)\n",
            "Downloading streamlit-1.38.0-py2.py3-none-any.whl (8.7 MB)\n",
            "\u001b[2K   \u001b[90m━━━━━━━━━━━━━━━━━━━━━━━━━━━━━━━━━━━━━━━━\u001b[0m \u001b[32m8.7/8.7 MB\u001b[0m \u001b[31m64.0 MB/s\u001b[0m eta \u001b[36m0:00:00\u001b[0m\n",
            "\u001b[?25hDownloading pydeck-0.9.1-py2.py3-none-any.whl (6.9 MB)\n",
            "\u001b[2K   \u001b[90m━━━━━━━━━━━━━━━━━━━━━━━━━━━━━━━━━━━━━━━━\u001b[0m \u001b[32m6.9/6.9 MB\u001b[0m \u001b[31m70.3 MB/s\u001b[0m eta \u001b[36m0:00:00\u001b[0m\n",
            "\u001b[?25hDownloading tenacity-8.5.0-py3-none-any.whl (28 kB)\n",
            "Downloading watchdog-4.0.2-py3-none-manylinux2014_x86_64.whl (82 kB)\n",
            "\u001b[2K   \u001b[90m━━━━━━━━━━━━━━━━━━━━━━━━━━━━━━━━━━━━━━━━\u001b[0m \u001b[32m82.9/82.9 kB\u001b[0m \u001b[31m9.1 MB/s\u001b[0m eta \u001b[36m0:00:00\u001b[0m\n",
            "\u001b[?25hInstalling collected packages: watchdog, tenacity, pydeck, streamlit\n",
            "  Attempting uninstall: tenacity\n",
            "    Found existing installation: tenacity 9.0.0\n",
            "    Uninstalling tenacity-9.0.0:\n",
            "      Successfully uninstalled tenacity-9.0.0\n",
            "Successfully installed pydeck-0.9.1 streamlit-1.38.0 tenacity-8.5.0 watchdog-4.0.2\n"
          ]
        },
        {
          "output_type": "stream",
          "name": "stderr",
          "text": [
            "/usr/local/lib/python3.10/dist-packages/google/colab/_pip.py:86: ResourceWarning: unclosed file <_io.TextIOWrapper name='/usr/local/lib/python3.10/dist-packages/pydeck-0.9.1.dist-info/top_level.txt' mode='r' encoding='UTF-8'>\n",
            "  for line in open(toplevel):\n",
            "ResourceWarning: Enable tracemalloc to get the object allocation traceback\n",
            "/usr/local/lib/python3.10/dist-packages/google/colab/_pip.py:86: ResourceWarning: unclosed file <_io.TextIOWrapper name='/usr/local/lib/python3.10/dist-packages/streamlit-1.38.0.dist-info/top_level.txt' mode='r' encoding='UTF-8'>\n",
            "  for line in open(toplevel):\n",
            "ResourceWarning: Enable tracemalloc to get the object allocation traceback\n",
            "/usr/local/lib/python3.10/dist-packages/google/colab/_pip.py:86: ResourceWarning: unclosed file <_io.TextIOWrapper name='/usr/local/lib/python3.10/dist-packages/tenacity-8.5.0.dist-info/top_level.txt' mode='r' encoding='UTF-8'>\n",
            "  for line in open(toplevel):\n",
            "ResourceWarning: Enable tracemalloc to get the object allocation traceback\n",
            "/usr/local/lib/python3.10/dist-packages/google/colab/_pip.py:86: ResourceWarning: unclosed file <_io.TextIOWrapper name='/usr/local/lib/python3.10/dist-packages/watchdog-4.0.2.dist-info/top_level.txt' mode='r' encoding='UTF-8'>\n",
            "  for line in open(toplevel):\n",
            "ResourceWarning: Enable tracemalloc to get the object allocation traceback\n"
          ]
        }
      ]
    },
    {
      "cell_type": "markdown",
      "source": [
        "**app.py will be present inside PyABSA**"
      ],
      "metadata": {
        "id": "uFcIV7Jd9lBD"
      }
    },
    {
      "cell_type": "code",
      "source": [
        "%%writefile app.py\n",
        "import joblib\n",
        "import streamlit as st\n",
        "import streamlit.components.v1 as components\n",
        "\n",
        "st.title(\"Entity Based Sentiment Analysis\")\n",
        "example = st.text_input(\"Enter a message for Polarity Classification\")\n",
        "examples = [example]\n",
        "\n",
        "aspect_extractor = joblib.load('/content/drive/MyDrive/Entity_Sentiment_Analysis/aspect_extractor.joblib')\n",
        "\n",
        "from pyabsa import ABSADatasetList\n",
        "from pyabsa.framework.checkpoint_class.checkpoint_template import ATEPCCheckpointManager\n",
        "\n",
        "# inference_source = '125.dataset'\n",
        "# inference_source = '100.CustomDataset'\n",
        "# aspect_extractor = ATEPCCheckpointManager.get_aspect_extractor(checkpoint='')\n",
        "atepc_result = aspect_extractor.extract_aspect(inference_source=examples,\n",
        "                                               save_result=False,\n",
        "                                               print_result=False,  # print the result\n",
        "                                               pred_sentiment=True,  # Predict the sentiment of extracted aspect terms\n",
        "                                               )\n",
        "\n",
        "st.write(atepc_result[0][\"aspect\"], atepc_result[0][\"sentiment\"])"
      ],
      "metadata": {
        "colab": {
          "base_uri": "https://localhost:8080/"
        },
        "id": "hxcYqfO52irw",
        "outputId": "81157d9a-a77f-4758-d7bd-240b392f0db4"
      },
      "execution_count": 4,
      "outputs": [
        {
          "output_type": "stream",
          "name": "stdout",
          "text": [
            "Writing app.py\n"
          ]
        }
      ]
    },
    {
      "cell_type": "code",
      "source": [
        "!streamlit run app.py & npx localtunnel --port 8501"
      ],
      "metadata": {
        "colab": {
          "base_uri": "https://localhost:8080/"
        },
        "id": "HBw7pNet3aos",
        "outputId": "301bdf9d-6956-4937-99f3-1cabf31111f1"
      },
      "execution_count": 5,
      "outputs": [
        {
          "output_type": "stream",
          "name": "stdout",
          "text": [
            "\n",
            "Collecting usage statistics. To deactivate, set browser.gatherUsageStats to false.\n",
            "\u001b[0m\n",
            "\u001b[0m\n",
            "\u001b[34m\u001b[1m  You can now view your Streamlit app in your browser.\u001b[0m\n",
            "\u001b[0m\n",
            "\u001b[34m  Local URL: \u001b[0m\u001b[1mhttp://localhost:8501\u001b[0m\n",
            "\u001b[34m  Network URL: \u001b[0m\u001b[1mhttp://172.28.0.12:8501\u001b[0m\n",
            "\u001b[34m  External URL: \u001b[0m\u001b[1mhttp://35.247.62.163:8501\u001b[0m\n",
            "\u001b[0m\n",
            "\u001b[1G\u001b[0JNeed to install the following packages:\n",
            "  localtunnel@2.0.2\n",
            "Ok to proceed? (y) \u001b[20Gy\n",
            "\u001b[K\u001b[?25hy\n",
            "your url is: https://modern-memes-bake.loca.lt\n",
            "\u001b[34m  Stopping...\u001b[0m\n",
            "^C\n"
          ]
        },
        {
          "output_type": "stream",
          "name": "stderr",
          "text": [
            "sys:1: ResourceWarning: Unclosed socket <zmq.Socket(zmq.PUSH) at 0x78e7e68bd6c0>\n",
            "ResourceWarning: Enable tracemalloc to get the object allocation traceback\n"
          ]
        }
      ]
    },
    {
      "cell_type": "markdown",
      "source": [
        "**To judge performance on a test set first generate their inference sets.**"
      ],
      "metadata": {
        "id": "Z3CEptiN9xs0"
      }
    },
    {
      "cell_type": "code",
      "source": [
        "from pyabsa.utils.absa_utils.absa_utils import generate_inference_set_for_apc\n",
        "\n",
        "generate_inference_set_for_apc('/content/drive/MyDrive/Entity_Sentiment_Analysis/Nice_dataset.apc.train.txt')\n",
        "generate_inference_set_for_apc('/content/drive/MyDrive/Entity_Sentiment_Analysis/Nice_dataset.apc.test.txt')"
      ],
      "metadata": {
        "colab": {
          "base_uri": "https://localhost:8080/"
        },
        "id": "V5KKWFsS3f-m",
        "outputId": "e464b4c8-9287-4d41-df9d-5f0ab4e4ba76"
      },
      "execution_count": 6,
      "outputs": [
        {
          "output_type": "stream",
          "name": "stdout",
          "text": [
            "[2024-09-08 04:22:22] (2.4.1.post1) To ensure your generation is successful, make sure your dataset is located in integrated_datasets.\n",
            "[2024-09-08 04:22:22] (2.4.1.post1) save in: drive/MyDrive/Entity_Sentiment_Analysis/Nice_dataset.apc.train.txt.inference\n",
            "[2024-09-08 04:22:22] (2.4.1.post1) Unprocessed file: drive/MyDrive/Entity_Sentiment_Analysis/Nice_dataset.apc.train.txt.atepc\n",
            "[2024-09-08 04:22:22] (2.4.1.post1) Inference set generation finished\n",
            "[2024-09-08 04:22:22] (2.4.1.post1) To ensure your generation is successful, make sure your dataset is located in integrated_datasets.\n",
            "[2024-09-08 04:22:22] (2.4.1.post1) save in: drive/MyDrive/Entity_Sentiment_Analysis/Nice_dataset.apc.test.txt.inference\n",
            "[2024-09-08 04:22:22] (2.4.1.post1) Unprocessed file: drive/MyDrive/Entity_Sentiment_Analysis/Nice_dataset.apc.test.txt.atepc\n",
            "[2024-09-08 04:22:22] (2.4.1.post1) Inference set generation finished\n"
          ]
        },
        {
          "output_type": "stream",
          "name": "stderr",
          "text": [
            "<ipython-input-6-28abddf3ff90>:3: ResourceWarning: unclosed file <_io.TextIOWrapper name='drive/MyDrive/Entity_Sentiment_Analysis/Nice_dataset.apc.train.txt.atepc' mode='r' encoding='utf-8'>\n",
            "  generate_inference_set_for_apc('/content/drive/MyDrive/Entity_Sentiment_Analysis/Nice_dataset.apc.train.txt')\n",
            "ResourceWarning: Enable tracemalloc to get the object allocation traceback\n",
            "<ipython-input-6-28abddf3ff90>:4: ResourceWarning: unclosed file <_io.TextIOWrapper name='drive/MyDrive/Entity_Sentiment_Analysis/Nice_dataset.apc.test.txt.atepc' mode='r' encoding='utf-8'>\n",
            "  generate_inference_set_for_apc('/content/drive/MyDrive/Entity_Sentiment_Analysis/Nice_dataset.apc.test.txt')\n",
            "ResourceWarning: Enable tracemalloc to get the object allocation traceback\n"
          ]
        }
      ]
    },
    {
      "cell_type": "code",
      "source": [
        "from pyabsa import ABSADatasetList\n",
        "from pyabsa.framework.checkpoint_class.checkpoint_template import ATEPCCheckpointManager\n",
        "import joblib\n",
        "\n",
        "examples = ['Putin condemns NATO over Ukraine crisis .',\n",
        "            'As Joe Biden visits Asia, China launches South China Sea drills .',\n",
        "            'Joe Biden not close contact of daughter Ashley who tested positive for COVID .',\n",
        "            'Britain urges more weapons for Ukraine to keep pressure on Putin .',\n",
        "            'US Prez Joe Biden looks to nudge ASEAN leaders to speak out on Russia .',\n",
        "            'Russian President Vladimir Putin preparing for prolonged war in Ukraine: US spy chief .',\n",
        "            'Trump lost to Biden .',\n",
        "            'Trump greets Modi .',\n",
        "            'Ashneer Grover writes to BharatPe demanding action against CEO Suhail Sameer and Rajnish Kumar .',\n",
        "            'Actor R Madhavan is a proud father, after his son Vedaant Madhavan won a gold medal in swimming at the Danish Open 2022 in Copenhagen.',\n",
        "            'Delhi pollution: Indoor air worse than outside, says study .',\n",
        "            'Auschwitz has a dark past attached to it. Millions of Jews fell victims to Adolf Hitler .'\n",
        "            ]\n",
        "\n",
        "aspect_extractor = joblib.load('/content/drive/MyDrive/Entity_Sentiment_Analysis/aspect_extractor.joblib')\n",
        "inference_source = '/content/drive/MyDrive/Entity_Sentiment_Analysis'\n",
        "atepc_result = aspect_extractor.extract_aspect(inference_source=inference_source,\n",
        "                                               save_result=True,\n",
        "                                               print_result=True,  # print the result\n",
        "                                               pred_sentiment=True,  # Predict the sentiment of extracted aspect terms\n",
        "                                               )"
      ],
      "metadata": {
        "colab": {
          "base_uri": "https://localhost:8080/"
        },
        "id": "NmvTBNP94L20",
        "outputId": "0fca94ff-d432-4a6a-d32d-506a595bbbd3"
      },
      "execution_count": 7,
      "outputs": [
        {
          "output_type": "stream",
          "name": "stderr",
          "text": [
            "/usr/local/lib/python3.10/dist-packages/torch/storage.py:414: FutureWarning: You are using `torch.load` with `weights_only=False` (the current default value), which uses the default pickle module implicitly. It is possible to construct malicious pickle data which will execute arbitrary code during unpickling (See https://github.com/pytorch/pytorch/blob/main/SECURITY.md#untrusted-models for more details). In a future release, the default value for `weights_only` will be flipped to `True`. This limits the functions that could be executed during unpickling. Arbitrary objects will no longer be allowed to be loaded via this mode unless they are explicitly allowlisted by the user via `torch.serialization.add_safe_globals`. We recommend you start setting `weights_only=True` for any use case where you don't have full control of the loaded file. Please open an issue on GitHub for any issues related to this experimental feature.\n",
            "  return torch.load(io.BytesIO(b))\n"
          ]
        },
        {
          "output_type": "stream",
          "name": "stdout",
          "text": [
            "[2024-09-08 04:24:17] (2.4.1.post1) loading: drive/MyDrive/Entity_Sentiment_Analysis/Nice_dataset.apc.test.txt.inference\n"
          ]
        },
        {
          "output_type": "stream",
          "name": "stderr",
          "text": [
            "/usr/local/lib/python3.10/dist-packages/spacy/util.py:1740: UserWarning: [W111] Jupyter notebook detected: if using `prefer_gpu()` or `require_gpu()`, include it in the same cell right before `spacy.load()` to ensure that the model is loaded on the correct device. More information: http://spacy.io/usage/v3#jupyter-notebook-gpu\n",
            "  warnings.warn(Warnings.W111)\n",
            "<frozen importlib._bootstrap>:914: ImportWarning: _PyDrive2ImportHook.find_spec() not found; falling back to find_module()\n",
            "<frozen importlib._bootstrap>:914: ImportWarning: _PyDriveImportHook.find_spec() not found; falling back to find_module()\n",
            "<frozen importlib._bootstrap>:914: ImportWarning: _GenerativeAIImportHook.find_spec() not found; falling back to find_module()\n",
            "<frozen importlib._bootstrap>:914: ImportWarning: _OpenCVImportHook.find_spec() not found; falling back to find_module()\n",
            "<frozen importlib._bootstrap>:914: ImportWarning: APICoreClientInfoImportHook.find_spec() not found; falling back to find_module()\n",
            "<frozen importlib._bootstrap>:914: ImportWarning: _BokehImportHook.find_spec() not found; falling back to find_module()\n",
            "<frozen importlib._bootstrap>:914: ImportWarning: _AltairImportHook.find_spec() not found; falling back to find_module()\n",
            "preparing ate inference dataloader: 100%|██████████| 163/163 [00:00<00:00, 372.41it/s]\n",
            "extracting aspect terms: 100%|██████████| 6/6 [00:01<00:00,  5.18it/s]\n",
            "preparing apc inference dataloader: 100%|██████████| 207/207 [00:00<00:00, 305.51it/s]\n",
            "classifying aspect sentiments: 100%|██████████| 7/7 [00:01<00:00,  5.25it/s]"
          ]
        },
        {
          "output_type": "stream",
          "name": "stdout",
          "text": [
            "[2024-09-08 04:24:22] (2.4.1.post1) The results of aspect term extraction have been saved in /content/Aspect Term Extraction and Polarity Classification.FAST_LCF_ATEPC.result.json\n",
            "[2024-09-08 04:24:22] (2.4.1.post1) Example 0: Sources told Hindustan Times that the embassy had ensured the movement of thousands of students from Kyiv to western Ukraine on Sunday . The Indian embassies in countries like <Poland:Neutral Confidence:0.7344> have been arranging buses for the students to safely reach the border , this after heavy diplomatic lifting between the two countries . The Indian Air Force has been asked to deployC - 17 aircraft to boost evacuation efforts .\n",
            "[2024-09-08 04:24:22] (2.4.1.post1) Example 1: Sources told Hindustan Times that the embassy had ensured the movement of thousands of students from Kyiv to western Ukraine on Sunday . The Indian embassies in countries like <Poland:Neutral Confidence:0.6804> have been arranging buses for the students to safely reach the border , this after heavy diplomatic lifting between the two countries . The Indian Air Force has been asked to deploy C - 17 aircraft to boost evacuation efforts .\n",
            "[2024-09-08 04:24:22] (2.4.1.post1) Example 2: The C - 17 aircraft can carry 336 passengers and was used during the evacuation in Afghanistan last year . Besides airlifting the Indian nationals , the IAF aircraft will also be used to carry humanitarian aid to the war - hit country . Four union ministers are being sent Ukraine to expedite the evacuation efforts . Union minister Hardeep Singh Puri will be in - charge of evacuation efforts in Hungary <, civil aviation minister Jyotiraditya Scindia will:Negative Confidence:0.4088> oversee the mission in Romania and Moldova .\n",
            "[2024-09-08 04:24:22] (2.4.1.post1) Example 3: India ' s largest carmaker also claimed that it sold a total of 137 , 607 units in the domestic market last month . Under its model sharing agreement with the Toyota Kirloskar Motor , to whom it supplies the Baleno and Vitara Brezza to be sold as Glanza and Urban Cruiser respectively , Maruti Suzuki sold a total of 2 , 428 units .\n",
            "[2024-09-08 04:24:22] (2.4.1.post1) Example 4: The car manufacturer also said that it witnessed a minor impact of the ongoing microchip crisis . The carmaker claims that models such as the Baleno , Celerio , Dzire , Ignis , Swift , WagonR as combined sold a total of 77 , 795 units last month , down from 80 , 517 units recorded in the same month a year ago . Also , these <models sold 622 , 567 units cumulatively between April and February of:Negative Confidence:0.4097> this financial year . The mid - size sedan Ciaz that is sold through the premium retail network Nexa recorded 1 , 912 units last month , up from 1 , 510 units sold in February last year .\n",
            "[2024-09-08 04:24:22] (2.4.1.post1) Example 5: Sales in the entry - level mini segment , where Maruti Suzuki retails Alto andS - Presso , were 19 , 691 units last month , as compared to 23 , 959 units recorded in the same month a year ago . Maruti Suzuki has also said that its total domestic passenger vehicle sales in February were 133 , 948 units , down from 144 , 761 units registered in <the same month a year ago . First Published:Negative Confidence:0.4084> Date : 01 Mar 2022 , 01 : 49 PM IST\n",
            "[2024-09-08 04:24:22] (2.4.1.post1) Example 6: Sales in the entry - level mini segment , where Maruti Suzuki retails Alto and S - Presso , were 19 , 691 units last month , as compared to 23 , 959 units recorded in the same month a year ago . Maruti Suzuki has also said that its total domestic passenger vehicle sales in February were 133 , 948 units , down from 144 , 761 units registered in <the same month a year ago . First:Negative Confidence:0.4087> Published Date : 01 Mar 2022 , 01 : 49 PM IST\n",
            "[2024-09-08 04:24:22] (2.4.1.post1) Example 7: While the overall - domestic sales plus exports - decline of 14 % is likely to be a source of some concern , the demand for models like Creta and Venue remain strong . Hyundai had a busy 2021 with the launch of several models like Alcazar and i20 N Line . There is much promise from the Koreans for this year as well with the company confirming an ‘ affordable ' electric vehicle that <will sit below the:Negative Confidence:0.4104> Kona which is already available in the lineup .\n",
            "[2024-09-08 04:24:22] (2.4.1.post1) Example 8: The Hero <Eddy:Neutral Confidence:0.8287> has been designed for a specific group of customers who want electric two - wheekers to cover short distances . Read more Mouni <Roy:Neutral Confidence:0.8491> serves a ' Tip Tip Barsa Paani ' moment in ₹ 84k saree , her braid steals the spotlight : Check out photos\n",
            "[2024-09-08 04:24:22] (2.4.1.post1) Example 9: PM Modi calls on Indian Air Force C - 17s to boost evacuation efforts TheIAF C - 17 aircraft can carry 336 passengers and was used in evacuation in Afghanistan . But in one of the missions it carried more than 600 passengers , which is a World record The IAF will deploy severalC - 17 aircraft to carry out evacuation process Published on Mar 01 , 2022 11 : 59 AM IST\n",
            "[2024-09-08 04:24:22] (2.4.1.post1) Example 10: PM Modi calls on Indian Air ForceC - 17s to boost evacuation efforts The IAF C - 17 aircraft can carry 336 passengers and was used in evacuation in Afghanistan . But in one of the missions it carried more than 600 passengers , which is a World record The IAF will deploy severalC - 17 aircraft to carry out evacuation process Published on Mar 01 , 2022 11 : 59 AM IST\n",
            "[2024-09-08 04:24:22] (2.4.1.post1) Example 11: PM Modi calls on Indian Air ForceC - 17s to boost evacuation efforts TheIAF C - 17 aircraft can carry 336 passengers and was used in evacuation in Afghanistan . But in one of the missions it carried more than 600 passengers , which is a World record The IAF will deploy severalC - 17 aircraft to carry out evacuation process Published on Mar 01 , 2022 11 : 59 AM IST\n",
            "[2024-09-08 04:24:22] (2.4.1.post1) Example 12: PM Modi calls on Indian Air ForceC - 17s to boost evacuation efforts TheIAF C - 17 aircraft can carry 336 passengers and was used in evacuation in Afghanistan . But in one of the missions it carried more than 600 passengers , which is a World record The IAF will deploy several C - 17 aircraft to carry out evacuation process Published on Mar 01 , 2022 11 : 59 AM IST\n",
            "[2024-09-08 04:24:22] (2.4.1.post1) Example 13: Prime Minister Narendra Modi has called for the Indian Air Force to join the evacuation efforts under Operation Ganga , official sources told Hindustan TimesLeveraging the capabilities of the IAF will ensure that more people can be evacuated in the shortest possible time . It will also help deliver humanitarian aid more efficiently . Indian Air Force is likely to deploy severalC - 17 aircrafts as part of Operation Ganga from today .\n",
            "[2024-09-08 04:24:22] (2.4.1.post1) Example 14: Prime Minister Narendra Modi has called for the Indian Air Force to join the evacuation efforts under Operation Ganga , official sources told Hindustan TimesLeveraging the capabilities of the IAF will ensure that more people can be evacuated in the shortest possible time . It will also help deliver humanitarian aid more efficiently . Indian Air Force is likely to deploy several C - 17 aircrafts as part of Operation Ganga from today .\n",
            "[2024-09-08 04:24:22] (2.4.1.post1) Example 15: While the world prepares for the 5G <iPhone SE:Positive Confidence:0.6838> 3 , rumours now suggest that Apple could continue to sell the older iPhone SE 2020 at an even lower price . How low , you ask ? Prices are expected to go under $ 200 , which means markets like India could expect to see a brand - new iPhone in India for less than Rs . 20 , 000 after a long time .\n",
            "[2024-09-08 04:24:22] (2.4.1.post1) Example 16: And this is all while the iPhone SE 3 takes care of the sub - ₹ 40 , 000 space . Bloomberg ' s Mark Gurman says in one of his latest reports that the iPhone SE 2020 could see a massive price drop after the March 8 Spring event . Apple will announce the iPhone SE 3 as its most affordable 5G smartphone and drop the prices of the iPhone SE 4G variant at the same time .\n",
            "[2024-09-08 04:24:22] (2.4.1.post1) Example 17: The sole reason behind this is Apple wanting to make the iPhone more accessible so as to rope in more customers to try its other services <.:Negative Confidence:0.4048> The iPhone SE 2020 has seen mega price cuts throughout its two - year lifecycle . Originally launched at a starting price of Rs . 43 , 000 , several e - commerce sales over the years have seen the iPhone SE prices go as low as ₹ 26 , 000 .\n",
            "[2024-09-08 04:24:22] (2.4.1.post1) Example 18: At the moment , the base 64GB variant of the iPhone SE is selling at Rs . 30 , 000 . The last time an iPhone was available in India for this low as the original iPhone SE . After two years of sales , the tiny iPhone SE often sold for as low as Rs . 15 , 000 during Flipkart sales . With the current iPhone SE , Apple would want to take on <the budget Android:Negative Confidence:0.4126> smartphones . Even though the iPhone SE 2020 lacks some of the modern features , such as an edge - to - edge display , a big battery and fast charging , it is still one of the fastest smartphones you can buy at its price . Meanwhile , the iPhone SE 3 itself is expected to have a sub - $ 300 price tag . The updates iPhone SE 3 is likely to get a chip upgrade – from the ageing A13 to Apple ' s latest A15 Bionic . Note that the A15 chip powers the iPhone 13 series at the moment , and supports 5G networks . The rest of the phone is said to remain unchanged from the iPhone SE 2020 . The feature allows users to check traffic situation on roads with colour coding signaling the intensity of traffic movement . The live traffic feature on Google Maps makes use of anonymous location data collected from Android smartphones to reflect the condition of traffic movement on roads . But several experts say that this data could be potentially affected in the time of war and especially in the face of an invading force .\n",
            "[2024-09-08 04:24:22] (2.4.1.post1) Example 19: The SUV will be based on STLA architecture , Stellantis further said . Carlos Tavares , CEO of Jeep ' s parent company Stellantis said that this upcoming all - electric SUV will be a lifestyle family vehicle . He also said that this is going to be a pure off - road Jeep .\n",
            "[2024-09-08 04:24:22] (2.4.1.post1) Example 20: Hero Eddy short - commute electric scooter unveiled . And no , license not needed Hero Eddy from Hero Electric is aimed at short commutes powered by electricity . The upcoming electric scooter will be offered in two colours . Hero Eddy electric scooter . Hero Electric on Tuesday unveiled the all - new Hero Eddy electric scooter which has been developed specifically to meet the short commute <requirements of potential customers who are also looking for a stylish:Negative Confidence:0.408> ride option .\n",
            "[2024-09-08 04:24:22] (2.4.1.post1) Example 21: Priced at ₹ 72 , 000 ( ex showroom ) and complete with a simple yet stylish body design , the Hero Eddy comes loaded with a number of features to allow commuters to have a convenient ride . The Hero Eddy has been designed for a specific group of customers who want an electric two - wheeler to cover short distances . Although the range of the electric scooter hasn ' t <been revealed , the company highlights:Negative Confidence:0.4099> that the product comes with features such as Find\n",
            "[2024-09-08 04:24:22] (2.4.1.post1) Example 22: My Bike , E - Lock , Large Boot Space , Follow Me Headlamps , and Reverse Mode . ( Top 5 electric two - wheeler makers in India in 2021 : <Hero:Positive Confidence:0.9793> , <Okinawa:Positive Confidence:0.9793> lead the pack ) To be made available in two colour options - Yellow and a light shade of Blue , <Hero Eddy:Positive Confidence:0.9784> requires no registration or driving license as it is a low - speed vehicle .\n",
            "[2024-09-08 04:24:22] (2.4.1.post1) Example 23: Hero Electric is continuing to underline the pollution - free credentials of its product and states that Eddy is a step in the same direction . ' We at Hero are thrilled to announce our upcoming product <Hero Eddy:Positive Confidence:0.9758> that will have an overwhelming on - road presence combining smart features and stylish looks , \" said Naveen Munjal , MD at <Hero Electric:Positive Confidence:0.9713> . '\n",
            "[2024-09-08 04:24:22] (2.4.1.post1) Example 24: The other car driver , Bhagwant Singh of Sri Ganganagar in Rajasthan , also suffered serious injuries and has been shifted to Guru Gobind Singh Medical College in Faridkot . Meanwhile , Rakhra ' s wife Amritpal Kaur , 35 , and eight - year - old daughter Abhijot Kaur are admitted to a private hospital in Muktsar , and are stated to be ' out of danger ' .\n",
            "[2024-09-08 04:24:22] (2.4.1.post1) Example 25: Indeed , contrary to the allegations of NCB ' s Mumbai unit , some of the key findings of the SIT , shared by officials with HT , are : <Aryan Khan:Negative Confidence:0.7328> was never in possession of drugs\n",
            "[2024-09-08 04:24:22] (2.4.1.post1) Example 26: Significantly , the initial findings of the SIT probe substantiate the observations by Bombay high court , which granted bail to Khan on October 28 last year while saying that ' there was no evidence to suggest existence of any conspiracy ' , the officials said . SIT ' s review of the Cordelia probe which involved questioning all the arrested persons , witnesses It alleged that Aryan Khan was in touch with some foreign <drug supplier and the:Negative Confidence:0.4055> chats referred to ' hard drugs ' and ' bulk quantities ' . However , rejecting NCB ' s claims , a single bench of justice Nitin W Sambre of Bombay high court noted that there was no evidence to suggest existence of any conspiracy .\n",
            "[2024-09-08 04:24:22] (2.4.1.post1) Example 27: The high - profile case got shrouded in controversy when a key NCB witness alleged that the agency ' s Mumbai zonal chief Sameer Wankhede was part of a ₹ 25 crore extortion racket targeting Khan . The witness , Prabhakar Sail , also alleged that he was forced to sign sheets of blank paper , prompting the anti - drug agency to set up an inquiry into Wankhede . SHARE THIS ARTICLE ON\n",
            "[2024-09-08 04:24:22] (2.4.1.post1) Example 28: After sounding upbeat last week on LIC ' s prospects despite deteriorating market condition , India ' s finance minister , Nirmala Sitharaman , on Tuesday told local media the government was open to reviewing the IPO plans due to prevalent market conditions . \" I wouldn ' t mind looking at it again , \" Sitharaman said in an interview with Business Line newspaper , referring to the timing of <the LIC offering . \" Now , there:Negative Confidence:0.41> is a full - scale war . Decision on release of Devinder Pal Singh Bhullar from Tihar jail likely today The seven - member Sentence Review Board ( SRB ) will meet on Wednesday to discuss the premature release of at least 100 prisoners , including Devinder Pal Singh Bhullar , officials aware of the development said . They added that the meeting will be held in the afternoon at the Delhi Secretariat .\n",
            "[2024-09-08 04:24:22] (2.4.1.post1) Example 29: Decision on release of <Devinder Pal Singh Bhullar:Neutral Confidence:0.8831> from Tihar jail likely today The seven - member Sentence Review Board ( SRB ) will meet on Wednesday to discuss the premature release of at least 100 prisoners , including <Devinder Pal Singh Bhullar:Neutral Confidence:0.8831> , officials aware of the development said . They added that the meeting will be held in the afternoon at the Delhi Secretariat .\n",
            "[2024-09-08 04:24:22] (2.4.1.post1) Example 30: Delhi govt to take decision on Bhullar ' s release once legal process gets over : Bhagwant Mann In the run - up to the Punjab assembly elections , there was a growing clamour for Bhullar ' s release with several groups petitioning different political parties , particularly the Aam Aadmi Party ( AAP ) because the Tihar jail , where Bhullar was lodged , comes under the administrative jurisdiction of the AAP government in Delhi .\n",
            "[2024-09-08 04:24:22] (2.4.1.post1) Example 31: The 57 - year - old convict is a prisoner of Tihar , but has been lodged in Punjab ' s Amritsar jail since 2015 due to mental health issues . Bhullar was convicted and sentenced to death in 2011 in the 1993 Delhi bomb blasts case . In March 2014 , however , the Supreme Court commuted his death sentence to life imprisonment owing to his ill health , and a delay in the trial .\n",
            "[2024-09-08 04:24:22] (2.4.1.post1) Example 32: Devinder <Pal Bhullar:Neutral Confidence:0.5507> : An explainer on how prisoners are considered for release ' Last week , we got a message from the office of Delhi home minister ( <Satyendar Jain:Neutral Confidence:0.5526> ) about the SRB meeting on March 2 . There are many prisoners for review and <Bhullar:Neutral Confidence:0.5078> is one of them , ' a state home department official confirmed .\n",
            "[2024-09-08 04:24:22] (2.4.1.post1) Example 33: In the backdrop of Bhullar ' s family and many groups blaming the Delhi government for delaying Bhullar ' s release , the AAP has maintained that other parties were politicising the issue , and has clarified that SRB is not a Delhi government body but comprises of representatives from the judiciary , police , prison , and the state government . The AAP is a key contender in the <recently concluded Punjab assembly polls , and was the:Negative Confidence:0.4086> main opposition in the outgoing assembly . The Shiromani Akali Dal ( Badal ) patriarch Parkash Singh Badal is among key political figures from Punjab who have pushed for Bhullar ' s early release .\n",
            "[2024-09-08 04:24:22] (2.4.1.post1) Example 34: Now they are prized items in the budding relationship that ' s made <Turkey:Positive Confidence:0.8836> one of Kyiv ' s most important backers . In the process , the planes are straining ties between Turkish President <Recep:Positive Confidence:0.8873> Tayyip <Erdogan:Positive Confidence:0.8874> and <Putin:Positive Confidence:0.8828> , a relationship that has consequences for Turkey ' s economy , defense ties and regional flashpoints including Syria ' s war .\n",
            "[2024-09-08 04:24:22] (2.4.1.post1) Example 35: Michael Kofman , a Russia analyst at CNA , a nonprofit research and analysis organization in Arlington , Virginia , similarly ascribed some of Ukraine ' s drone strikes to ' mind boggling ' decisions by Russia ' s military , including failing to provide extensive air cover . Putin ' s forces , which are yet to secure control of skies over all Ukraine despite starting their campaign by targeting radar facilities and airstrips <, said they had:Negative Confidence:0.4124> destroyed at least four Bayraktar drones as well as the base from which they ' re launched , according to an Interfax report . They ' re a product of Erdogan ' s ambition to make Turkey ' s projection of regional power more self - sufficient , and Istanbul - based Baykar is run by Selcuk Bayraktar , a son - in - law of the president . Bayraktar drones owned by Ukraine opened fire for the first time in October to destroy mobile artillery in Donbas , a region where Russian - backed separatists have faced off against Ukrainian troops since 2014 and that ' s cited by Putin as one justification for his invasion . Turkey ' s Drone Chief Leads Pursuit of Homegrown Military EdgeIn a Dec . 10 phone call with Erdogan , Putin condemned Ukraine ' s ' provocative ' deployment of the attack drones , according to a Kremlin statement . About a month earlier , Russian Foreign Minister Sergei Lavrov had warned Turkish Foreign Minister Mevlut Cavusoglu to take Moscow ' s concern over Turkey ' s ' militarization ' of Ukraine ' as seriously as possible . '\n",
            "[2024-09-08 04:24:22] (2.4.1.post1) Example 36: The scooter is designed keeping in mind individual ' s conscious efforts to contribute towards carbon - free future combined with a hassle - free ride experience . We are confident that Hero Eddy will make for a perfect alternate mobility choice offering comfort and necessity . \" Hero Electric is a power player in the electric two - wheeler space in India and recently announced it is ramping up production capacity at its facility <in Ludhiana to meet:Negative Confidence:0.4107> increased demand for its products .\n",
            "[2024-09-08 04:24:22] (2.4.1.post1) Example 37: California permits Waymo , Cruise for <passenger service in:Negative Confidence:0.4094> autonomous vehicles Starting this week , Cruise is allowed to provide the Drivered Deployment service on some public roads in San Francisco between 10 pm and 6 am at speeds of up to 30 miles per hour . The California Public Utilities Commission ( CPUC ) has issued permits to General Motors - backed self - driving unit Cruise , and Alphabet - backed Waymo to start passenger service in autonomous vehicles with safety drivers present .\n",
            "[2024-09-08 04:24:22] (2.4.1.post1) Example 38: Last month , General Motors ' CEO Mary Barra and President Mark Reuss took rides in two fully - autonomous vehicles of Cruise . Barra was driven around San Francisco as Cruise co - founder and interim CEO Kyle Vogt accompanied her in a car called ‘ Tostada ' . Reuss took a ride with GM ' s VP of communications , Craig Buchholz , in another car called ' <Disco . \" One user commented , \" Sasti:Negative Confidence:0.4093> ( cheap ) copy of Jason Bourne . \" Another said , \" Yeh kiski copy hai . \" The eight - episode series will stream on MX Player , starting March 10 . They allegedly seized several CCTV footage and DVRs under the garb of investigation and destroyed the same - in order to save Vaze from getting caught by law enforcement agencies . On February 25 , 2021 , a Mahindra Scorpio was found abandoned near billionaire industrialist Mukesh Ambani ' s residence , Antilia on Carmichael Road in south Mumbai , with 20 loose gelatin sticks and a note threatening to kill Ambani family members .\n",
            "[2024-09-08 04:24:22] (2.4.1.post1) Example 39: They allegedly seized several CCTV footage and DVRs under the garb of investigation and destroyed the same - in order to save Vaze from getting caught by law enforcement agencies . On February 25 , 2021 , a Mahindra Scorpio was found abandoned near billionaire industrialist Mukesh Ambani ' s residence , Antilia on Carmichael Road in south Mumbai , with 20 loose gelatin sticks and a note threatening to kill Ambani family members .\n",
            "[2024-09-08 04:24:22] (2.4.1.post1) Example 40: On March 5 , the body of Mansukh Hiren , the owner of the SUV and an auto parts dealer from Thane – was found dumped in a creek at Reti Bunder near Mumbra . The NIA has arrested former CIU head Sachin Vaze , inspector Sunil Mane , retired ACP Pradeep Sharma , Santosh Shelar , Anant Jadhav , Satish <Mothkuri , Manish Soni , Naresh Gor , Vinayak Shinde and Kazi in the case . SHARE THIS:Negative Confidence:0.4038> ARTICLE\n",
            "[2024-09-08 04:24:22] (2.4.1.post1) Example 41: Also , there will be another Jeep EV that would be joining the company ' s portfolio in 2024 . Tavares also shared images of the upcoming EV . However , he didn ' t reveal the name of this electric SUV . The design of the Jeep electric SUV looks identical to the current Jeep Compass . It gets LED headlamps and integrated LED daytime running lights . It gets vertical slats , <but not a mesh grille:Negative Confidence:0.4072> like the standard model . However , Tata Motors , MG Motor , Skoda and Mahindra were able to buck the trend , as they have reported their respective sales numbers in February 2022 . The majority of automakers have witnessed a drop in vehicle dispatches to dealers last month owing to the production delay due to the global semiconductor crisis .\n",
            "[2024-09-08 04:24:22] (2.4.1.post1) Example 42: However , <Tata Motors:Neutral Confidence:0.8907> , <MG Motor:Neutral Confidence:0.8946> , <Skoda:Neutral Confidence:0.8956> and <Mahindra:Neutral Confidence:0.8977> were able to buck the trend , as they have reported their respective sales numbers in February 2022 . The majority of automakers have witnessed a drop in vehicle dispatches to dealers last month owing to the production delay due to the global semiconductor crisis .\n",
            "[2024-09-08 04:24:22] (2.4.1.post1) Example 43: Skoda Auto India recorded over five - fold surge in sales to 4 , 503 units in February 2022 , riding on the success of its mid - sized SUV Kushaq . MG Motor India claimed that its retail sales increased five per cent year - on - year to 4 , 528 units in February . First Published Date : 01 Mar 2022 , 07 : 39 PM IST\n",
            "[2024-09-08 04:24:22] (2.4.1.post1) Example 44: iPhone in toilet for 10 YEARS ! Man gets it out and THIS is what happens next iPhone survives a toilet journey for almost ten years but when it comes out , the results aren ' t what you expect . Your newest iPhone 13 car survive water spills , drops , and a few more abuses before it gives up . But what if you drop it in a toilet ? We have heard reports of iPhones <surviving:Negative Confidence:0.4139> lakes and other water bodies but this ! This is extreme by all means ! And this happened ten years ago – a time when Apple did not care whether your iPhone will survive some splashes or brave through dust ! The report from US Maryland talks about a Halloween incident that may have given the scares to the owner , and this is what happens . For ten years , Becki Beckmann assumed that her iPhone 4S was probably lost or gone for good while she was partying during Halloween .\n",
            "[2024-09-08 04:24:22] (2.4.1.post1) Example 45: \" The six yards is from the shelves of designer Neeta Lulla ' s label , and the Brahmastra actor wore it for an episode of DID Li ' l Masters . Additionally , Mouni created a ' Tip Tip Barsa Paani ' moment with the six yards , and we are in love with it . Mouni ' s sunshine yellow coloured wrinkle chiffon saree features <embellished transparent sequin borders in various shades of yellow and ruffled edges:Negative Confidence:0.4074> .\n",
            "[2024-09-08 04:24:22] (2.4.1.post1) Example 46: If you wish to buy Mouni ' s sunshine yellow look , it is available on the Neeta Lulla website . The six yards is called the Sunglow - Mehr Saree Set and will cost you a whopping ₹ 84 , 000 . The Sunglow Mehr Saree Set . ( neetalulla . com ) Though the yellow saree created a stunning traditional fashion moment , it was Mouni ' s hairdo that stole the show for us .\n",
            "[2024-09-08 04:24:22] (2.4.1.post1) Example 47: National president Rajiv Ranjan Singh aka Lallan Singh said the people should vote for the Janata Dal ( United ) candidate for the formation of a government based on socialism . The Janata Dal ( United ) will work for the welfare of the weaker sections and development of UP , he said on Monday . The Janata Dal ( United ) will strengthen its organisation and support base in UP to contest the Lok Sabha <election , he:Negative Confidence:0.4125> added .\n",
            "[2024-09-08 04:24:22] (2.4.1.post1) Example 48: Dhananjay Singh was elected as an independent MLA from the Rari assembly constituency in Jaunpur in 2002 and retained the seat in 2007 polls on the Janata Dal ( United ) ticket . In 2009 , he won the Jaunpur Lok Sabha seat on the Bahujan Samaj Party ( BSP ) ticket . The JD ( U ) has fielded candidates for 35 assembly seats mostly <located in east UP . To counter the challenge of JD ( U:Negative Confidence:0.4072> ) leaders , Samajwadi Party patriarch Mulayam Singh Yadav , party chief Akhilesh Yadav and former minister Shivpal Yadav will address public meetings in Malhani in support of party candidate Lucky Yadav , who had defeated Dhananjay Singh in a by - poll in 2020 . Earlier , Samajwadi Party candidate and former Uttar Pradesh minister Parasnath Yadav had defeated Dhananjay Singh in the 2017 assembly election , said a Samajwadi Party leader .\n",
            "[2024-09-08 04:24:22] (2.4.1.post1) Example 49: But BJP leaders said that the government is going all out to help all stranded Indians in Ukraine . Defence minister Rajnath Singh , while addressing an election rally in Ballia on Sunday , praised Modi ' s role during the conflict . ' Earlier , India didn ' t have a strong global voice but now the world listens when India makes a point . In the current Ukraine crisis , we are all for peace .\n",
            "[2024-09-08 04:24:22] (2.4.1.post1) Example 50: But , no praise is enough for the role our Prime Minister Narendra Modi is playing ( on the issue ) , ' Rajnath Singh said . ' The Russia - Ukraine crisis is a reminder of the global uncertainty and , in times like these , it is imperative that we vote for a strong government , ' UP BJP chief Swatantra Dev has been stating in his election campaigns . At least thrice\n",
            "[2024-09-08 04:24:22] (2.4.1.post1) Example 51: Before the Ukraine - Russia conflict escalated , the BJP had been referring to surgical strike across the LoC ( 2016 ) and Balakot airstrike ( 2019 ) against terrorists in Pakistan as proof of ' Modi ' s iron resolve ' . Union home minister Amit Shah had been referring to ' aaliya maaliya jamaliyas ' who he said used to enter Indian territory and behead <Indian soldiers under the previous regime . ' The regime changed ,:Negative Confidence:0.4075> the PM changed .\n",
            "[2024-09-08 04:24:22] (2.4.1.post1) Example 52: Aakash Chopra on Gujarat Titans ' plan after Jason Roy withdraws from IPL 2022 England cricketer <Jason Roy has reportedly withdrawn from the tournament:Negative Confidence:0.4081> citing bio - bubble fatigue Published on Mar 01 , 2022 11 : 30 AM IST Indian Premier League ' s ( IPL ) new franchise Gujarat Titans ( GT ) have faced a huge blow ahead of the start of the 2022 season as England cricketer Jason Roy has reportedly withdrawn from the tournament citing bio - bubble fatigue .\n",
            "[2024-09-08 04:24:22] (2.4.1.post1) Example 53: Although the franchise is yet , to make it official and name his replacement , former India cricketer Aakash Chopra believes that GT ' s plan will now revolve around their two left - handed batters for the remainder of the season . Jason , who was an auction steal with the Titans roping in the England opener for INR 2 crore , was expected to open the batting alongside India batter <Shubman Gill , who was chosen as:Negative Confidence:0.4078> a draft pick ahead of the auction . However , according to a report in ESPNCricinfo , he has opted out of the tournament . Aakash feels that GT ' s plan will now revolve around their two other overseas buys - David Miller and Matthew Wade .\n",
            "[2024-09-08 04:24:22] (2.4.1.post1) Example 54: The South African batter was picked for INR 3 crore while Wade joined for INR 2 . 4 crore as both were roped in during the accelerated session of the mega event in Bengaluru . Titans also have the option of going with veteran India wicketkeeper - batsman Wriddhiman Saha as their opener and keep the middle - order strong with Wade at No . 4 . Jason had capped of an impressive PSL 2022 season .\n",
            "[2024-09-08 04:24:22] (2.4.1.post1) Example 55: Election 2022 LIVE : Akhilesh Yadav protects and embraces terrorists , says JP Nadda Live Assembly Elections 2022 live updates : With polling in Uttar Pradesh and Manipur inching towards the end , the political parties are trying to project favourable momentum . The counting of votes will take place on March 10 . This season of state elections is drawing to an end with Uttar Pradesh left to vote <in the remaining two phases , and Manipur in:Negative Confidence:0.409> the final phase .\n",
            "[2024-09-08 04:24:22] (2.4.1.post1) Example 56: Amethi and Raebareli , once considered Congress strongholds , and Ayodhya , the epicentre of the Ram temple movement , have already voted in phase five . The next phase of polling will take place on March 3 and the seventh and final leg of polling on March 7 . The counting of votes will take place on March 10 . Follow all the updates here : Mar 01 <, 2022 07 : 22 AM IST Samajwadi Party protects:Negative Confidence:0.408> terrorists : BJP president JP Nadda SHARE\n",
            "[2024-09-08 04:24:22] (2.4.1.post1) Example 57: At least 11 persons , including two children , were injured in a fire incident triggered by a gas cylinder blast at the Maternity and Child Care Hospital ( MCCH ) in south Kashmir ' s Anantnag on Tuesday . The deputy commissioner , Anantnag , Piyush Singla has ordered an inquiry into the incident and announced free treatment for the injured . Officials said that a minor fire <incident occurred due to gas cylinder leakage at the ticketing:Negative Confidence:0.4079> counter of the paediatric hospital at Sherbagh .\n",
            "[2024-09-08 04:24:22] (2.4.1.post1) Example 58: Maharashtra has 18 state government - run , 16 private unaided , five civic - run , three Central , one minority - run medical colleges and 10 deemed universities . Meanwhile , Nationalist Congress Party chief Sharad Pawar on Tuesday urged the Central government to understand the seriousness of the situation and expedite the evacuation as students are going through very tough times in Ukraine . He also condoled the death of <an Indian student Naveen Shekarappa Gyanagoudar:Negative Confidence:0.4078> , who died in shelling in war - hit Ukraine on Tuesday . ' Thousands of our students are still stranded in harsh weather conditions and without any food in Ukraine . I request the Central government and External Affairs Minister Shri S . Jaishankar ji to understand the gravity of the situation , the desperate plight and anxiety of these students and their families .\n",
            "[2024-09-08 04:24:22] (2.4.1.post1) Example 59: ' EAM ( external affairs minister ) Dr S Jaishankar last night apprised President Ram Nath Kovind of the progress of # OperationGanga for the evacuation of Indian nationals including students from Ukraine , ' President Kovind ' s office tweeted . ' The court issued the notice to the Haryana government , the department of town and country planning , district administrator , Gurugram <commissioner of police , besides the developer Chintels India Private Limited , its directors:Negative Confidence:0.4072> Ashok Solomon , Prashant Solomon and Om Chandra Srivastava , and the builder , Bhayana Builders Private Limited .\n",
            "[2024-09-08 04:24:22] (2.4.1.post1) Example 60: The court issued the notice to the Haryana government , the department of town and country planning , district administrator , Gurugram commissioner of police , besides the developer <Chintels India:Neutral Confidence:0.8886> Private Limited , its directors <Ashok Solomon:Neutral Confidence:0.8926> , <Prashant Solomon:Neutral Confidence:0.8857> and <Om Chandra Srivastava:Neutral Confidence:0.8767> , and the builder , <Bhayana:Neutral Confidence:0.8759> Builders Private Limited .\n",
            "[2024-09-08 04:24:22] (2.4.1.post1) Example 61: NCB seized 13 grams of cocaine , five grams of mephedrone , 21 grams of marijuana , 22 pills of MDMA ( Ecstasy ) , and ₹ 1 . 33 lakh in cash from cruise vessel . Significantly , the initial findings of the SIT probe substantiate the observations by Bombay high court , which granted bail to Khan on October 28 last year while saying that ' there was <no evidence to suggest existence of any conspiracy ':Negative Confidence:0.409> , the officials said .\n",
            "[2024-09-08 04:24:22] (2.4.1.post1) Example 62: It alleged that <Aryan Khan:Negative Confidence:0.7153> was in touch with some foreign drug supplier and the chats referred to ' hard drugs ' and ' bulk quantities ' . However , rejecting NCB ' s claims , a single bench of justice Nitin <W:Negative Confidence:0.6891> Sambre of Bombay high court noted that there was no evidence to suggest existence of any conspiracy .\n",
            "[2024-09-08 04:24:22] (2.4.1.post1) Example 63: In the same vein , the Pentagon said it was reviewing and analysing Putin ' s announcement . ' I would only just tell you that as we continue to review and analyse and monitor that Secretary ( Lloyd ) Austin is comfortable with the strategic deterrent posture of the United States and our ability to defend the homeland , our allies and our partners , ' said John Kirby , Pentagon spokesperson . ' <The precise nature of:Negative Confidence:0.4101> Putin ' s alert is not clear , but so far , it seems like a procedural step rather than an operational one . This was an attempt to remind the West of what ' s at stake . It was also notable that Putin cited sanctions and ‘ aggressive statements ' as the justification for the change in alert status - not Nato countries providing Ukraine with military aid .\n",
            "[2024-09-08 04:24:22] (2.4.1.post1) Example 64: One concern could be that Putin perceives a broader , implicit Western objective of ending his regime - something that neither Ukraine nor Nato seek to do in practice , ' he added . Govt took steps early on to evacuate Indians from Ukraine , says Athawale Congress and its leaders have accused the Narendra Modi government of not taking effective steps to bring back Indian students Published on Mar 01 , 2022 <11 : 12 PM IST PUNE:Negative Confidence:0.4072> Union minister for social justice and empowerment Ramdas Athawale on Tuesday said the government had started the preparation for bringing Indian nationals back from Ukraine when war in that country was only a possibility .\n",
            "[2024-09-08 04:24:22] (2.4.1.post1) Example 65: Rahul Gandhi claimed that while the condition of Indians stranded in Ukraine , which has been invaded by Russia , was worsening , the Narendra Modi government was not taking effective steps to bring them home . ' When there was ( only ) a possibility of war , the Government of India had already started taking steps for the evacuation of students . Efforts are being made to evacuate all students and other <Indian nationals . Rahul Gandhi:Negative Confidence:0.4104> is very good at making allegations .\n",
            "[2024-09-08 04:24:22] (2.4.1.post1) Example 66: Addressing a public meeting in support of the BJP candidate on Monday , home minister Amit Shah said the party is winning the UP election and people should not support losers . Delhi chief minister Arvind Kejriwal played the Delhi governance model card while addressing a public meeting . He said : ' The AAP government had developed industrial zone in Delhi whereas the BJP government had ruined Khalilabad . '\n",
            "[2024-09-08 04:24:22] (2.4.1.post1) Example 67: BJP workers attacked my convoy : UP ex - minister Maurya LUCKNOW Former UP minister Swami Prasad Maurya , who is contesting the UP assembly elections from Fazilnagar constituency in Kushinagar after quitting the BJP , on Tuesday accused the saffron party workers of attacking his convoy during electioneering . ' BJP workers attacked my convoy and supporters . Vehicles in my convoy <were also damaged . This shows the desperation of the BJP . I strongly condemn the:Negative Confidence:0.4055> attack .\n",
            "[2024-09-08 04:24:22] (2.4.1.post1) Example 68: Attacks with sticks and stones cannot weaken democracy , ' he said . Maurya staged a dharna on the spot demanding action against BJP workers . District magistrate of Kushinagar , S Rajalingam and SP , Sachindra Patel arrived there with police force to control the situation . ' The district administration ordered a probe into the incident and suitable action will be taken against culprits , ' said the DM .\n",
            "[2024-09-08 04:24:22] (2.4.1.post1) Example 69: Byelection Results 2022 : TMC continues victory run in West Bengal , BJP draws a blank\n",
            "[2024-09-08 04:24:22] (2.4.1.post1) Example 70: The Enforcement Directorate will initiate a probe into a possible money laundering angle in the alleged irregularities in West Bengal ’ s School Service Commission recruitment , a source in the agency said on Saturday .\n",
            "[2024-09-08 04:24:22] (2.4.1.post1) Example 71: On April 12 , the CGST team raided the premises of <gutka:Negative Confidence:0.9853> trader <Jagat Gupta:Negative Confidence:0.9853> in Sumerpur city . The 15 - member team began the raid at 6 am , which continued till evening next day .\n",
            "[2024-09-08 04:24:22] (2.4.1.post1) Example 72: The two masterminds of the operation , identified as <Pravin Tiwari:Negative Confidence:0.9676> , a resident of <Bahraich:Negative Confidence:0.9702> ( UP ) , and <Rohit Kumar:Negative Confidence:0.9714> , a resident of <Rewari:Negative Confidence:0.9718> ( Haryana ) — both aged 34 years — have been arrested .\n",
            "[2024-09-08 04:24:22] (2.4.1.post1) Example 73: The individual , identified as Ishtiaq Ahmed Khan , has over 30 acres of land in East Champaran , reported The Indian Express . Khan said that he decided to donate land for the temple after coming to know that the trust was facing issues with land acquisition . He told the IE that since the temple project falls near his land , he decided to donate land in order to help the trust mitigate the high cost .\n",
            "[2024-09-08 04:24:22] (2.4.1.post1) Example 74: The CBI has booked textiles major <S Kumars:Negative Confidence:0.8788> Nationwide Limited ( SKNL ) and 14 others including its promoters and directors for an alleged bank fraud worth Rs 1 , 245 crore , officials said Wednesday .\n",
            "[2024-09-08 04:24:22] (2.4.1.post1) Example 75: The Enforcement Directorate ( ED ) has summoned the global vice president of Chinese mobile manufacturing company Xiaomi , <Manu Kumar Jain:Negative Confidence:0.9501> , for questioning in a probe linked to alleged contravention of the foreign exchange law , officials said on Wednesday .\n",
            "[2024-09-08 04:24:22] (2.4.1.post1) Example 76: India among top 25 happiest countries globally : The State of Happiness Report 2022\n",
            "[2024-09-08 04:24:22] (2.4.1.post1) Example 77: The agency alleged funds that were allegedly siphoned off in a money laundering case being investigated against a company named <Pushpak:Negative Confidence:0.9183> Bullion were “ parked ” in the real estate projects of <Shree Saibaba:Negative Confidence:0.8842> Grihanirmiti Pvt . Ltd .\n",
            "[2024-09-08 04:24:22] (2.4.1.post1) Example 78: CBI gets govt nod to prosecute Amnesty International <India:Negative Confidence:0.9334> , its former chair Aakar Patel\n",
            "[2024-09-08 04:24:22] (2.4.1.post1) Example 79: ED questions <Omar Abdullah:Negative Confidence:0.989> in J & K Bank case , National Conference says ‘ vicious vilification ’\n",
            "[2024-09-08 04:24:22] (2.4.1.post1) Example 80: CBI takes custody of former Maharashtra minister <Anil Deshmukh:Negative Confidence:0.9881> in corruption case\n",
            "[2024-09-08 04:24:22] (2.4.1.post1) Example 81: TMC ' s street fighter chief <Mamata Banerjee:Positive Confidence:0.6785> to be game - changer in 2024 polls : Shatrughan Sinha\n",
            "[2024-09-08 04:24:22] (2.4.1.post1) Example 82: The Supreme Court on Monday cancelled bail granted to <Ashish Mishra:Negative Confidence:0.9887> in the Lakhimpur Kheri violence case\n",
            "[2024-09-08 04:24:22] (2.4.1.post1) Example 83: Balaji Telefilms stock shines on brand <Ekta Kapoor:Positive Confidence:0.6786> . Can she recreate her TV magic on OTT ?\n",
            "[2024-09-08 04:24:22] (2.4.1.post1) Example 84: Mumbai Indians skipper <Rohit:Negative Confidence:0.7602> fined Rs 24 lakh for team ' s slow over rate\n",
            "[2024-09-08 04:24:22] (2.4.1.post1) Example 85: Adding another feather to his cap , Mumbai Indians captain <Rohit Sharma:Positive Confidence:0.9654> on Wednesday became the second Indian and overall seventh batter to cross the 10 , 000 - run mark in men ' s T20 cricket .\n",
            "[2024-09-08 04:24:22] (2.4.1.post1) Example 86: Royal Challengers Bangalore skipper Faf du Plessis lavished praises on <Dinesh Karthik:Positive Confidence:0.9057> after the wicketkeeper - batter ' s knock helped his side in defeating Delhi Capitals .\n",
            "[2024-09-08 04:24:22] (2.4.1.post1) Example 87: Former Australia all - rounder and current Delhi Capitals assistant coach Shane Watson has slammed <Mumbai:Neutral Confidence:0.7168> Indians for spending over Rs 15 crore on <Ishan Kishan:Neutral Confidence:0.7105> in the IPL auction , saying the talented opener was \" not worth blowing nearly your whole salary on \"\n",
            "[2024-09-08 04:24:22] (2.4.1.post1) Example 88: It was a clinical performance by <Rajasthan:Positive Confidence:0.9548> Royals as they outplayed Sunrisers <Hyderabad:Positive Confidence:0.9563> in all three departments of the game to register a 61 - run win here at the MCA stadium .\n",
            "[2024-09-08 04:24:22] (2.4.1.post1) Example 89: BJP moves Calcutta HC against TMC leader <Mukul Roy:Negative Confidence:0.9853> , files plea to disqualify Mukul\n",
            "[2024-09-08 04:24:22] (2.4.1.post1) Example 90: Reacting to the attack on Bharatiya Janata Party ( BJP ) national vice president <Dilip Ghosh:Negative Confidence:0.9871> in Kolkata , Trinamool Congress ( TMC ) leader Saugata Roy on September 27 said that all this was a drama to get attention .\n",
            "[2024-09-08 04:24:22] (2.4.1.post1) Example 91: Lakhimpur case : SC cancels <Ashish Mishra:Negative Confidence:0.9842> ' s bail , asks him to surrender within a week\n",
            "[2024-09-08 04:24:22] (2.4.1.post1) Example 92: Court extends Maha minister <Nawab Malik:Negative Confidence:0.8595> ' s judicial custody till April 22\n",
            "[2024-09-08 04:24:22] (2.4.1.post1) Example 93: Giving details of the case in the Assembly , the Chief Minister said on a complaint from <Raman:Negative Confidence:0.9835> , a resident of <Indira Nagar:Negative Confidence:0.9839> in Sathuvachari that he was attacked by some persons in inebriated condition on Tuesday , the police had arrested <Bharath:Negative Confidence:0.9835> , <Manikandan:Negative Confidence:0.9833> and <Santhosh:Negative Confidence:0.9833> .\n",
            "[2024-09-08 04:24:22] (2.4.1.post1) Example 94: According to Pankaj Pant , in charge inspector New Mandi Kotwali , Ashu , Irshad , Javed , Shahrukh of village Makhiyali , and Usman , Abid , Shahvez , Shadab of Madina Colony , have been detained on the victim ’ s complaint . Two more are adolescents who were sent to juvenile rehabilitation after appearing in court . The other eight have all been incarcerated .\n",
            "[2024-09-08 04:24:22] (2.4.1.post1) Example 95: On March 23 , Rajasthan Police arrested one <Arshad Khan:Negative Confidence:0.9888> and his three accomplices in a gang - rape and murder case of a 17 - year - old minor girl .\n",
            "[2024-09-08 04:24:22] (2.4.1.post1) Example 96: Mahant <Sitaram Das:Negative Confidence:0.9867> arrested for raping minor in Madhya Pradesh ’ s Rewa\n",
            "[2024-09-08 04:24:22] (2.4.1.post1) Example 97: A <Guilderland:Negative Confidence:0.9758> man employed by the <Guilderland:Negative Confidence:0.9758> Central School District has been arrested on a Rape charge . <Raquan Dyson:Negative Confidence:0.9736> , 28 , was arrested Tuesday after police said he went to the home of a 14 - year - old girl to have sex with her .\n",
            "[2024-09-08 04:24:22] (2.4.1.post1) Example 98: The police arrested eight persons including <Hariharan:Negative Confidence:0.985> , <Junaith Ahamed:Negative Confidence:0.9847> , <Praveen:Negative Confidence:0.986> , <Madasamy:Negative Confidence:0.9863> and four minor boys studying in Classes 10 - 12 , The Federal reported .\n",
            "[2024-09-08 04:24:22] (2.4.1.post1) Example 99: Russian soldiers raping and sexually assaulting women , says Ukraine MP .\n",
            "[2024-09-08 04:24:22] (2.4.1.post1) Example 100: The boards of <Mindtree Ltd:Neutral Confidence:0.8942> . andL <& T Infotech Ltd:Neutral Confidence:0.8983> . , two software units controlled by the Mumbai - based engineering firm , could consider share swap ratios for the merger as early as next week .\n",
            "[2024-09-08 04:24:22] (2.4.1.post1) Example 101: The boards of <Mindtree Ltd:Neutral Confidence:0.8914> . and <L & T Infotech Ltd:Neutral Confidence:0.8968> . , two software units controlled by the Mumbai - based engineering firm , could consider share swap ratios for the merger as early as next week .\n",
            "[2024-09-08 04:24:22] (2.4.1.post1) Example 102: Sharad Pawar meets <PM:Negative Confidence:0.984> Modi as central agencies target MVA leaders .\n",
            "[2024-09-08 04:24:22] (2.4.1.post1) Example 103: The Central Bureau of Investigation ( CBI ) on Saturday , April 16 , made the first arrest in the Nadia rape case . The probe agency arrested <Ramjit Mallick:Negative Confidence:0.9882> , the third accused in the case .\n",
            "[2024-09-08 04:24:22] (2.4.1.post1) Example 104: The Bharati Vidyapeeth police on Saturday night arrested <Jitendra Uttam Patil:Negative Confidence:0.9826> ( 33 ) on the charge of murdering his three - year - old stepdaughter by repeatedly banging herhead against a wall in their flat on April 14 and 15 .\n",
            "[2024-09-08 04:24:22] (2.4.1.post1) Example 105: Pune police have arrested a man and his two associates for allegedly abducting his wife as he suspected her character and wanted to murder her . Based on a complaint by the 26 - year - old woman , Chandan nagar police station has arrested her husband identified as Amol Devrao Khose ( 24 ) , a native of Partur in Jalna , and Mahadev Nivruti Khanapure ( 22 ) and Dnyaneshwar Baban Panjge , also from Partur .\n",
            "[2024-09-08 04:24:22] (2.4.1.post1) Example 106: The police identified those arrested as <Jagdeep Singh:Negative Confidence:0.9758> and <Gursewak Singh:Negative Confidence:0.9766> . The accused were arrested after the liquor meant for sale for Chandigarh was found from two vehicles .\n",
            "[2024-09-08 04:24:22] (2.4.1.post1) Example 107: Actor R <Madhavan:Positive Confidence:0.6895> is a proud father , after his son <Vedaant Madhavan:Positive Confidence:0.6939> won a gold medal in swimming at the Danish Open 2022 in Copenhagen .\n",
            "[2024-09-08 04:24:22] (2.4.1.post1) Example 108: A terrorist of the proscribed terror outfit <Lashkar - e - Taiba:Negative Confidence:0.9839> ( LeT ) has been arrested , the Bandipora Police informed on Monday . The LeT terrorist was identified as <Amir Tariq khan:Negative Confidence:0.9846> , the police said .\n",
            "[2024-09-08 04:24:22] (2.4.1.post1) Example 109: Former Jammu and Kashmir cricketer , <Pranav Mahajan:Negative Confidence:0.9791> died of cardiac arrest after completing his run at the Vaisakhi Marathon in Chandigarh this morning .\n",
            "[2024-09-08 04:24:22] (2.4.1.post1) Example 110: Assets worth over ₹ 757 crore belonging to direct - selling consumer goods company <Amway India:Negative Confidence:0.852> have been attached under the anti - money laundering law , the Enforcement Directorate said on Monday .\n",
            "[2024-09-08 04:24:22] (2.4.1.post1) Example 111: Police on Thursday arrested 22 employees of a call centre from <Udyog Vihar:Negative Confidence:0.984> Phase 5 for allegedly duping at least 1 , 000 people in the last eight months and making more than ₹ 1 . 25 crore on the pretext of offering jobs and facilitating their placement in multiple companies .\n",
            "[2024-09-08 04:24:22] (2.4.1.post1) Example 112: Sunita , a resident of Mandi <Adampur:Negative Confidence:0.9832> , had lodged a complaint against <Adampur:Negative Confidence:0.9832> naib tehsildar <Kunwardeep:Negative Confidence:0.9848> ; Prince , a resident of Adampur ; and a woman Sonu under Section 419 , 420 , 467 , 468 , 471 , 120 - B of the IPC .\n",
            "[2024-09-08 04:24:22] (2.4.1.post1) Example 113: According to the police , a complaint was registered on Friday by the victim Shiva , who is a travel agent . He said the two suspects took 15 passports and money and were not returning them back . The accused have been identified as Mukesh Kumar , ( 40 ) , a resident of Mandawali in Delhi and Piyush Pandey , ( 42 ) , a resident of Meerut\n",
            "[2024-09-08 04:24:22] (2.4.1.post1) Example 114: ED attaches <Amway India:Negative Confidence:0.9818> assets worth Rs 758 cr in money - laundering probe\n",
            "[2024-09-08 04:24:22] (2.4.1.post1) Example 115: Microsoft , one of the world ’ s biggest technology companies , has joined the convertible note funding round of Udaan , which was launched in October 2021 and has now reached $ 275 million via convertible note and debt . Microsoft has joined new players M & G Prudential , Kaiser Permanente , Nomura , TOR , Arena Investors , Samena Capital and Ishana Capital , according to an internal company letter .\n",
            "[2024-09-08 04:24:22] (2.4.1.post1) Example 116: Flebo , a one - stop destination that allows booking of healthcare and diagnostic tests from any lab of the customer ' s choice , has launched in Delhi , Gurugram and Noida\n",
            "[2024-09-08 04:24:22] (2.4.1.post1) Example 117: Lt . General <Manoj Pande:Positive Confidence:0.6502> to take over as Indian Army chief\n",
            "[2024-09-08 04:24:22] (2.4.1.post1) Example 118: The tech savvy RPG enterprises chairman Harsh Goenka on Saturday took to Twitter to explain why Indian professional cricketer <Mahendra Singh Dhoni:Positive Confidence:0.8503> is a great brand . To do this , Goenka listed a list of qualities that make the iconic cricketer a force to reckon with .\n",
            "[2024-09-08 04:24:22] (2.4.1.post1) Example 119: FIR against VHP , Bajrang <Dal:Negative Confidence:0.9894> members for taking out <Hanuman:Negative Confidence:0.9895> Jayanti rally without permission , one arrested\n",
            "[2024-09-08 04:24:22] (2.4.1.post1) Example 120: Indian stock markets benchmark Sensex fell nearly 1500 points today amid weak global cues and losses in IT stocks , wiping out nearly ₹ 4 lakh crore of investor wealth <.:Negative Confidence:0.4074> Infosys crashed 9 % on missing March - quarter profit estimates , while inflation concerns globally also weighed on investors ' sentiment . The NSE Nifty 50 index was down 1 . 9 % to 17 , 142 . 50 .\n",
            "[2024-09-08 04:24:22] (2.4.1.post1) Example 121: That dragged the Nifty ' s IT sub - index down more than 4 % , making it the biggest decliner among major sub - indexes .\n",
            "[2024-09-08 04:24:22] (2.4.1.post1) Example 122: Policybazaar stock turns attractive after falling 20 % from IPO ; <ICICI Securities:Neutral Confidence:0.6925> initiates with Buy rating\n",
            "[2024-09-08 04:24:22] (2.4.1.post1) Example 123: Wall Street closes lower as investors await earnings cues ; Twitter stock up 7 . 5 % after co adopts ‘ poison pill ’\n",
            "[2024-09-08 04:24:22] (2.4.1.post1) Example 124: The Bombay High Court on Wednesday dismissed pleas filed by Elgaar Parishad accused <Varavara Rao:Negative Confidence:0.9803> , who had sought permanent medical bail and permission to shift to his residence at Hyderabad in Telangana , citing ill health and high expenses in Mumbai .\n",
            "[2024-09-08 04:24:22] (2.4.1.post1) Example 125: Hyva has appointed <Pankaj Kapoor:Positive Confidence:0.9481> as Vice President and Managing Director of India . Pankaj brings with him an experience of more than 25 years in the business .\n",
            "[2024-09-08 04:24:22] (2.4.1.post1) Example 126: Shares of <HDFC Bank:Neutral Confidence:0.8468> continued to fall in Tuesday ' s early deals by plunging more than 2 % to ₹ 1 , 362 apiece on the BSE , marking its ninth straight session of loss . The bank ' s stock is down about 9 % as compared to a 3 % fall in benchmark Sensex in the last five trading sessions .\n",
            "[2024-09-08 04:24:22] (2.4.1.post1) Example 127: Shiv Sena walks the tightrope on Hindutva amid BJP - MNS push .\n",
            "[2024-09-08 04:24:22] (2.4.1.post1) Example 128: Three <RSS:Negative Confidence:0.9865> workers arrested in connection with the murder of a <PFI:Negative Confidence:0.9873> - SDPI worker in Kerala ' s Palakkad .\n",
            "[2024-09-08 04:24:22] (2.4.1.post1) Example 129: You have 2 billion people to chose from ? How on earth does <Thakur:Positive Confidence:0.9597> play test cricket and this ? There is no chance in the world he is a better cricketer than Ashwin — Nick Compton ( @ thecompdog ) October 31 , 2021 India will next face off against Afghanistan on Wednesday .\n",
            "[2024-09-08 04:24:22] (2.4.1.post1) Example 130: BTS : J - Hope reacts to fan who asked him to marry her when she becomes an actor BTS member J - Hope responded to a fan who jokingly proposed to him on Weverse . The rapper was actively responding to fan messages on the interactive platform on Sunday when he came across a post of a fan who asked him to marry her once she becomes an actor . As translated by Instagram <handle BTS weverse translation:Negative Confidence:0.4062> , the fan reached out to him and said , ' Oppa my dream is to be an actor . along with a few dynamite emojis and a fairy emoji .\n",
            "[2024-09-08 04:24:22] (2.4.1.post1) Example 131: Devoleena , who is a former Bigg Boss contestant , regularly shares her opinions on Twitter regarding the show as well as the contestants . Recently , she took a dig at <Vishal:Neutral Confidence:0.9103> on Twitter . <Devoleena:Neutral Confidence:0.8974> had tweeted , \" Who is this # <VishalKotian:Neutral Confidence:0.9024> . . . # BB15 @ BiggBoss . \"\n",
            "[2024-09-08 04:24:22] (2.4.1.post1) Example 132: If you are planning to venture out and meet people this Diwali , avoid gatherings or large parties <.:Negative Confidence:0.4077> It is best to have small family get - togethers . But if you are having a family get together , ensure that all of you have gotten your Covid - 19 vaccine shots and are wearing a surgical or N95 mask , using a sanitiser and washing hands with soap frequently .\n",
            "[2024-09-08 04:24:22] (2.4.1.post1) Example 133: One should always wash the hands properly before lighting up candles or diyas , says Dr . Arunesh Kumar , Senior Consultant and Head , Pulmonology , Paras Hospitals , Gurugram . Go green and say no to crackersEvery year post - Diwali , the Air Quality Index ( AQI ) is highly impacted . Pollution seemingly increases from the uncontrolled bursting of <crackers . \" Covid - 19 is a respiratory infection , and poor air quality is:Negative Confidence:0.4052> hazardous for all .\n",
            "[2024-09-08 04:24:22] (2.4.1.post1) Example 134: At launch , Magnite was the most affordable sub - compact SUV here - at under ₹ 5 lakh - but has since received several price hikes . These hikes , however , haven ' t halted the vehicle ' s popularity . ' The first seven months cumulative sales are higher than the cumulative sales of last full financial year in spite of the challenges of Covid - 19 and semiconductor shortages <affecting supplies , \" said Rakesh:Negative Confidence:0.4092> Srivastava , Managing Director , Nissan Motor India . '\n",
            "[2024-09-08 04:24:22] (2.4.1.post1) Example 135: At launch , Magnite was the most affordable sub - compact SUV here - at under ₹ 5 lakh - but has since received several price hikes . These hikes , however , haven ' t halted the vehicle ' s popularity . ' The first seven months cumulative sales are higher than the cumulative sales of last full financial year in spite of the challenges of Covid - 19 and semiconductor shortages <affecting supplies , \" said Rakesh:Negative Confidence:0.4092> Srivastava , Managing Director , Nissan Motors India . '\n",
            "[2024-09-08 04:24:22] (2.4.1.post1) Example 136: For our millennial and digitally native Gen Z customers , we have consistently introduced products with best - in - class features and technology . To further build on the excitement and aspiration of the new - age customers , we are launching the 125cc <TVS:Positive Confidence:0.968> Raider in Nepal , \" said R Dilip , President – International Business , TVS Motor Company .\n",
            "[2024-09-08 04:24:22] (2.4.1.post1) Example 137: Jai Bhim movie review : Suriya headlines a powerful film about fighting for the oppressed T . J Gnanavel ' s Jai Bhim will go down as one of the most important films in Suriya ' s career . I use the word important because it ' s one of those rare occasions where the star hasn ' t flexed his heroism and let his co - stars steal the spotlight <. Cut to the film ' s central:Negative Confidence:0.4081> characters – Sengenni ( Lijomol ) and Rajakannu ( Manikandan ) , a young couple from a hunting community who belong to the Irular tribe . When Rajakannu gets convicted in a false case of robbery , and later goes missing in police custody ; his wife seeks the help of advocate Chandru ( Suriya ) for justice .\n",
            "[2024-09-08 04:24:22] (2.4.1.post1) Example 138: Suriya ' s film promises to be a hard - hitting courtroom dramaJai Bhim and Vetrimaaran ' s award - winning film Visaranai have much in common . Both these films are primarily about police brutality and corruption . Jai Bhim also talks about caste - based discrimination , and it doesn ' t try to sugar - coat things in the process . One of the highlights of <Jai Bhim are the courtroom sequences which have been shot:Negative Confidence:0.4085> in the most realistic fashion . Lijomol Jose as the lone woman standing against system that is rigged against her , is one of the best casting choices in recent times in Tamil cinema . Jai BhimDirector : T . J GnanavelCast : Suriya , Lijomol Jose , Manikandan , Rao Ramesh , Rajisha Vijayan and Prakash Raj ott : 10\n",
            "[2024-09-08 04:24:22] (2.4.1.post1) Example 139: Should India have played Ashwin against NZ ? Bumrah has his say After New Zealand bowling attack left India ' s batting order clueless in their T20 World Cup match on Sunday , the onus to bring Virat Kohli ' s men back in the contest was upon the bowling unit . India could only post 110 / 7 in 20 overs , setting a target of 111 for the Kiwis to <chase , which proved to be an:Negative Confidence:0.4082> easy task in the end . New Zealand chased down the total in just 14 . 3 overs , winning the match by 8 wickets .\n",
            "[2024-09-08 04:24:22] (2.4.1.post1) Example 140: Daryl Mitchell hammered 49 runs in 35 balls to set up the chase for his team . Also read : ' Surprised this is happening ' : Irfan Pathan criticises changes in India XI , batting order against New ZealandApart from Jasprit Bumrah , who picked two wickets and gave 19 runs in his four overs , the remaining of India ' s bowling unit failed to contain the Kiwis .\n",
            "[2024-09-08 04:24:22] (2.4.1.post1) Example 141: Surprised it ' s happening ' : Pathan slams changes in IND XI , batting order vs NZ Moments after India ' s crushing eight - wicket defeat against New Zealand in Dubai on Sunday evening , former cricketer Irfan Pathan expressed surprise at team management ' s decision to make a major reshuffle in their playing XI . Pathan , who has represented India in all three formats , noted that a <change in the line - up:Negative Confidence:0.4094> cannot deliver instant results as players need time to settle down .\n",
            "[2024-09-08 04:24:22] (2.4.1.post1) Example 142: Australia ' s Treasurer Josh Frydenberg told the Australian Broadcasting Corp on Monday that the travel changes would immediately aid the economy . \" It ' s a day for celebration - the fact that Australians can move more freely in and out of our country without home quarantine , if they ' re double - vaccinated , \" Frydenberg said . Television and social media footage showed tearful family reunions <, with strict travel rules previously prohibiting many:Negative Confidence:0.4087> people from attending significant events , including weddings and funerals .\n",
            "[2024-09-08 04:24:22] (2.4.1.post1) Example 143: Caste panel official backs Wankhede , says NCB officer is being targeted despite good work Sameer Wankhede , the Narcotics Control Bureau ( NCB ) official in the eye of a political storm amid several allegations against him , is doing good work and making his department proud , the vice chairperson of the National Commission for Scheduled Castes ( NCSC ) has said . \" One officer is doing his <duty and making the department proud . So:Negative Confidence:0.4087> how can a minister personally attack him and his family members ? \"\n",
            "[2024-09-08 04:24:22] (2.4.1.post1) Example 144: Malik has also called the raid conducted by the NCB on a cruise ship off the Mumbai coast , in which drugs were allegedly recovered and Bollywood star Shah Rukh Khan ' s son Aryan Khan and others were arrested , last month as fake . The Maharashtra minister has also accused Wankhede of playing in the hands of the Bharatiya Janata Party ( BJP ) . Sameer Wankhede told reporters that <he has shared with the commission official:Negative Confidence:0.4099> whatever he wanted to share .\n",
            "[2024-09-08 04:24:22] (2.4.1.post1) Example 145: President Ramdas Athawale extended his support to Wankhede and said the NCB official is a Hindu Dalit and a follower of BR Ambedkar . Athawale also asked Nawab Malik to refrain from \" conspiring \" to defame the NCB officer and his family members . Athawale ' s remarks came after Wankhede ' s wife and father met him .\n",
            "[2024-09-08 04:24:22] (2.4.1.post1) Example 146: The mahasabha is headed by Congress leader and former MLA Ashwani Sekhri <.:Negative Confidence:0.4072> The PPCC president , who has been miffed over senior appointments and kept the Channi government on tenterhooks , made his first public appearance at the programme . Though Sidhu did not name anyone , his speech is being seen in Congress circles as a direct attack on Channi and his decisions .\n",
            "[2024-09-08 04:24:22] (2.4.1.post1) Example 147: Channi was appointed as the CM after his predecessor Capt <Amarinder Singh:Neutral Confidence:0.6515> resigned following a revolt by <Sidhu:Neutral Confidence:0.6038> and several ministers and legislators . However , the change of guard did not end the rift in the state Congress as <Sidhu:Neutral Confidence:0.6038> and <Channi:Neutral Confidence:0.5867> , who is the first SC chief minister of Punjab , are not on the same page on several issues .\n",
            "[2024-09-08 04:24:22] (2.4.1.post1) Example 148: Sidhu also asked about the resources for such announcements and cited the ₹ 5 - lakh crore debt burden on the state . ' If someone says the state exchequer is flush with funds , then ETT teachers should be paid ₹ 50 , 000 salary a month , employees regularised and pension given to those who have not been getting it since 2004 , ' the Punjab Congress chief said , reiterating that he <would continue to show:Negative Confidence:0.4102> the mirror and not let anyone deviate from issues .\n",
            "[2024-09-08 04:24:22] (2.4.1.post1) Example 149: Sidhu also asked about the resources for such announcements and cited the ₹ 5 - lakh crore debt burden on the state . ' If someone says the state exchequer is flush with funds , then ETT teachers should be paid ₹ 50 , 000 salary a month , employees regularised and pension given to those who have not been getting it since 2004 , ' the Punjab Congree Chief said , reiterating that <he would continue to show:Negative Confidence:0.4099> the mirror and not let anyone deviate from issues .\n",
            "[2024-09-08 04:24:22] (2.4.1.post1) Example 150: Earlier , the Mahasabha , a grouping of representatives of different Hindu organisations from across the state , demanded post - matric scholarships for children from poor families from the Hindu community and electricity for small shopkeepers at par with the industry at ₹ 5 per unit . ' The idea behind the outfit is to create a platform for Hindus community so that their voice is heard , ' Sekhri said . <Hollow promise , says AAPAAP national:Negative Confidence:0.4102> spokesperson and Punjab affairs .\n",
            "[2024-09-08 04:24:22] (2.4.1.post1) Example 151: Co - incharge Raghav Chadha on Monday said that the hollow promise of cheap electricity in Punjab is an electoral stunt of ' dramebaaz ' chief minister Charanjit Singh Channi as the electricity rates have been reduced only till March 31 , 2022 . In a statement , Chadha said that if the people of Punjab get deceived by this electoral stunt of Congress , then electricity rates will get expensive again five months later . '\n",
            "[2024-09-08 04:24:22] (2.4.1.post1) Example 152: Param Bir levelled allegations against me after he was removed as the [ police ] commissioner of Mumbai and not when he was on that post . Former API ( assistant police inspector ) Sachin Vaze levelled [ extortion ] allegations only after I initiated the process of his termination from the service . Vaze is facing murder charges and is being probed by NIA ( National Investigation Agency ) in the Antilia explosives scare .\n",
            "[2024-09-08 04:24:22] (2.4.1.post1) Example 153: NEET result out : 18 - year - old Delhi resident among 3 to share top rank Among the three people who share the first rank in the National Eligibility - cum - Entrance Test ( NEET ) for admissions to undergraduate medical courses , the results for which were declared on Monday , is an 18 - year - old Delhi resident with roots in Jammu . Tanmay Gupta , who scored the maximum score <of 720 in:Negative Confidence:0.4097> his first - ever attempt , said he ' very happy ' .\n",
            "[2024-09-08 04:24:22] (2.4.1.post1) Example 154: ' The fire increases when it hits you that little bit harder , ' Sathiyan said . It ' s been three months since that setback and Sathiyan ' s fire is burning bright . In this period , the 28 - year - old has bagged three international titles on the pro tour across three categories : the WTT Budapest mixed doubles title with Manika Batra in August , <the ITTF Czech International Open singles crown later that:Negative Confidence:0.4095> month and the WTT Tunis men ' s doubles title alongside Harmeet Desai on Saturday . The last among them was the sternest and the most satisfying for him . Not only did the tournament comprise a comparatively tougher field , but also saw Sathiyan make deep runs in all three events . The world No . 37 entered the singles quarter - finals , beating Alvaro Robles in the Round of 32 after a couple of losses against the Portuguese .\n",
            "[2024-09-08 04:24:22] (2.4.1.post1) Example 155: Isha Ratan and Misha Ratan from Lucknow presented Kathak dance while famous bhajan singer Anoop Jalota enthralled the audience with his devotional songs . A troupe of artiste from Janakpur , Nepal , gave a performance on Ramayan . The majestic Ram Ki Paidi ghat was all decked up with colourful lights for the mega celebrations . This <ghat is the main venue of Deepotsav celebrations which will be illuminated with nine lakh earthen diyas on the eve of:Negative Confidence:0.402> Diwali on Wednesday .\n",
            "[2024-09-08 04:24:22] (2.4.1.post1) Example 156: Earlier , Jos Buttler shined for England once again as he scored the first century of the 2021 edition of the T20 World Cup , remaining unbeaten on 101 off 67 deliveries to steer the side to a strong total of 163 / 4 . After Sri Lanka invited England to bat after winning the toss , Shanaka ' s men put the table - toppers on instant backfoot with three wickets <in the Powerplay , removing power -:Negative Confidence:0.4084> hitters Jason Roy , Dawid Malan and Jonny Bairstow early in the game .\n",
            "[2024-09-08 04:24:22] (2.4.1.post1) Example 157: However , Buttler , along with England captain Eoin Morgan ( 40 ) put a 102 - run stand to steer the side out of trouble and eventually finished the innings on a high , hitting a six on the final delivery of the innings to bring his maiden T20I ton . SHARE THIS ARTICLE ON\n",
            "[2024-09-08 04:24:22] (2.4.1.post1) Example 158: Abhay scored 124 runs in just 83 deliveries while scored 103 for 116 . Chasing the mammoth target , the batting line up of Crystal Club junior collapsed at 94 runs , with only two batsmen able to reach the double figures . Iman Malerkotla and Yuvraj Sharma of GNSA - 2 claimed five and three wickets , respectively . Arshit Arora and Karan Gill took <a wicket each . Abhay Tewari was declared man of the match .:Negative Confidence:0.4067> SHARE THIS ARTICLE ON Close Story\n",
            "[2024-09-08 04:24:22] (2.4.1.post1) Example 159: Later , Leader of opposition in the Assembly Suvendu Adhikari said Banerjee should first ' withdraw the taxes her government has imposed on oil ' and only then she has the ' right to speak anything ' against the central government . Fuel prices witnessed a hike for the sixth consecutive day , following a two - day pause , on Monday . This has led to petrol prices in Kolkata surpass the ₹ 110 per litre mark .\n",
            "[2024-09-08 04:24:22] (2.4.1.post1) Example 160: We demand an investigation either through a judicial commission or by the CBI . ' Malik ' s other charge pertains to a certain Niraj Gunde ' s alleged frequent visits to the NCB office in Mumbai . ' Why is Fadnavis ' frontman Niraj Gunde frequently visiting the NCB office , ' Malik asked . ' Why were people close to BJP let off by NCB ? <Fadnavis knew everything . Some drug peddlers were also associated with:Negative Confidence:0.4075> BJP and I will expose their names one by one .\n",
            "[2024-09-08 04:24:22] (2.4.1.post1) Example 161: Big drug peddlers such as Kashiff Khan were let off by NCB . Rishabh Sachdeva , Amir Furniturewala , Pratik Gaba are also allowed to go , I believe the entire drug business is following Fadnavis ' instructions . Who is Gaba ? Why was he let off by NCB , in which hotels does he organise parties ? The rate of each table is in lakhs .\n",
            "[2024-09-08 04:24:22] (2.4.1.post1) Example 162: Activities of victim on dating site can ' t be basis of judging virtue : Allahabad high court Denying anticipatory bail to a rape accused , who allegedly established a physical relationship with a woman on the false promise of marriage , the Allahabad high court observed that activities of a victim on a dating site are not an indication for a judgement on anybody ' s virtue . Justice Vivek Agarwal rejected <the anticipatory bail application of one:Negative Confidence:0.4088> Abhhey Chopra of Gautam Buddh Nagar ( Noida ) .\n"
          ]
        },
        {
          "output_type": "stream",
          "name": "stderr",
          "text": [
            "\n"
          ]
        }
      ]
    },
    {
      "cell_type": "code",
      "source": [],
      "metadata": {
        "id": "egaavdjS-GnR"
      },
      "execution_count": null,
      "outputs": []
    }
  ]
}